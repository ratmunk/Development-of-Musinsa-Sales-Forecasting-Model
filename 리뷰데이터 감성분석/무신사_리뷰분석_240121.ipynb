{
  "cells": [
    {
      "cell_type": "code",
      "execution_count": null,
      "metadata": {
        "id": "KP2pvJlbqNG9"
      },
      "outputs": [],
      "source": [
        "import re\n",
        "import copy\n",
        "import nltk\n",
        "import pandas as pd\n",
        "import numpy as np\n",
        "import konlpy\n",
        "import matplotlib.pyplot as plt\n",
        "from konlpy.tag import Okt\n",
        "from wordcloud import WordCloud, STOPWORDS"
      ]
    },
    {
      "cell_type": "code",
      "execution_count": null,
      "metadata": {
        "id": "7mM0riR6qNHB",
        "outputId": "423fe8e2-360f-4566-8221-142d5d960ec0"
      },
      "outputs": [
        {
          "data": {
            "text/html": [
              "<div>\n",
              "<style scoped>\n",
              "    .dataframe tbody tr th:only-of-type {\n",
              "        vertical-align: middle;\n",
              "    }\n",
              "\n",
              "    .dataframe tbody tr th {\n",
              "        vertical-align: top;\n",
              "    }\n",
              "\n",
              "    .dataframe thead th {\n",
              "        text-align: right;\n",
              "    }\n",
              "</style>\n",
              "<table border=\"1\" class=\"dataframe\">\n",
              "  <thead>\n",
              "    <tr style=\"text-align: right;\">\n",
              "      <th></th>\n",
              "      <th>product_names</th>\n",
              "      <th>product_ids</th>\n",
              "      <th>user_names</th>\n",
              "      <th>user_ratings</th>\n",
              "      <th>user_reviews</th>\n",
              "    </tr>\n",
              "  </thead>\n",
              "  <tbody>\n",
              "    <tr>\n",
              "      <th>0</th>\n",
              "      <td>[기모버전추가]시그니처 오버핏 맨투맨(4col)</td>\n",
              "      <td>P00000NE</td>\n",
              "      <td>뉴비_cc4a349fa2d6</td>\n",
              "      <td>100</td>\n",
              "      <td>색상무난하고 기본스타일의 맨투맨입니다편해요</td>\n",
              "    </tr>\n",
              "    <tr>\n",
              "      <th>1</th>\n",
              "      <td>[기모버전추가]시그니처 오버핏 맨투맨(4col)</td>\n",
              "      <td>P00000NE</td>\n",
              "      <td>은비파파</td>\n",
              "      <td>100</td>\n",
              "      <td>기모인줄 알고 구입했는데 기모가 아니네요. 그럼에도 두께감도있고 기모가 아니라 부해...</td>\n",
              "    </tr>\n",
              "    <tr>\n",
              "      <th>2</th>\n",
              "      <td>[기모버전추가]시그니처 오버핏 맨투맨(4col)</td>\n",
              "      <td>P00000NE</td>\n",
              "      <td>거누임니닷</td>\n",
              "      <td>100</td>\n",
              "      <td>옷 색감이 딱 생각한거라 너무 좋아요 추천합니다!</td>\n",
              "    </tr>\n",
              "    <tr>\n",
              "      <th>3</th>\n",
              "      <td>[기모버전추가]시그니처 오버핏 맨투맨(4col)</td>\n",
              "      <td>P00000NE</td>\n",
              "      <td>뉴비_e3698f46</td>\n",
              "      <td>100</td>\n",
              "      <td>오빠 선물로 간단하게 샀는데 제가 탐나서 입어보니 아방한 핏에 괜찮길래 잠깐 어디 ...</td>\n",
              "    </tr>\n",
              "    <tr>\n",
              "      <th>4</th>\n",
              "      <td>[기모버전추가]시그니처 오버핏 맨투맨(4col)</td>\n",
              "      <td>P00000NE</td>\n",
              "      <td>고생끝에골병난다</td>\n",
              "      <td>100</td>\n",
              "      <td>재입고 때문인지 배송이 많이 느렸는데 입어보니 소재나 핏이나 너무 맘에 들어서 잘 ...</td>\n",
              "    </tr>\n",
              "    <tr>\n",
              "      <th>...</th>\n",
              "      <td>...</td>\n",
              "      <td>...</td>\n",
              "      <td>...</td>\n",
              "      <td>...</td>\n",
              "      <td>...</td>\n",
              "    </tr>\n",
              "    <tr>\n",
              "      <th>19708</th>\n",
              "      <td>테이퍼드 밴딩 치노 팬츠 [BEIGE]</td>\n",
              "      <td>DFPT2104BE</td>\n",
              "      <td>뉴비_dacde6304aba</td>\n",
              "      <td>60</td>\n",
              "      <td>음...일단 좀 작드라고요 한단계 큰거사야할듯구굿</td>\n",
              "    </tr>\n",
              "    <tr>\n",
              "      <th>19709</th>\n",
              "      <td>테이퍼드 밴딩 치노 팬츠 [BEIGE]</td>\n",
              "      <td>DFPT2104BE</td>\n",
              "      <td>SJ0314</td>\n",
              "      <td>60</td>\n",
              "      <td>밴딩 슬랙슨데 허리가 생각보다 많이 작고 많이 늘러주진 못해요</td>\n",
              "    </tr>\n",
              "    <tr>\n",
              "      <th>19710</th>\n",
              "      <td>테이퍼드 밴딩 치노 팬츠 [BEIGE]</td>\n",
              "      <td>DFPT2104BE</td>\n",
              "      <td>뉴비_1344cc7d</td>\n",
              "      <td>60</td>\n",
              "      <td>색감은 화면에서 봤던거보다 살짝 더 누렇고 밝은 느낌이 있어요. 허리 벨트넣는부분이...</td>\n",
              "    </tr>\n",
              "    <tr>\n",
              "      <th>19711</th>\n",
              "      <td>테이퍼드 밴딩 치노 팬츠 [BEIGE]</td>\n",
              "      <td>DFPT2104BE</td>\n",
              "      <td>wwk1113</td>\n",
              "      <td>60</td>\n",
              "      <td>화면보다 좀 어두워요 연한 베이지는 아니에요 그래도 잘 입겠습니다.</td>\n",
              "    </tr>\n",
              "    <tr>\n",
              "      <th>19712</th>\n",
              "      <td>테이퍼드 밴딩 치노 팬츠 [BEIGE]</td>\n",
              "      <td>DFPT2104BE</td>\n",
              "      <td>무쇠종아리</td>\n",
              "      <td>60</td>\n",
              "      <td>생각보다 기장이 살짝 길어서 애매한 기장이 되버렸음....신발 위로 이쁘게 올라오는...</td>\n",
              "    </tr>\n",
              "  </tbody>\n",
              "</table>\n",
              "<p>19713 rows × 5 columns</p>\n",
              "</div>"
            ],
            "text/plain": [
              "                    product_names product_ids       user_names  user_ratings  \\\n",
              "0      [기모버전추가]시그니처 오버핏 맨투맨(4col)    P00000NE  뉴비_cc4a349fa2d6           100   \n",
              "1      [기모버전추가]시그니처 오버핏 맨투맨(4col)    P00000NE             은비파파           100   \n",
              "2      [기모버전추가]시그니처 오버핏 맨투맨(4col)    P00000NE            거누임니닷           100   \n",
              "3      [기모버전추가]시그니처 오버핏 맨투맨(4col)    P00000NE      뉴비_e3698f46           100   \n",
              "4      [기모버전추가]시그니처 오버핏 맨투맨(4col)    P00000NE         고생끝에골병난다           100   \n",
              "...                           ...         ...              ...           ...   \n",
              "19708       테이퍼드 밴딩 치노 팬츠 [BEIGE]  DFPT2104BE  뉴비_dacde6304aba            60   \n",
              "19709       테이퍼드 밴딩 치노 팬츠 [BEIGE]  DFPT2104BE           SJ0314            60   \n",
              "19710       테이퍼드 밴딩 치노 팬츠 [BEIGE]  DFPT2104BE      뉴비_1344cc7d            60   \n",
              "19711       테이퍼드 밴딩 치노 팬츠 [BEIGE]  DFPT2104BE          wwk1113            60   \n",
              "19712       테이퍼드 밴딩 치노 팬츠 [BEIGE]  DFPT2104BE            무쇠종아리            60   \n",
              "\n",
              "                                            user_reviews  \n",
              "0                                색상무난하고 기본스타일의 맨투맨입니다편해요  \n",
              "1      기모인줄 알고 구입했는데 기모가 아니네요. 그럼에도 두께감도있고 기모가 아니라 부해...  \n",
              "2                            옷 색감이 딱 생각한거라 너무 좋아요 추천합니다!  \n",
              "3      오빠 선물로 간단하게 샀는데 제가 탐나서 입어보니 아방한 핏에 괜찮길래 잠깐 어디 ...  \n",
              "4      재입고 때문인지 배송이 많이 느렸는데 입어보니 소재나 핏이나 너무 맘에 들어서 잘 ...  \n",
              "...                                                  ...  \n",
              "19708                        음...일단 좀 작드라고요 한단계 큰거사야할듯구굿  \n",
              "19709                 밴딩 슬랙슨데 허리가 생각보다 많이 작고 많이 늘러주진 못해요  \n",
              "19710  색감은 화면에서 봤던거보다 살짝 더 누렇고 밝은 느낌이 있어요. 허리 벨트넣는부분이...  \n",
              "19711              화면보다 좀 어두워요 연한 베이지는 아니에요 그래도 잘 입겠습니다.  \n",
              "19712  생각보다 기장이 살짝 길어서 애매한 기장이 되버렸음....신발 위로 이쁘게 올라오는...  \n",
              "\n",
              "[19713 rows x 5 columns]"
            ]
          },
          "execution_count": 3,
          "metadata": {},
          "output_type": "execute_result"
        }
      ],
      "source": [
        "df_raw = pd.read_csv('./csv/traindf_musinsa_review_raw_240117.csv', sep=',', encoding='utf-8', index_col=0)\n",
        "df_raw"
      ]
    },
    {
      "cell_type": "code",
      "execution_count": null,
      "metadata": {
        "id": "AGceUR3LqNHC",
        "outputId": "74afb5a4-468d-41f2-e935-57f612c70aa7"
      },
      "outputs": [
        {
          "data": {
            "text/plain": [
              "(19713, 5)"
            ]
          },
          "execution_count": 4,
          "metadata": {},
          "output_type": "execute_result"
        }
      ],
      "source": [
        "df_raw.drop_duplicates(keep='first', inplace=True, ignore_index=True)\n",
        "df_raw.shape"
      ]
    },
    {
      "cell_type": "markdown",
      "metadata": {
        "id": "O3ZDiU7mqNHD"
      },
      "source": [
        "### 레이블 달기"
      ]
    },
    {
      "cell_type": "code",
      "execution_count": null,
      "metadata": {
        "id": "x_493D3RqNHF"
      },
      "outputs": [],
      "source": [
        "#백업\n",
        "backup = df_raw.copy()\n",
        "df = backup.copy()"
      ]
    },
    {
      "cell_type": "code",
      "execution_count": null,
      "metadata": {
        "id": "ScaOSvspqNHF",
        "outputId": "04be8583-4b4b-46cd-e924-3c5cc72bebb6"
      },
      "outputs": [
        {
          "data": {
            "text/html": [
              "<div>\n",
              "<style scoped>\n",
              "    .dataframe tbody tr th:only-of-type {\n",
              "        vertical-align: middle;\n",
              "    }\n",
              "\n",
              "    .dataframe tbody tr th {\n",
              "        vertical-align: top;\n",
              "    }\n",
              "\n",
              "    .dataframe thead th {\n",
              "        text-align: right;\n",
              "    }\n",
              "</style>\n",
              "<table border=\"1\" class=\"dataframe\">\n",
              "  <thead>\n",
              "    <tr style=\"text-align: right;\">\n",
              "      <th></th>\n",
              "      <th>product_names</th>\n",
              "      <th>product_ids</th>\n",
              "      <th>user_names</th>\n",
              "      <th>user_ratings</th>\n",
              "      <th>user_reviews</th>\n",
              "      <th>label</th>\n",
              "    </tr>\n",
              "  </thead>\n",
              "  <tbody>\n",
              "    <tr>\n",
              "      <th>0</th>\n",
              "      <td>[기모버전추가]시그니처 오버핏 맨투맨(4col)</td>\n",
              "      <td>P00000NE</td>\n",
              "      <td>뉴비_cc4a349fa2d6</td>\n",
              "      <td>100</td>\n",
              "      <td>색상무난하고 기본스타일의 맨투맨입니다편해요</td>\n",
              "      <td>pos</td>\n",
              "    </tr>\n",
              "    <tr>\n",
              "      <th>1</th>\n",
              "      <td>[기모버전추가]시그니처 오버핏 맨투맨(4col)</td>\n",
              "      <td>P00000NE</td>\n",
              "      <td>은비파파</td>\n",
              "      <td>100</td>\n",
              "      <td>기모인줄 알고 구입했는데 기모가 아니네요. 그럼에도 두께감도있고 기모가 아니라 부해...</td>\n",
              "      <td>pos</td>\n",
              "    </tr>\n",
              "    <tr>\n",
              "      <th>2</th>\n",
              "      <td>[기모버전추가]시그니처 오버핏 맨투맨(4col)</td>\n",
              "      <td>P00000NE</td>\n",
              "      <td>거누임니닷</td>\n",
              "      <td>100</td>\n",
              "      <td>옷 색감이 딱 생각한거라 너무 좋아요 추천합니다!</td>\n",
              "      <td>pos</td>\n",
              "    </tr>\n",
              "    <tr>\n",
              "      <th>3</th>\n",
              "      <td>[기모버전추가]시그니처 오버핏 맨투맨(4col)</td>\n",
              "      <td>P00000NE</td>\n",
              "      <td>뉴비_e3698f46</td>\n",
              "      <td>100</td>\n",
              "      <td>오빠 선물로 간단하게 샀는데 제가 탐나서 입어보니 아방한 핏에 괜찮길래 잠깐 어디 ...</td>\n",
              "      <td>pos</td>\n",
              "    </tr>\n",
              "    <tr>\n",
              "      <th>4</th>\n",
              "      <td>[기모버전추가]시그니처 오버핏 맨투맨(4col)</td>\n",
              "      <td>P00000NE</td>\n",
              "      <td>고생끝에골병난다</td>\n",
              "      <td>100</td>\n",
              "      <td>재입고 때문인지 배송이 많이 느렸는데 입어보니 소재나 핏이나 너무 맘에 들어서 잘 ...</td>\n",
              "      <td>pos</td>\n",
              "    </tr>\n",
              "  </tbody>\n",
              "</table>\n",
              "</div>"
            ],
            "text/plain": [
              "                product_names product_ids       user_names  user_ratings  \\\n",
              "0  [기모버전추가]시그니처 오버핏 맨투맨(4col)    P00000NE  뉴비_cc4a349fa2d6           100   \n",
              "1  [기모버전추가]시그니처 오버핏 맨투맨(4col)    P00000NE             은비파파           100   \n",
              "2  [기모버전추가]시그니처 오버핏 맨투맨(4col)    P00000NE            거누임니닷           100   \n",
              "3  [기모버전추가]시그니처 오버핏 맨투맨(4col)    P00000NE      뉴비_e3698f46           100   \n",
              "4  [기모버전추가]시그니처 오버핏 맨투맨(4col)    P00000NE         고생끝에골병난다           100   \n",
              "\n",
              "                                        user_reviews label  \n",
              "0                            색상무난하고 기본스타일의 맨투맨입니다편해요   pos  \n",
              "1  기모인줄 알고 구입했는데 기모가 아니네요. 그럼에도 두께감도있고 기모가 아니라 부해...   pos  \n",
              "2                        옷 색감이 딱 생각한거라 너무 좋아요 추천합니다!   pos  \n",
              "3  오빠 선물로 간단하게 샀는데 제가 탐나서 입어보니 아방한 핏에 괜찮길래 잠깐 어디 ...   pos  \n",
              "4  재입고 때문인지 배송이 많이 느렸는데 입어보니 소재나 핏이나 너무 맘에 들어서 잘 ...   pos  "
            ]
          },
          "execution_count": 6,
          "metadata": {},
          "output_type": "execute_result"
        }
      ],
      "source": [
        "#train data에 label 달기\n",
        "df['label'] = ['pos' if r >= 80 else 'neu' if r < 80 and r >= 60 else 'neg' for r in df['user_ratings']]\n",
        "df.head()"
      ]
    },
    {
      "cell_type": "markdown",
      "metadata": {
        "id": "0gB6hqBcqNHG"
      },
      "source": [
        "### 토큰화"
      ]
    },
    {
      "cell_type": "markdown",
      "metadata": {
        "id": "EeBPr1bIqNHG"
      },
      "source": [
        "- 형태소 분석\n",
        "    - Okt.pos() 는 [('아버지', 'Noun'), ...] 식으로 반환한다.\n",
        "    - norm 옵션 : 그래욬ㅋㅋ -> 그래요 처럼 변환해주는 옵션\n",
        "    - stem 옵션 : 원형을 찾아주는 옵션 (그래요 -> 그렇다)"
      ]
    },
    {
      "cell_type": "code",
      "execution_count": null,
      "metadata": {
        "id": "zgoUSteCqNHG",
        "outputId": "4847119a-3b20-4b9f-9f21-8902fde74f51"
      },
      "outputs": [
        {
          "data": {
            "text/plain": [
              "['기모/Noun',\n",
              " '인/Josa',\n",
              " '줄/Noun',\n",
              " '알/Noun',\n",
              " '고/Josa',\n",
              " '구입/Noun',\n",
              " '하다/Verb',\n",
              " '기모/Noun',\n",
              " '가/Josa',\n",
              " '아니다/Adjective',\n",
              " './Punctuation',\n",
              " '그렇다/Adjective',\n",
              " '두께/Noun',\n",
              " '감다/Verb',\n",
              " '기모/Noun',\n",
              " '가/Josa',\n",
              " '아니다/Adjective',\n",
              " '부/Noun',\n",
              " '해보다/Verb',\n",
              " '않다/Verb',\n",
              " '오히려/Noun',\n",
              " '잘/VerbPrefix',\n",
              " '되다/Verb',\n",
              " '같다/Adjective',\n",
              " 'ㅎㅎ/KoreanParticle',\n",
              " '상체/Noun',\n",
              " '발달/Noun',\n",
              " '형/Suffix',\n",
              " '이라/Josa',\n",
              " '오버핏/Noun',\n",
              " '좋아하다/Adjective',\n",
              " '너무/Adverb',\n",
              " './Punctuation',\n",
              " '마음/Noun',\n",
              " '에/Josa',\n",
              " '들다/Verb',\n",
              " '색감/Noun',\n",
              " '도/Josa',\n",
              " '좋다/Adjective',\n",
              " '시보리/Noun',\n",
              " '도/Josa',\n",
              " '짱짱하다/Adjective',\n",
              " '말/Noun',\n",
              " '아/Josa',\n",
              " '넣다/Verb',\n",
              " '빠지다/Verb',\n",
              " '없다/Adjective',\n",
              " '좋다/Adjective',\n",
              " 'ㅎ/KoreanParticle']"
            ]
          },
          "execution_count": 6,
          "metadata": {},
          "output_type": "execute_result"
        }
      ],
      "source": [
        "Okt().pos(df.user_reviews[1], stem=True, norm=True, join=True)"
      ]
    },
    {
      "cell_type": "code",
      "execution_count": null,
      "metadata": {
        "id": "IHi5rq-0qNHH"
      },
      "outputs": [],
      "source": [
        "stopwords = ['의/Josa','가/Josa','이/Josa','은/Josa','들/Josa','는/Josa','좀/Noun','걍/Noun','과/Josa','도/Josa','를/Josa','으로/Josa','에/Josa','와/Josa','한/Noun','하다/Verb','을/Josa',\n",
        "             '에서/Josa','에게/Josa', '하고/Josa', '이다/Verb', './Punctuation']"
      ]
    },
    {
      "cell_type": "code",
      "execution_count": null,
      "metadata": {
        "id": "nI77lJwwqNHH",
        "outputId": "e8766725-6b6c-4430-b851-31186068366c",
        "colab": {
          "referenced_widgets": [
            "6ade6b7704fe41b296a9a47e2ca39875"
          ]
        }
      },
      "outputs": [
        {
          "data": {
            "application/vnd.jupyter.widget-view+json": {
              "model_id": "6ade6b7704fe41b296a9a47e2ca39875",
              "version_major": 2,
              "version_minor": 0
            },
            "text/plain": [
              "  0%|          | 0/19713 [00:00<?, ?it/s]"
            ]
          },
          "metadata": {},
          "output_type": "display_data"
        }
      ],
      "source": [
        "from tqdm.notebook import tqdm\n",
        "\n",
        "def okt_pos_tokenizer(doc):\n",
        "    result = []\n",
        "\n",
        "    for sentence in tqdm(doc):\n",
        "        tokenized_sentence = Okt().pos(sentence, norm=True, stem=True, join=True)\n",
        "        stopwords_removed_sentence = [word for word in tokenized_sentence if not word in stopwords] # 불용어 제거\n",
        "        result.append(stopwords_removed_sentence)\n",
        "    return result\n",
        "\n",
        "df['token'] = okt_pos_tokenizer(df['user_reviews'])"
      ]
    },
    {
      "cell_type": "code",
      "execution_count": null,
      "metadata": {
        "id": "x9hB5tf4qNHI",
        "outputId": "7c47ccaa-0eef-48c9-d424-14f826e777f0"
      },
      "outputs": [
        {
          "data": {
            "text/html": [
              "<div>\n",
              "<style scoped>\n",
              "    .dataframe tbody tr th:only-of-type {\n",
              "        vertical-align: middle;\n",
              "    }\n",
              "\n",
              "    .dataframe tbody tr th {\n",
              "        vertical-align: top;\n",
              "    }\n",
              "\n",
              "    .dataframe thead th {\n",
              "        text-align: right;\n",
              "    }\n",
              "</style>\n",
              "<table border=\"1\" class=\"dataframe\">\n",
              "  <thead>\n",
              "    <tr style=\"text-align: right;\">\n",
              "      <th></th>\n",
              "      <th>product_names</th>\n",
              "      <th>product_ids</th>\n",
              "      <th>user_names</th>\n",
              "      <th>user_ratings</th>\n",
              "      <th>user_reviews</th>\n",
              "      <th>label</th>\n",
              "      <th>token</th>\n",
              "    </tr>\n",
              "  </thead>\n",
              "  <tbody>\n",
              "    <tr>\n",
              "      <th>0</th>\n",
              "      <td>[기모버전추가]시그니처 오버핏 맨투맨(4col)</td>\n",
              "      <td>P00000NE</td>\n",
              "      <td>뉴비_cc4a349fa2d6</td>\n",
              "      <td>100</td>\n",
              "      <td>색상무난하고 기본스타일의 맨투맨입니다편해요</td>\n",
              "      <td>pos</td>\n",
              "      <td>[색상/Noun, 무난/Noun, 기/Modifier, 본/Modifier, 스타일...</td>\n",
              "    </tr>\n",
              "    <tr>\n",
              "      <th>1</th>\n",
              "      <td>[기모버전추가]시그니처 오버핏 맨투맨(4col)</td>\n",
              "      <td>P00000NE</td>\n",
              "      <td>은비파파</td>\n",
              "      <td>100</td>\n",
              "      <td>기모인줄 알고 구입했는데 기모가 아니네요. 그럼에도 두께감도있고 기모가 아니라 부해...</td>\n",
              "      <td>pos</td>\n",
              "      <td>[기모/Noun, 인/Josa, 줄/Noun, 알/Noun, 고/Josa, 구입/N...</td>\n",
              "    </tr>\n",
              "    <tr>\n",
              "      <th>2</th>\n",
              "      <td>[기모버전추가]시그니처 오버핏 맨투맨(4col)</td>\n",
              "      <td>P00000NE</td>\n",
              "      <td>거누임니닷</td>\n",
              "      <td>100</td>\n",
              "      <td>옷 색감이 딱 생각한거라 너무 좋아요 추천합니다!</td>\n",
              "      <td>pos</td>\n",
              "      <td>[옷/Noun, 색감/Noun, 딱/Adverb, 생각/Noun, 한/Determi...</td>\n",
              "    </tr>\n",
              "    <tr>\n",
              "      <th>3</th>\n",
              "      <td>[기모버전추가]시그니처 오버핏 맨투맨(4col)</td>\n",
              "      <td>P00000NE</td>\n",
              "      <td>뉴비_e3698f46</td>\n",
              "      <td>100</td>\n",
              "      <td>오빠 선물로 간단하게 샀는데 제가 탐나서 입어보니 아방한 핏에 괜찮길래 잠깐 어디 ...</td>\n",
              "      <td>pos</td>\n",
              "      <td>[오빠/Noun, 선물/Noun, 로/Josa, 간단하다/Adjective, 사다/...</td>\n",
              "    </tr>\n",
              "    <tr>\n",
              "      <th>4</th>\n",
              "      <td>[기모버전추가]시그니처 오버핏 맨투맨(4col)</td>\n",
              "      <td>P00000NE</td>\n",
              "      <td>고생끝에골병난다</td>\n",
              "      <td>100</td>\n",
              "      <td>재입고 때문인지 배송이 많이 느렸는데 입어보니 소재나 핏이나 너무 맘에 들어서 잘 ...</td>\n",
              "      <td>pos</td>\n",
              "      <td>[재/Noun, 입다/Verb, 때문/Noun, 인지/Josa, 배송/Noun, 많...</td>\n",
              "    </tr>\n",
              "  </tbody>\n",
              "</table>\n",
              "</div>"
            ],
            "text/plain": [
              "                product_names product_ids       user_names  user_ratings  \\\n",
              "0  [기모버전추가]시그니처 오버핏 맨투맨(4col)    P00000NE  뉴비_cc4a349fa2d6           100   \n",
              "1  [기모버전추가]시그니처 오버핏 맨투맨(4col)    P00000NE             은비파파           100   \n",
              "2  [기모버전추가]시그니처 오버핏 맨투맨(4col)    P00000NE            거누임니닷           100   \n",
              "3  [기모버전추가]시그니처 오버핏 맨투맨(4col)    P00000NE      뉴비_e3698f46           100   \n",
              "4  [기모버전추가]시그니처 오버핏 맨투맨(4col)    P00000NE         고생끝에골병난다           100   \n",
              "\n",
              "                                        user_reviews label  \\\n",
              "0                            색상무난하고 기본스타일의 맨투맨입니다편해요   pos   \n",
              "1  기모인줄 알고 구입했는데 기모가 아니네요. 그럼에도 두께감도있고 기모가 아니라 부해...   pos   \n",
              "2                        옷 색감이 딱 생각한거라 너무 좋아요 추천합니다!   pos   \n",
              "3  오빠 선물로 간단하게 샀는데 제가 탐나서 입어보니 아방한 핏에 괜찮길래 잠깐 어디 ...   pos   \n",
              "4  재입고 때문인지 배송이 많이 느렸는데 입어보니 소재나 핏이나 너무 맘에 들어서 잘 ...   pos   \n",
              "\n",
              "                                               token  \n",
              "0  [색상/Noun, 무난/Noun, 기/Modifier, 본/Modifier, 스타일...  \n",
              "1  [기모/Noun, 인/Josa, 줄/Noun, 알/Noun, 고/Josa, 구입/N...  \n",
              "2  [옷/Noun, 색감/Noun, 딱/Adverb, 생각/Noun, 한/Determi...  \n",
              "3  [오빠/Noun, 선물/Noun, 로/Josa, 간단하다/Adjective, 사다/...  \n",
              "4  [재/Noun, 입다/Verb, 때문/Noun, 인지/Josa, 배송/Noun, 많...  "
            ]
          },
          "execution_count": 9,
          "metadata": {},
          "output_type": "execute_result"
        }
      ],
      "source": [
        "df.head()"
      ]
    },
    {
      "cell_type": "markdown",
      "metadata": {
        "id": "9u87YScvqNHI"
      },
      "source": [
        "### 등장 빈도 적으면 지우기"
      ]
    },
    {
      "cell_type": "markdown",
      "metadata": {
        "id": "AAMrZirwqNHJ"
      },
      "source": [
        "- 등장하는 단어의 빈도수 먼저 확인하고, 빈도수가 적으면 지워버리기\n"
      ]
    },
    {
      "cell_type": "code",
      "execution_count": null,
      "metadata": {
        "id": "iCSs8robqNHJ",
        "outputId": "205ba464-e74d-4b34-91aa-f4291ee57822"
      },
      "outputs": [
        {
          "data": {
            "text/plain": [
              "['색상/Noun',\n",
              " '무난/Noun',\n",
              " '기/Modifier',\n",
              " '본/Modifier',\n",
              " '스타일/Noun',\n",
              " '맨투맨/Noun',\n",
              " '이다/Adjective',\n",
              " '편하다/Adjective',\n",
              " '기모/Noun',\n",
              " '인/Josa',\n",
              " '줄/Noun',\n",
              " '알/Noun',\n",
              " '고/Josa',\n",
              " '구입/Noun',\n",
              " '기모/Noun',\n",
              " '아니다/Adjective',\n",
              " '그렇다/Adjective',\n",
              " '두께/Noun',\n",
              " '감다/Verb',\n",
              " '기모/Noun',\n",
              " '아니다/Adjective',\n",
              " '부/Noun',\n",
              " '해보다/Verb',\n",
              " '않다/Verb',\n",
              " '오히려/Noun',\n",
              " '잘/VerbPrefix',\n",
              " '되다/Verb',\n",
              " '같다/Adjective',\n",
              " 'ㅎㅎ/KoreanParticle',\n",
              " '상체/Noun',\n",
              " '발달/Noun',\n",
              " '형/Suffix',\n",
              " '이라/Josa',\n",
              " '오버핏/Noun',\n",
              " '좋아하다/Adjective',\n",
              " '너무/Adverb',\n",
              " '마음/Noun',\n",
              " '들다/Verb',\n",
              " '색감/Noun',\n",
              " '좋다/Adjective',\n",
              " '시보리/Noun',\n",
              " '짱짱하다/Adjective',\n",
              " '말/Noun',\n",
              " '아/Josa',\n",
              " '넣다/Verb',\n",
              " '빠지다/Verb',\n",
              " '없다/Adjective',\n",
              " '좋다/Adjective',\n",
              " 'ㅎ/KoreanParticle',\n",
              " '옷/Noun',\n",
              " '색감/Noun',\n",
              " '딱/Adverb',\n",
              " '생각/Noun',\n",
              " '한/Determiner',\n",
              " '거/Noun',\n",
              " '라/Josa',\n",
              " '너무/Adverb',\n",
              " '좋다/Adjective',\n",
              " '추천/Noun',\n",
              " '!/Punctuation',\n",
              " '오빠/Noun',\n",
              " '선물/Noun',\n",
              " '로/Josa',\n",
              " '간단하다/Adjective',\n",
              " '사다/Verb',\n",
              " '제/Noun',\n",
              " '타다/Verb',\n",
              " '입어보다/Verb',\n",
              " '아/Exclamation',\n",
              " '방한/Noun',\n",
              " '핏/Noun',\n",
              " '괜찮다/Adjective',\n",
              " '잠깐/Noun',\n",
              " '어디/Noun',\n",
              " '나가다/Verb',\n",
              " '때/Noun',\n",
              " '맨날/Adverb',\n",
              " '뺏다/Verb',\n",
              " '입다/Verb',\n",
              " 'ㅎ/KoreanParticle',\n",
              " '재/Noun',\n",
              " '입다/Verb',\n",
              " '때문/Noun',\n",
              " '인지/Josa',\n",
              " '배송/Noun',\n",
              " '많이/Adverb',\n",
              " '느리다/Adjective',\n",
              " '입어보다/Verb',\n",
              " '소재/Noun',\n",
              " '나/Josa',\n",
              " '핏/Noun',\n",
              " '이나/Josa',\n",
              " '너무/Adverb',\n",
              " '맘/Noun',\n",
              " '들어서다/Verb',\n",
              " '자다/Verb',\n",
              " '입다/Verb',\n",
              " '있다/Adjective',\n",
              " '개인/Noun',\n",
              " '적/Suffix',\n",
              " '올해/Noun',\n",
              " '산/Noun',\n",
              " '맨투맨/Noun',\n",
              " '중/Noun',\n",
              " '제일/Noun',\n",
              " '마음/Noun',\n",
              " '듭니/Noun',\n",
              " '다/Josa',\n",
              " '!/Punctuation',\n",
              " '핏/Noun',\n",
              " '너무/Adverb',\n",
              " '이쁘다/Adjective',\n",
              " '색감/Noun',\n",
              " '너무/Adverb',\n",
              " '좋다/Adjective',\n",
              " 'ㅠㅠ/KoreanParticle',\n",
              " '조금/Noun',\n",
              " '얇다/Adjective',\n",
              " '겨울/Noun',\n",
              " '단독/Noun',\n",
              " '입다/Verb',\n",
              " '어렵다/Adjective',\n",
              " '안/Noun',\n",
              " '이/Determiner',\n",
              " '너/Noun',\n",
              " '입다/Verb',\n",
              " '열심히/Adverb',\n",
              " '입다/Verb',\n",
              " '중/Noun',\n",
              " '이다/Adjective',\n",
              " '!/Punctuation',\n",
              " '너무/Adverb',\n",
              " '이쁘다/Adjective',\n",
              " '!/Punctuation',\n",
              " '색감/Noun',\n",
              " '이랑/Josa',\n",
              " '핏/Noun',\n",
              " '모두/Noun',\n",
              " '맘/Noun',\n",
              " '들다/Verb',\n",
              " '가격/Noun',\n",
              " '가다/Verb',\n",
              " '겨/Noun',\n",
              " '가성/Noun',\n",
              " '비다/Verb',\n",
              " '일반/Noun',\n",
              " '면티/Noun',\n",
              " '사이즈/Noun',\n",
              " '오버핏/Noun',\n",
              " '나오다/Verb',\n",
              " '맞다/Verb',\n",
              " '처음/Noun',\n",
              " '엔/Josa',\n",
              " '크다/Verb',\n",
              " '싶다/Verb',\n",
              " '데코/Noun',\n",
              " '디/Noun',\n",
              " '대로/Josa',\n",
              " '안/Noun',\n",
              " '희다/Adjective',\n",
              " '티/Noun',\n",
              " '입다/Verb',\n",
              " '입다/Verb',\n",
              " '색상/Noun',\n",
              " '자다/Verb',\n",
              " '받다/Verb',\n",
              " '서무/Noun',\n",
              " '난하다/Adjective',\n",
              " '자주/Noun',\n",
              " '입다/Verb',\n",
              " '되다/Verb',\n",
              " '색상/Noun',\n",
              " '살짝/Noun',\n",
              " '다운/Noun',\n",
              " '되다/Verb',\n",
              " '색감/Noun',\n",
              " '이다/Adjective',\n",
              " '실물/Noun',\n",
              " '로는/Josa',\n",
              " '색/Noun',\n",
              " '어떻다/Adjective',\n",
              " '모르다/Verb',\n",
              " '걱정/Noun',\n",
              " '원하다/Adjective',\n",
              " '색상/Noun',\n",
              " '이어서/Josa',\n",
              " '기분/Noun',\n",
              " '좋다/Adjective',\n",
              " '!/Punctuation',\n",
              " '적당하다/Adjective',\n",
              " '도톰하다/Adjective',\n",
              " '무겁다/Adjective',\n",
              " '않다/Verb',\n",
              " '자다/Verb',\n",
              " '이다/Adjective',\n",
              " '같다/Adjective',\n",
              " '기모/Noun',\n",
              " '없다/Adjective',\n",
              " '얇다/Adjective',\n",
              " '추다/Verb',\n",
              " '줄/Noun',\n",
              " '알다/Verb',\n",
              " '생각/Noun',\n",
              " '보다/Josa',\n",
              " '꽤/Noun',\n",
              " '따뜻하다/Adjective',\n",
              " '!/Punctuation',\n",
              " '디자인/Noun',\n",
              " '이쁘다/Adjective',\n",
              " '가볍다/Adjective',\n",
              " '좋다/Adjective',\n",
              " '만족스럽다/Adjective',\n",
              " '구매/Noun',\n",
              " 'M/Alpha',\n",
              " '시키다/Verb',\n",
              " 'L/Alpha',\n",
              " '사이즈/Noun',\n",
              " '실/Noun',\n",
              " '측/Suffix',\n",
              " '치수/Noun',\n",
              " '보다도/Josa',\n",
              " '크다/Verb',\n",
              " '사이즈/Noun',\n",
              " '옷/Noun',\n",
              " '옴택/Noun',\n",
              " '안/Noun',\n",
              " '붙다/Verb',\n",
              " '주문/Noun',\n",
              " '폭주/Noun',\n",
              " '라고/Josa',\n",
              " '문의/Noun',\n",
              " '열흘/Noun',\n",
              " '넘다/Verb',\n",
              " '걸리다/Verb',\n",
              " '반품/Noun',\n",
              " '오래/Adverb',\n",
              " '걸리다/Verb',\n",
              " '그냥/Noun',\n",
              " '입다/Verb',\n",
              " '함/Noun',\n",
              " 'ㅋㅋ/KoreanParticle',\n",
              " '옷/Noun',\n",
              " '예쁘다/Adjective',\n",
              " '…/Punctuation',\n",
              " '그치다/Verb',\n",
              " '정사/Noun',\n",
              " '이즈/Noun',\n",
              " '로/Josa',\n",
              " '오다/Verb',\n",
              " '더/Noun',\n",
              " '예뻣을텐데/Noun',\n",
              " '😡😢🥺😡😢🥺/Foreign',\n",
              " '옷/Noun',\n",
              " '편하다/Adjective',\n",
              " '좋다/Adjective',\n",
              " '목/Noun',\n",
              " '부분/Noun',\n",
              " '만/Josa',\n",
              " '끄다/Verb',\n",
              " '끌/Noun',\n",
              " '좁다/Adjective',\n",
              " '그런데/Conjunction',\n",
              " '입다/Noun',\n",
              " '보다/Verb',\n",
              " '좋아지다/Verb',\n",
              " '있다/Adjective',\n",
              " '듯/Noun',\n",
              " '요/Josa',\n",
              " '../Punctuation',\n",
              " 'ㅎ/KoreanParticle',\n",
              " '일단/Noun',\n",
              " '시보리/Noun',\n",
              " '조금/Noun',\n",
              " '아쉽다/Adjective',\n",
              " '그리고/Conjunction',\n",
              " '재질/Noun',\n",
              " '얇다/Adjective',\n",
              " '하나로/Noun',\n",
              " '입다/Verb',\n",
              " '추다/Verb',\n",
              " '그리고/Conjunction',\n",
              " '팔/Noun',\n",
              " '부분/Noun',\n",
              " '기다/Verb',\n",
              " '../Punctuation',\n",
              " '그런데/Conjunction',\n",
              " '프린팅/Noun',\n",
              " '너무/Adverb',\n",
              " '이쁘다/Adjective',\n",
              " '그레이/Noun',\n",
              " '색/Noun',\n",
              " '정말/Noun',\n",
              " '이쁘다/Adjective',\n",
              " '생각/Noun',\n",
              " '보다/Josa',\n",
              " '자다/Verb',\n",
              " '맞다/Verb',\n",
              " ',/Punctuation',\n",
              " '색감/Noun',\n",
              " '약간/Noun',\n",
              " '아주/Noun',\n",
              " '옅다/Adjective',\n",
              " '회색/Noun',\n",
              " '???/Punctuation',\n",
              " '의/Noun',\n",
              " '느낌/Noun',\n",
              " '나다/Verb',\n",
              " '항공/Noun',\n",
              " '점퍼/Noun',\n",
              " '하나/Noun',\n",
              " '만/Josa',\n",
              " '걸치다/Verb',\n",
              " '추다/Verb',\n",
              " '않다/Verb',\n",
              " '정도/Noun',\n",
              " '로/Josa',\n",
              " '따뜻하다/Adjective',\n",
              " '기모/Noun',\n",
              " '들다/Verb',\n",
              " '좋다/Adjective',\n",
              " '~~~~/Punctuation',\n",
              " '검은색/Noun',\n",
              " '맨투맨/Noun',\n",
              " '찾다/Verb',\n",
              " '있다/Adjective',\n",
              " '마르다/Adjective',\n",
              " '체형/Noun',\n",
              " '이지만/Josa',\n",
              " '어울리다/Verb',\n",
              " '입/Noun',\n",
              " '수/Noun',\n",
              " '있다/Adjective',\n",
              " '같다/Adjective',\n",
              " '목/Noun',\n",
              " '부분/Noun',\n",
              " '탄탄하다/Adjective',\n",
              " '아니다/Adjective',\n",
              " '금방/Noun',\n",
              " '늘어나다/Verb',\n",
              " '같다/Adjective',\n",
              " '않다/Verb',\n",
              " '!/Punctuation',\n",
              " '이/Noun',\n",
              " '색/Noun',\n",
              " '제일/Noun',\n",
              " '예쁘다/Adjective',\n",
              " '같다/Adjective',\n",
              " '사다/Verb',\n",
              " '정말/Noun',\n",
              " '마음/Noun',\n",
              " '쏙/Noun',\n",
              " '듭니/Noun',\n",
              " '다/Josa',\n",
              " '옷/Noun',\n",
              " '편하다/Adjective',\n",
              " '여러/Noun',\n",
              " '바지/Noun',\n",
              " '랑/Josa',\n",
              " '매칭/Noun',\n",
              " '편하다/Adjective',\n",
              " '가볍다/Adjective',\n",
              " '!!/Punctuation',\n",
              " '무난/Noun',\n",
              " '입다/Verb',\n",
              " '좋다/Adjective',\n",
              " '원단/Noun',\n",
              " '얇다/Adjective',\n",
              " '각/Noun',\n",
              " '잡히다/Verb',\n",
              " '느낌/Noun',\n",
              " '아니다/Adjective',\n",
              " '이쁘다/Adjective',\n",
              " '확실하다/Adjective',\n",
              " '오버핏/Noun',\n",
              " '이라/Josa',\n",
              " '정사/Noun',\n",
              " '이즈/Noun',\n",
              " '로/Josa',\n",
              " '주문/Noun',\n",
              " '폼/Noun',\n",
              " '꽤/Noun',\n",
              " '크다/Verb',\n",
              " '기/Modifier',\n",
              " '본/Modifier',\n",
              " '템/Noun',\n",
              " '편하다/Adjective',\n",
              " '여러/Noun',\n",
              " '코디/Noun',\n",
              " '활용/Noun',\n",
              " '가능하다/Adjective',\n",
              " '같다/Adjective',\n",
              " '배송/Noun',\n",
              " '너무/Adverb',\n",
              " '늦다/Verb',\n",
              " '거의/Noun',\n",
              " '한/Determiner',\n",
              " '달/Noun',\n",
              " '만에/Josa',\n",
              " '받다/Verb',\n",
              " '../Punctuation',\n",
              " 'ㅠ/KoreanParticle',\n",
              " '제/Noun',\n",
              " '100-105/Number',\n",
              " '정도/Noun',\n",
              " '입다/Verb',\n",
              " '생각/Noun',\n",
              " '보다/Josa',\n",
              " '더/Noun',\n",
              " '사이즈/Noun',\n",
              " '크게/Noun',\n",
              " '나오다/Verb',\n",
              " '것/Noun',\n",
              " '같다/Adjective',\n",
              " '두께/Noun',\n",
              " '봄/Noun',\n",
              " ',/Punctuation',\n",
              " '가을/Noun',\n",
              " '가볍다/Adjective',\n",
              " '입다/Verb',\n",
              " '좋다/Adjective',\n",
              " '정도/Noun',\n",
              " '인/Josa',\n",
              " '것/Noun',\n",
              " '같다/Adjective',\n",
              " '레이어/Noun',\n",
              " '드/Noun',\n",
              " '입다/Verb',\n",
              " '어떤/Modifier',\n",
              " '바지/Noun',\n",
              " '랑/Josa',\n",
              " '도/Noun',\n",
              " '무난/Noun',\n",
              " '자다/Verb',\n",
              " '어울리다/Verb',\n",
              " '것/Noun',\n",
              " '같다/Adjective',\n",
              " '마감/Noun',\n",
              " '실밥/Noun',\n",
              " '풀어지다/Verb',\n",
              " '곳/Noun',\n",
              " '없이/Adverb',\n",
              " '괜찮다/Adjective',\n",
              " '편이/Noun',\n",
              " '고/Josa',\n",
              " '색도/Noun',\n",
              " '약간/Noun',\n",
              " '파스텔/Noun',\n",
              " '가미/Noun',\n",
              " '되다/Verb',\n",
              " '블루/Noun',\n",
              " '라/Josa',\n",
              " '이쁘다/Adjective',\n",
              " '것/Noun',\n",
              " '같다/Adjective',\n",
              " '모델/Noun',\n",
              " '분/Suffix',\n",
              " '입다/Verb',\n",
              " '보고/Noun',\n",
              " '예쁘다/Adjective',\n",
              " '사다/Verb',\n",
              " '화면/Noun',\n",
              " '보다/Verb',\n",
              " '그대로/Noun',\n",
              " '예/Modifier',\n",
              " '네/Noun',\n",
              " '요/Josa',\n",
              " '오버핏/Noun',\n",
              " '맨투맨/Noun',\n",
              " '유니크/Noun',\n",
              " '한/Josa',\n",
              " '색상/Noun',\n",
              " '이라/Josa',\n",
              " '너무/Adverb',\n",
              " '맘/Noun',\n",
              " '에드/Noun',\n",
              " '네/Suffix',\n",
              " '요/Josa',\n",
              " '기모/Noun',\n",
              " '한겨울/Noun',\n",
              " '밖에/Josa',\n",
              " '못/VerbPrefix',\n",
              " '이다/Adjective',\n",
              " '일부러/Noun',\n",
              " '일/Modifier',\n",
              " '반/Modifier',\n",
              " '재질/Noun',\n",
              " '로/Josa',\n",
              " '생각/Noun',\n",
              " '보다/Josa',\n",
              " '얇다/Adjective',\n",
              " '않다/Verb',\n",
              " '딱/Adverb',\n",
              " '좋다/Adjective',\n",
              " '배송/Noun',\n",
              " '느리다/Adjective',\n",
              " '흠/Noun',\n",
              " '이지만/Josa',\n",
              " '제품/Noun',\n",
              " '자체/Noun',\n",
              " '너무/Adverb',\n",
              " '맘/Noun',\n",
              " '드네/Noun',\n",
              " '요/Josa',\n",
              " '데/Noun',\n",
              " '일리/Noun',\n",
              " '로/Josa',\n",
              " '입/Noun',\n",
              " '수/Noun',\n",
              " '있다/Adjective',\n",
              " '맨투맨/Noun',\n",
              " '필요하다/Adjective',\n",
              " '아이보리/Noun',\n",
              " '색/Noun',\n",
              " '구매/Noun',\n",
              " '기모/Noun',\n",
              " '없다/Adjective',\n",
              " '사서/Noun',\n",
              " '날씨/Noun',\n",
              " '풀리다/Verb',\n",
              " '이후/Noun',\n",
              " '에도/Josa',\n",
              " '입다/Verb',\n",
              " '좋다/Adjective',\n",
              " '색감/Noun',\n",
              " '이랑/Josa',\n",
              " '핏/Noun',\n",
              " '모두/Noun',\n",
              " '맘/Noun',\n",
              " '들다/Verb',\n",
              " '가격/Noun',\n",
              " '가성/Noun',\n",
              " '비다/Verb',\n",
              " '오버핏/Noun',\n",
              " '감다/Verb',\n",
              " '좋다/Adjective',\n",
              " '색감/Noun',\n",
              " '마음/Noun',\n",
              " '들다/Verb',\n",
              " '두께/Noun',\n",
              " '적당하다/Adjective',\n",
              " '훌륭하다/Adjective',\n",
              " '오버핏/Noun',\n",
              " '느낌/Noun',\n",
              " '이고/Josa',\n",
              " ',/Punctuation',\n",
              " '로고/Noun',\n",
              " '있다/Adjective',\n",
              " '캐/Noun',\n",
              " '주얼/Noun',\n",
              " '하/Suffix',\n",
              " '게/Josa',\n",
              " '입다/Verb',\n",
              " '좋다/Adjective',\n",
              " '!/Punctuation',\n",
              " '물건/Noun',\n",
              " '자다/Verb',\n",
              " '받다/Verb',\n",
              " '품질/Noun',\n",
              " '괜찮다/Adjective',\n",
              " '가격/Noun',\n",
              " '좋다/Adjective',\n",
              " '옷/Noun',\n",
              " '재질/Noun',\n",
              " '좋다/Adjective',\n",
              " '옷/Noun',\n",
              " '맘/Noun',\n",
              " '들어서다/Verb',\n",
              " '기분/Noun',\n",
              " '좋다/Adjective',\n",
              " '입다/Verb',\n",
              " '다니다/Verb',\n",
              " '같다/Adjective',\n",
              " '정말/Noun',\n",
              " '예쁘다/Adjective',\n",
              " '굳다/Adjective',\n",
              " '!/Punctuation',\n",
              " '다/Adverb',\n",
              " '들다/Verb',\n",
              " '모해/Noun',\n",
              " '요/Josa',\n",
              " '안/VerbPrefix',\n",
              " '사다/Verb',\n",
              " '!/Punctuation',\n",
              " '꼭/Noun',\n",
              " '사다/Verb',\n",
              " '예쁘다/Adjective',\n",
              " '!/Punctuation',\n",
              " '품/Noun',\n",
              " '크다/Verb',\n",
              " '크게/Noun',\n",
              " '입다/Verb',\n",
              " '거/Noun',\n",
              " '좋아하다/Adjective',\n",
              " '만족하다/Adjective',\n",
              " '기모/Noun',\n",
              " '없다/Adjective',\n",
              " '얇다/Adjective',\n",
              " '색감/Noun',\n",
              " '예쁘다/Adjective',\n",
              " '맨투맨/Noun',\n",
              " '이에요/Josa',\n",
              " '조금/Noun',\n",
              " '얇다/Adjective',\n",
              " '추다/Verb',\n",
              " '단/Modifier',\n",
              " '품/Noun',\n",
              " '어리다/Verb',\n",
              " '같다/Adjective',\n",
              " '사이즈/Noun',\n",
              " '약간/Noun',\n",
              " '크다/Verb',\n",
              " '시보리/Noun',\n",
              " '조금/Noun',\n",
              " '애매하다/Adjective',\n",
              " '프린팅/Noun',\n",
              " '너무/Adverb',\n",
              " '이/Determiner',\n",
              " '뻣습/Noun',\n",
              " '니/Josa',\n",
              " '다/Adverb',\n",
              " '두께/Noun',\n",
              " '얇다/Adjective',\n",
              " '하나로/Noun',\n",
              " '입다/Verb',\n",
              " '조금/Noun',\n",
              " '추다/Verb',\n",
              " '많이/Adverb',\n",
              " '오버핏/Noun',\n",
              " '이다/Adjective',\n",
              " '색상/Noun',\n",
              " '이며/Josa',\n",
              " '가슴/Noun',\n",
              " '판/Noun',\n",
              " '영문/Noun',\n",
              " '로고/Noun',\n",
              " '맘/Noun',\n",
              " '들다/Verb',\n",
              " '구입/Noun',\n",
              " '기/Modifier',\n",
              " '모/Modifier',\n",
              " '처리/Noun',\n",
              " '되어다/Verb',\n",
              " '무겁다/Adjective',\n",
              " '않다/Verb',\n",
              " '좋다/Adjective',\n",
              " '사이즈/Noun',\n",
              " '생각/Noun',\n",
              " '보다/Josa',\n",
              " '크다/Verb',\n",
              " '두께/Noun',\n",
              " '얇다/Adjective',\n",
              " '마감/Noun',\n",
              " '조금/Noun',\n",
              " '아쉽다/Adjective',\n",
              " '생각/Noun',\n",
              " '보다/Josa',\n",
              " '많이/Adverb',\n",
              " '크다/Verb',\n",
              " '밝다/Verb',\n",
              " '날다람쥐/Noun',\n",
              " '핏/Noun',\n",
              " '나오다/Verb',\n",
              " '그래도/Adverb',\n",
              " '나름/Noun',\n",
              " '괜찮다/Adjective',\n",
              " '진짜/Noun',\n",
              " '크다/Verb',\n",
              " 'M/Alpha',\n",
              " '아니다/Adjective',\n",
              " '알다/Verb',\n",
              " '그래도/Adverb',\n",
              " '소재/Noun',\n",
              " '좋다/Adjective',\n",
              " '그레이/Noun',\n",
              " '딱/Adverb',\n",
              " '떠오르다/Verb',\n",
              " '색상/Noun',\n",
              " '그/Noun',\n",
              " '잡채/Noun',\n",
              " '이다/Adjective',\n",
              " '오버핏/Noun',\n",
              " '이라/Josa',\n",
              " '폼/Noun',\n",
              " '엄청/Adverb',\n",
              " '여유롭다/Verb',\n",
              " '마/Noun',\n",
              " '실용/Noun',\n",
              " '좋다/Adjective',\n",
              " '같다/Adjective',\n",
              " '옷/Noun',\n",
              " '생각/Noun',\n",
              " '보다/Josa',\n",
              " '크다/Verb',\n",
              " '오버핏/Noun',\n",
              " '이다/Adjective',\n",
              " '다색/Noun',\n",
              " '생각/Noun',\n",
              " '보다/Josa',\n",
              " '흐리다/Verb',\n",
              " '그래도/Adverb',\n",
              " '엄청/Adverb',\n",
              " '두껍다/Adjective',\n",
              " '않다/Verb',\n",
              " '자다/Verb',\n",
              " '입/Noun',\n",
              " '것/Noun',\n",
              " '같다/Adjective',\n",
              " '색깔/Noun',\n",
              " '맘/Noun',\n",
              " '들다/Verb',\n",
              " '사이즈/Noun',\n",
              " '크다/Verb',\n",
              " '펴다/Verb',\n",
              " '한데/Eomi',\n",
              " ',/Punctuation',\n",
              " '오버핏/Noun',\n",
              " '나오다/Verb',\n",
              " '걸/Noun',\n",
              " '알다/Verb',\n",
              " '일부/Noun',\n",
              " '로/Josa',\n",
              " '사이즈/Noun',\n",
              " '아래/Noun',\n",
              " '로/Josa',\n",
              " '주문/Noun',\n",
              " '예쁘다/Adjective',\n",
              " '맞다/Verb',\n",
              " '프린트/Noun',\n",
              " '선명하다/Adjective',\n",
              " '이쁘다/Adjective',\n",
              " '재질/Noun',\n",
              " '좋다/Adjective',\n",
              " '두께/Noun',\n",
              " '감다/Verb',\n",
              " '적당하다/Adjective',\n",
              " '!/Punctuation',\n",
              " '겨울/Noun',\n",
              " '입다/Verb',\n",
              " '좋다/Adjective',\n",
              " '핏/Noun',\n",
              " '좋다/Adjective',\n",
              " '색감/Noun',\n",
              " '좋다/Adjective',\n",
              " '전반/Noun',\n",
              " '적/Suffix',\n",
              " '만족하다/Adjective',\n",
              " '있다/Adjective',\n",
              " '완전/Noun',\n",
              " '예쁘다/Adjective',\n",
              " '자다/Verb',\n",
              " '입다/Verb',\n",
              " '다니다/Verb',\n",
              " '색감/Noun',\n",
              " '좋다/Adjective',\n",
              " 'ㅠ/KoreanParticle',\n",
              " '완전/Noun',\n",
              " '만족하다/Adjective',\n",
              " '사진/Noun',\n",
              " '나오다/Verb',\n",
              " '색감/Noun',\n",
              " '완전/Noun',\n",
              " '똑같다/Adjective',\n",
              " '다/Adverb',\n",
              " '들다/Verb',\n",
              " '깅추/Noun',\n",
              " '드리다/Verb',\n",
              " '!/Punctuation',\n",
              " '0/Number',\n",
              " '입어보다/Verb',\n",
              " '맨투맨/Noun',\n",
              " '중/Noun',\n",
              " '핏/Noun',\n",
              " '제일/Noun',\n",
              " '예쁘다/Adjective',\n",
              " '!!!/Punctuation',\n",
              " '색감/Noun',\n",
              " '너무/Adverb',\n",
              " '예쁘다/Adjective',\n",
              " 'ㅠㅠ/KoreanParticle',\n",
              " '이/Noun',\n",
              " '브랜드/Noun',\n",
              " '맨투맨/Noun',\n",
              " '많이/Adverb',\n",
              " '만/Noun',\n",
              " '들어주다/Verb',\n",
              " '좋다/Adjective',\n",
              " '.../Punctuation',\n",
              " '이/Noun',\n",
              " '맨투맨/Noun',\n",
              " '블루/Noun',\n",
              " '색상/Noun',\n",
              " '갖다/Verb',\n",
              " '있다/Adjective',\n",
              " '핏/Noun',\n",
              " '너무/Adverb',\n",
              " '예쁘다/Adjective',\n",
              " '블랙/Noun',\n",
              " '색상/Noun',\n",
              " '사다/Verb',\n",
              " 'ㅎㅎ/KoreanParticle',\n",
              " '블루/Noun',\n",
              " '색상/Noun',\n",
              " '에는/Josa',\n",
              " '흰색/Noun',\n",
              " '레터/Noun',\n",
              " '링/Noun',\n",
              " '블랙/Noun',\n",
              " '색상/Noun',\n",
              " '레터/Noun',\n",
              " '링/Noun',\n",
              " '아이보리/Noun',\n",
              " '색/Noun',\n",
              " '이에요/Josa',\n",
              " '!/Punctuation',\n",
              " '색감/Noun',\n",
              " '생각/Noun',\n",
              " '것/Noun',\n",
              " '같다/Adjective',\n",
              " '너무/Adverb',\n",
              " '만족하다/Adjective',\n",
              " '예쁘다/Adjective',\n",
              " '!/Punctuation',\n",
              " '다만/Noun',\n",
              " '세/Modifier',\n",
              " '탁시/Noun',\n",
              " '수축/Noun',\n",
              " '있다/Adjective',\n",
              " '조심하다/Verb',\n",
              " '세탁/Noun',\n",
              " '것/Noun',\n",
              " '같다/Adjective',\n",
              " 'M/Alpha',\n",
              " '시키다/Verb',\n",
              " 'L/Alpha',\n",
              " '실/Noun',\n",
              " '측/Suffix',\n",
              " '사이즈/Noun',\n",
              " '보다도/Josa',\n",
              " '크다/Verb',\n",
              " '사이즈/Noun',\n",
              " '로/Josa',\n",
              " '옴택/Noun',\n",
              " '없다/Adjective',\n",
              " '문의/Noun',\n",
              " '엄청/Adverb',\n",
              " '오래/Adverb',\n",
              " '걸리다/Verb',\n",
              " '그냥/Noun',\n",
              " '이다/Adjective',\n",
              " '안녕하다/Adjective',\n",
              " '음/Noun',\n",
              " '흠/Noun',\n",
              " '어/Eomi',\n",
              " '내/Noun',\n",
              " '눈/Noun',\n",
              " '에는/Josa',\n",
              " '별로/Noun',\n",
              " '비/Noun',\n",
              " '추천/Noun',\n",
              " '키/Noun',\n",
              " '작다/Adjective',\n",
              " '여성/Noun',\n",
              " '분/Suffix',\n",
              " '입다/Verb',\n",
              " '젛을거/Noun',\n",
              " '같다/Adjective',\n",
              " '오오/Noun',\n",
              " '털/Noun',\n",
              " '엄청/Adverb',\n",
              " '붙다/Verb',\n",
              " '치우다/Verb',\n",
              " '힘들다/Adjective',\n",
              " '한데/Eomi',\n",
              " '이쁘다/Adjective',\n",
              " '이쁘다/Adjective',\n",
              " '뭐/Noun',\n",
              " '랑/Josa',\n",
              " '디자인/Noun',\n",
              " 'ㄱㅊ/KoreanParticle',\n",
              " '세탁/Noun',\n",
              " '후/Noun',\n",
              " '건조기/Noun',\n",
              " '안/VerbPrefix',\n",
              " '돌리다/Verb',\n",
              " '목/Noun',\n",
              " '부분/Noun',\n",
              " '늘어나다/Verb',\n",
              " '변형/Noun',\n",
              " '있다/Adjective',\n",
              " '예쁘다/Adjective',\n",
              " '색도/Noun',\n",
              " '예쁘다/Adjective',\n",
              " '잘/VerbPrefix',\n",
              " '이다/Adjective',\n",
              " '감사하다/Verb',\n",
              " '좋다/Adjective',\n",
              " '전체/Noun',\n",
              " '적/Suffix',\n",
              " '사이즈/Noun',\n",
              " '크다/Verb',\n",
              " '기장/Noun',\n",
              " '엉덩이/Noun',\n",
              " '덮다/Verb',\n",
              " '내려오다/Verb',\n",
              " '그냥/Noun',\n",
              " '말다/Verb',\n",
              " '나가다/Verb',\n",
              " '때/Noun',\n",
              " '입다/Verb',\n",
              " '좋다/Adjective',\n",
              " '트랜디/Noun',\n",
              " '않다/Verb',\n",
              " '남편/Noun',\n",
              " '편하다/Adjective',\n",
              " '자다/Verb',\n",
              " '입다/Verb',\n",
              " '크기/Noun',\n",
              " '넉넉하다/Adjective',\n",
              " '색감/Noun',\n",
              " '예쁘다/Adjective',\n",
              " '전체/Noun',\n",
              " '적/Suffix',\n",
              " '원하다/Adjective',\n",
              " '핏/Noun',\n",
              " '이다/Adjective',\n",
              " '시보리/Noun',\n",
              " '짱짱하다/Adjective',\n",
              " '근데/Adverb',\n",
              " '말/Noun',\n",
              " '아/Josa',\n",
              " '넣다/Verb',\n",
              " '많이/Adverb',\n",
              " '우글우글/Adverb',\n",
              " '?/Punctuation',\n",
              " '거리/Noun',\n",
              " '느낌/Noun',\n",
              " '이에요/Josa',\n",
              " 'ㅎㅎ/KoreanParticle',\n",
              " '무엇/Noun',\n",
              " '보다/Josa',\n",
              " '약간/Noun',\n",
              " '파스텔/Noun',\n",
              " '톤/Noun',\n",
              " '느낌/Noun',\n",
              " '이라/Josa',\n",
              " '따다/Verb',\n",
              " '한/Determiner',\n",
              " '느낌/Noun',\n",
              " '파란색/Noun',\n",
              " '이라/Josa',\n",
              " '색감/Noun',\n",
              " '가장/Noun',\n",
              " '맘/Noun',\n",
              " '들다/Verb',\n",
              " '사이즈/Noun',\n",
              " '딱/Adverb',\n",
              " '맞다/Verb',\n",
              " ',/Punctuation',\n",
              " '무게/Noun',\n",
              " '적당하다/Adjective',\n",
              " '딱/Adverb',\n",
              " '좋다/Adjective',\n",
              " '안/Noun',\n",
              " '기모/Noun',\n",
              " '부드럽다/Adjective',\n",
              " '착용/Noun',\n",
              " '감/Noun',\n",
              " '너무/Adverb',\n",
              " '좋다/Adjective',\n",
              " '따숩/Noun',\n",
              " '게/Josa',\n",
              " '자다/Verb',\n",
              " '입다/Verb',\n",
              " '기모/Noun',\n",
              " '있다/Adjective',\n",
              " '따뜻하다/Adjective',\n",
              " '퀄리티/Noun',\n",
              " '괜찮다/Adjective',\n",
              " '저렴하다/Adjective',\n",
              " '득템/Noun',\n",
              " '진짜/Noun',\n",
              " '따뜻하다/Adjective',\n",
              " ',/Punctuation',\n",
              " '편안하다/Adjective',\n",
              " '입다/Verb',\n",
              " '좋다/Adjective',\n",
              " '.!/Punctuation',\n",
              " '재질/Noun',\n",
              " '굿굿/Noun',\n",
              " '평소/Noun',\n",
              " '무지/Noun',\n",
              " '맨투맨/Noun',\n",
              " '만/Josa',\n",
              " '입다/Noun',\n",
              " '처음/Noun',\n",
              " '사보다/Verb',\n",
              " '너무/Adverb',\n",
              " '이쁘다/Adjective',\n",
              " '~/Punctuation',\n",
              " '전/Noun',\n",
              " ...]"
            ]
          },
          "execution_count": 10,
          "metadata": {},
          "output_type": "execute_result"
        }
      ],
      "source": [
        "# 시리즈를 리스트화\n",
        "tmp_token = []\n",
        "\n",
        "for text in df.token:\n",
        "    tmp_token += text\n",
        "\n",
        "tmp_token"
      ]
    },
    {
      "cell_type": "code",
      "execution_count": null,
      "metadata": {
        "id": "oeofEgbqqNHJ",
        "outputId": "7c3f2f70-89cb-477a-ac39-7472888ad7f6"
      },
      "outputs": [
        {
          "data": {
            "text/plain": [
              "FreqDist({'좋다/Adjective': 10164, '입다/Verb': 8431, '같다/Adjective': 5719, '너무/Adverb': 5146, '있다/Adjective': 3870, '이쁘다/Adjective': 3762, '핏/Noun': 3597, '사이즈/Noun': 3416, '예쁘다/Adjective': 3329, '이다/Adjective': 3305, ...})"
            ]
          },
          "execution_count": 11,
          "metadata": {},
          "output_type": "execute_result"
        }
      ],
      "source": [
        "ko = nltk.Text(tmp_token)\n",
        "ko_freq = ko.vocab()\n",
        "ko_freq"
      ]
    },
    {
      "cell_type": "code",
      "execution_count": null,
      "metadata": {
        "id": "KhzNd93ZqNHK",
        "outputId": "5b67245f-e565-4162-c956-0f4dbee6284c"
      },
      "outputs": [
        {
          "name": "stdout",
          "output_type": "stream",
          "text": [
            "단어 집합(vocabulary)의 크기 : 11359\n",
            "등장 빈도가 2번 이하인 희귀 단어의 수: 6560\n",
            "단어 집합에서 희귀 단어의 비율: 57.75156263755612\n",
            "전체 등장 빈도에서 희귀 단어 등장 빈도 비율: 2.352789995385541\n"
          ]
        }
      ],
      "source": [
        "threshold = 3\n",
        "total_cnt = len(ko_freq) # 단어의 수\n",
        "rare_cnt = 0 # 등장 빈도수가 threshold보다 작은 단어의 개수를 카운트\n",
        "total_freq = 0 # 데이터의 전체 단어 빈도수 총 합\n",
        "rare_freq = 0 # 등장 빈도수가 threshold보다 작은 단어의 등장 빈도수의 총 합\n",
        "\n",
        "# 단어와 빈도수의 쌍(pair)을 key와 value로 받는다.\n",
        "for key, value in ko_freq.items():\n",
        "    total_freq = total_freq + value\n",
        "\n",
        "    # 단어의 등장 빈도수가 threshold보다 작으면\n",
        "    if(value < threshold):\n",
        "        rare_cnt = rare_cnt + 1\n",
        "        rare_freq = rare_freq + value\n",
        "\n",
        "print('단어 집합(vocabulary)의 크기 :',total_cnt)\n",
        "print('등장 빈도가 %s번 이하인 희귀 단어의 수: %s'%(threshold - 1, rare_cnt))\n",
        "print(\"단어 집합에서 희귀 단어의 비율:\", (rare_cnt / total_cnt)*100)\n",
        "print(\"전체 등장 빈도에서 희귀 단어 등장 빈도 비율:\", (rare_freq / total_freq)*100)"
      ]
    },
    {
      "cell_type": "markdown",
      "metadata": {
        "id": "zWnt5wziqNHK"
      },
      "source": [
        "- 등장 빈도가 threshold 값인 3회 미만. 즉, 2회 이하인 단어들은 단어 집합에서 무려 절반 이상을 차지.\n",
        "- 실제로 훈련 데이터에서 등장 빈도로 차지하는 비중은 상대적으로 매우 적은 수치인 2.35%.\n",
        "- 등장 빈도가 2회 이하인 단어들은 제거"
      ]
    },
    {
      "cell_type": "code",
      "execution_count": null,
      "metadata": {
        "id": "uU4MkxJUqNHL",
        "outputId": "8b038ff4-a5de-4649-8eb1-2a58b05ec90e"
      },
      "outputs": [
        {
          "data": {
            "text/plain": [
              "['데코/Noun', '서무/Noun', '옴택/Noun']"
            ]
          },
          "execution_count": 13,
          "metadata": {},
          "output_type": "execute_result"
        }
      ],
      "source": [
        "remove_token = []\n",
        "\n",
        "for k, v in ko_freq.items():\n",
        "    if v < 3:\n",
        "        remove_token.append(k)\n",
        "\n",
        "remove_token[:3]"
      ]
    },
    {
      "cell_type": "code",
      "execution_count": null,
      "metadata": {
        "id": "5N5pT9hNqNHL"
      },
      "outputs": [],
      "source": [
        "stopwords += remove_token"
      ]
    },
    {
      "cell_type": "code",
      "execution_count": null,
      "metadata": {
        "id": "Lk5iAFY7qNHL",
        "outputId": "933a0480-346c-4a81-e7df-996571ae3fca",
        "colab": {
          "referenced_widgets": [
            "2043ae7f88e545a3b972a00d5cb73204"
          ]
        }
      },
      "outputs": [
        {
          "data": {
            "application/vnd.jupyter.widget-view+json": {
              "model_id": "2043ae7f88e545a3b972a00d5cb73204",
              "version_major": 2,
              "version_minor": 0
            },
            "text/plain": [
              "  0%|          | 0/19713 [00:00<?, ?it/s]"
            ]
          },
          "metadata": {},
          "output_type": "display_data"
        }
      ],
      "source": [
        "df['token'] = okt_pos_tokenizer(df['user_reviews'])"
      ]
    },
    {
      "cell_type": "markdown",
      "metadata": {
        "id": "KK0JzZXsqNHM"
      },
      "source": [
        "### Vectorizer + MultinomialNB"
      ]
    },
    {
      "cell_type": "code",
      "execution_count": null,
      "metadata": {
        "id": "FKZE9EJqqNHM"
      },
      "outputs": [],
      "source": [
        "from sklearn.model_selection import train_test_split\n",
        "from sklearn.feature_extraction.text import TfidfVectorizer\n",
        "from sklearn.naive_bayes import MultinomialNB\n",
        "from sklearn.metrics import accuracy_score, classification_report"
      ]
    },
    {
      "cell_type": "code",
      "execution_count": null,
      "metadata": {
        "id": "pprbtUpmqNHM"
      },
      "outputs": [],
      "source": [
        "df['vect'] = [' '.join(text) for text in df.token]"
      ]
    },
    {
      "cell_type": "code",
      "execution_count": null,
      "metadata": {
        "id": "ya7fUMFQqNHN",
        "outputId": "8f445a0f-2730-4cee-a5ed-d981616948ee"
      },
      "outputs": [
        {
          "data": {
            "text/html": [
              "<div>\n",
              "<style scoped>\n",
              "    .dataframe tbody tr th:only-of-type {\n",
              "        vertical-align: middle;\n",
              "    }\n",
              "\n",
              "    .dataframe tbody tr th {\n",
              "        vertical-align: top;\n",
              "    }\n",
              "\n",
              "    .dataframe thead th {\n",
              "        text-align: right;\n",
              "    }\n",
              "</style>\n",
              "<table border=\"1\" class=\"dataframe\">\n",
              "  <thead>\n",
              "    <tr style=\"text-align: right;\">\n",
              "      <th></th>\n",
              "      <th>product_names</th>\n",
              "      <th>product_ids</th>\n",
              "      <th>user_names</th>\n",
              "      <th>user_ratings</th>\n",
              "      <th>user_reviews</th>\n",
              "      <th>label</th>\n",
              "      <th>token</th>\n",
              "      <th>vect</th>\n",
              "    </tr>\n",
              "  </thead>\n",
              "  <tbody>\n",
              "    <tr>\n",
              "      <th>0</th>\n",
              "      <td>[기모버전추가]시그니처 오버핏 맨투맨(4col)</td>\n",
              "      <td>P00000NE</td>\n",
              "      <td>뉴비_cc4a349fa2d6</td>\n",
              "      <td>100</td>\n",
              "      <td>색상무난하고 기본스타일의 맨투맨입니다편해요</td>\n",
              "      <td>pos</td>\n",
              "      <td>[색상/Noun, 무난/Noun, 기/Modifier, 본/Modifier, 스타일...</td>\n",
              "      <td>색상/Noun 무난/Noun 기/Modifier 본/Modifier 스타일/Noun...</td>\n",
              "    </tr>\n",
              "    <tr>\n",
              "      <th>1</th>\n",
              "      <td>[기모버전추가]시그니처 오버핏 맨투맨(4col)</td>\n",
              "      <td>P00000NE</td>\n",
              "      <td>은비파파</td>\n",
              "      <td>100</td>\n",
              "      <td>기모인줄 알고 구입했는데 기모가 아니네요. 그럼에도 두께감도있고 기모가 아니라 부해...</td>\n",
              "      <td>pos</td>\n",
              "      <td>[기모/Noun, 인/Josa, 줄/Noun, 알/Noun, 고/Josa, 구입/N...</td>\n",
              "      <td>기모/Noun 인/Josa 줄/Noun 알/Noun 고/Josa 구입/Noun 기모...</td>\n",
              "    </tr>\n",
              "    <tr>\n",
              "      <th>2</th>\n",
              "      <td>[기모버전추가]시그니처 오버핏 맨투맨(4col)</td>\n",
              "      <td>P00000NE</td>\n",
              "      <td>거누임니닷</td>\n",
              "      <td>100</td>\n",
              "      <td>옷 색감이 딱 생각한거라 너무 좋아요 추천합니다!</td>\n",
              "      <td>pos</td>\n",
              "      <td>[옷/Noun, 색감/Noun, 딱/Adverb, 생각/Noun, 한/Determi...</td>\n",
              "      <td>옷/Noun 색감/Noun 딱/Adverb 생각/Noun 한/Determiner 거...</td>\n",
              "    </tr>\n",
              "    <tr>\n",
              "      <th>3</th>\n",
              "      <td>[기모버전추가]시그니처 오버핏 맨투맨(4col)</td>\n",
              "      <td>P00000NE</td>\n",
              "      <td>뉴비_e3698f46</td>\n",
              "      <td>100</td>\n",
              "      <td>오빠 선물로 간단하게 샀는데 제가 탐나서 입어보니 아방한 핏에 괜찮길래 잠깐 어디 ...</td>\n",
              "      <td>pos</td>\n",
              "      <td>[오빠/Noun, 선물/Noun, 로/Josa, 간단하다/Adjective, 사다/...</td>\n",
              "      <td>오빠/Noun 선물/Noun 로/Josa 간단하다/Adjective 사다/Verb ...</td>\n",
              "    </tr>\n",
              "    <tr>\n",
              "      <th>4</th>\n",
              "      <td>[기모버전추가]시그니처 오버핏 맨투맨(4col)</td>\n",
              "      <td>P00000NE</td>\n",
              "      <td>고생끝에골병난다</td>\n",
              "      <td>100</td>\n",
              "      <td>재입고 때문인지 배송이 많이 느렸는데 입어보니 소재나 핏이나 너무 맘에 들어서 잘 ...</td>\n",
              "      <td>pos</td>\n",
              "      <td>[재/Noun, 입다/Verb, 때문/Noun, 인지/Josa, 배송/Noun, 많...</td>\n",
              "      <td>재/Noun 입다/Verb 때문/Noun 인지/Josa 배송/Noun 많이/Adve...</td>\n",
              "    </tr>\n",
              "  </tbody>\n",
              "</table>\n",
              "</div>"
            ],
            "text/plain": [
              "                product_names product_ids       user_names  user_ratings  \\\n",
              "0  [기모버전추가]시그니처 오버핏 맨투맨(4col)    P00000NE  뉴비_cc4a349fa2d6           100   \n",
              "1  [기모버전추가]시그니처 오버핏 맨투맨(4col)    P00000NE             은비파파           100   \n",
              "2  [기모버전추가]시그니처 오버핏 맨투맨(4col)    P00000NE            거누임니닷           100   \n",
              "3  [기모버전추가]시그니처 오버핏 맨투맨(4col)    P00000NE      뉴비_e3698f46           100   \n",
              "4  [기모버전추가]시그니처 오버핏 맨투맨(4col)    P00000NE         고생끝에골병난다           100   \n",
              "\n",
              "                                        user_reviews label  \\\n",
              "0                            색상무난하고 기본스타일의 맨투맨입니다편해요   pos   \n",
              "1  기모인줄 알고 구입했는데 기모가 아니네요. 그럼에도 두께감도있고 기모가 아니라 부해...   pos   \n",
              "2                        옷 색감이 딱 생각한거라 너무 좋아요 추천합니다!   pos   \n",
              "3  오빠 선물로 간단하게 샀는데 제가 탐나서 입어보니 아방한 핏에 괜찮길래 잠깐 어디 ...   pos   \n",
              "4  재입고 때문인지 배송이 많이 느렸는데 입어보니 소재나 핏이나 너무 맘에 들어서 잘 ...   pos   \n",
              "\n",
              "                                               token  \\\n",
              "0  [색상/Noun, 무난/Noun, 기/Modifier, 본/Modifier, 스타일...   \n",
              "1  [기모/Noun, 인/Josa, 줄/Noun, 알/Noun, 고/Josa, 구입/N...   \n",
              "2  [옷/Noun, 색감/Noun, 딱/Adverb, 생각/Noun, 한/Determi...   \n",
              "3  [오빠/Noun, 선물/Noun, 로/Josa, 간단하다/Adjective, 사다/...   \n",
              "4  [재/Noun, 입다/Verb, 때문/Noun, 인지/Josa, 배송/Noun, 많...   \n",
              "\n",
              "                                                vect  \n",
              "0  색상/Noun 무난/Noun 기/Modifier 본/Modifier 스타일/Noun...  \n",
              "1  기모/Noun 인/Josa 줄/Noun 알/Noun 고/Josa 구입/Noun 기모...  \n",
              "2  옷/Noun 색감/Noun 딱/Adverb 생각/Noun 한/Determiner 거...  \n",
              "3  오빠/Noun 선물/Noun 로/Josa 간단하다/Adjective 사다/Verb ...  \n",
              "4  재/Noun 입다/Verb 때문/Noun 인지/Josa 배송/Noun 많이/Adve...  "
            ]
          },
          "execution_count": 18,
          "metadata": {},
          "output_type": "execute_result"
        }
      ],
      "source": [
        "df.head()"
      ]
    },
    {
      "cell_type": "code",
      "execution_count": null,
      "metadata": {
        "id": "_QEUIhGyqNHN",
        "outputId": "d85d0b9d-a361-4a28-def8-dba511456eff"
      },
      "outputs": [
        {
          "name": "stdout",
          "output_type": "stream",
          "text": [
            "Accuracy: 0.83\n",
            "              precision    recall  f1-score   support\n",
            "\n",
            "         neg       0.85      0.11      0.19       276\n",
            "         neu       0.00      0.00      0.00       416\n",
            "         pos       0.83      1.00      0.91      3251\n",
            "\n",
            "    accuracy                           0.83      3943\n",
            "   macro avg       0.56      0.37      0.37      3943\n",
            "weighted avg       0.75      0.83      0.76      3943\n",
            "\n"
          ]
        }
      ],
      "source": [
        "# Split the data into training and testing sets\n",
        "X_train, X_test, y_train, y_test = train_test_split(df['vect'], df['label'], test_size=0.2, random_state=13)\n",
        "\n",
        "# Convert the text data into numerical vectors using TF-IDF\n",
        "vectorizer = TfidfVectorizer()\n",
        "X_train_vectorized = vectorizer.fit_transform(X_train)\n",
        "X_test_vectorized = vectorizer.transform(X_test)\n",
        "\n",
        "# Train a Naive Bayes classifier\n",
        "multinomialNB = MultinomialNB()\n",
        "multinomialNB.fit(X_train_vectorized, y_train)\n",
        "\n",
        "# Make predictions on the test set\n",
        "pred = multinomialNB.predict(X_test_vectorized)\n",
        "pred_proba = multinomialNB.predict_proba(X_test_vectorized\n",
        "                                         )\n",
        "# Evaluate the model\n",
        "accuracy = accuracy_score(y_test, pred)\n",
        "print(f\"Accuracy: {accuracy:.2f}\")\n",
        "\n",
        "# Print classification report\n",
        "print(classification_report(y_test, pred))"
      ]
    },
    {
      "cell_type": "markdown",
      "metadata": {
        "id": "nIJFlt84qNHN"
      },
      "source": [
        "- 다른 점수 확인하기\n",
        "- 다중클래스의 f1_score의 평균\n",
        "    - 라벨의 중요도에 따라 어떤 지표를 선택할지가 달라진다.\n",
        "    - 모든 라벨이 유사한 중요도를 가진다면 macro average 값을 참고하고\n",
        "    - 샘플이 많은 라벨에 중요도를 두고 싶다면 weighted average 값을 참고하면 된다\n",
        "    - 그리고 라벨에 상관없이 전체적인 성능을 평가하고 싶을 때는 micro average, 즉 accuracy 를 활용하면 된다."
      ]
    },
    {
      "cell_type": "code",
      "execution_count": null,
      "metadata": {
        "id": "MUeAuD_UqNHO"
      },
      "outputs": [],
      "source": [
        "from sklearn.metrics import accuracy_score, f1_score, precision_score, recall_score, roc_auc_score\n",
        "\n",
        "def get_clf_evalscore(y_test, pred, pred_proba):\n",
        "    acc = accuracy_score(y_test, pred)\n",
        "    f1 = f1_score(y_test, pred, average='macro')\n",
        "    pre = precision_score(y_test, pred, average='macro')\n",
        "    rec = recall_score(y_test, pred, average='macro')\n",
        "    # auc = roc_auc_score(y_test, pred_proba[:,1], multi_class='ovr')   #다름. 주의\n",
        "\n",
        "    return acc, pre, rec, f1\n",
        "\n",
        "from sklearn.metrics import confusion_matrix\n",
        "\n",
        "def print_clf_evalmatrix(y_test, pred, pred_proba):\n",
        "    confusion = confusion_matrix(y_test, pred)\n",
        "    acc, pre, rec, f1 = get_clf_evalscore(y_test, pred, pred_proba)\n",
        "\n",
        "    print('==> Confusion Matrix')\n",
        "    print(confusion)\n",
        "    print('=====================')\n",
        "    print('Accuracy: {0:.4f}, Precision: {1:.4f}'.format(acc, pre))\n",
        "    print('Recall: {0:.4f}, F1: {1:.4f}'.format(rec, f1))"
      ]
    },
    {
      "cell_type": "code",
      "execution_count": null,
      "metadata": {
        "id": "g_F0sInvqNHO",
        "outputId": "c69a24e0-e47f-4f21-9793-6d132b558658"
      },
      "outputs": [
        {
          "name": "stdout",
          "output_type": "stream",
          "text": [
            "==> Confusion Matrix\n",
            "[[  29    0  247]\n",
            " [   5    0  411]\n",
            " [   0    1 3250]]\n",
            "=====================\n",
            "Accuracy: 0.8316, Precision: 0.5615\n",
            "Recall: 0.3683, F1: 0.3650\n"
          ]
        }
      ],
      "source": [
        "print_clf_evalmatrix(y_test, pred, pred_proba)"
      ]
    },
    {
      "cell_type": "markdown",
      "metadata": {
        "id": "neLZwWD9qNHO"
      },
      "source": [
        "### Oversampling"
      ]
    },
    {
      "cell_type": "code",
      "execution_count": null,
      "metadata": {
        "id": "rhmgGLRxqNHP",
        "outputId": "e051acc6-91cb-4b55-dfb8-03a1f330867b"
      },
      "outputs": [
        {
          "data": {
            "text/plain": [
              "<Axes: xlabel='label'>"
            ]
          },
          "execution_count": 12,
          "metadata": {},
          "output_type": "execute_result"
        },
        {
          "data": {
            "image/png": "[encoded data removed]",
            "text/plain": [
              "<Figure size 640x480 with 1 Axes>"
            ]
          },
          "metadata": {},
          "output_type": "display_data"
        }
      ],
      "source": [
        "df['label'].value_counts().plot(kind = 'bar', colormap='viridis')"
      ]
    },
    {
      "cell_type": "markdown",
      "metadata": {
        "id": "4Mu_nwH6qNHP"
      },
      "source": [
        "- 데이터 비율 차이가 많이 난다. Oversampling으로 비율을 맞춰줄 필요가 있어 보인다."
      ]
    },
    {
      "cell_type": "code",
      "execution_count": null,
      "metadata": {
        "id": "Xig6pIC_qNHQ",
        "outputId": "3fb3fd91-32a6-4e7d-ea8b-ca9efd9e6d77"
      },
      "outputs": [
        {
          "data": {
            "text/plain": [
              "((15770, 3831), (15770,), (39231, 3831), (39231,))"
            ]
          },
          "execution_count": 23,
          "metadata": {},
          "output_type": "execute_result"
        }
      ],
      "source": [
        "# SMOTE 적용\n",
        "from imblearn.over_sampling import SMOTE\n",
        "\n",
        "smote = SMOTE(random_state=13)\n",
        "X_train_vectorized_over, y_train_over = smote.fit_resample(X_train_vectorized, y_train)   #트레인만 건드림\n",
        "\n",
        "# 얼마나 불어났는지 확인\n",
        "X_train_vectorized.shape, y_train.shape, X_train_vectorized_over.shape, y_train_over.shape"
      ]
    },
    {
      "cell_type": "code",
      "execution_count": null,
      "metadata": {
        "id": "hedg-eRZqNHQ",
        "outputId": "f620e9e3-b9cf-4faf-eeb9-7fc3ce4bab0f"
      },
      "outputs": [
        {
          "name": "stdout",
          "output_type": "stream",
          "text": [
            "(array(['neg', 'neu', 'pos'], dtype=object), array([13077, 13077, 13077], dtype=int64))\n"
          ]
        }
      ],
      "source": [
        "print(np.unique(y_train_over, return_counts=True))"
      ]
    },
    {
      "cell_type": "markdown",
      "metadata": {
        "id": "WTQatsmsqNHR"
      },
      "source": [
        "### 다시 MultinomialNB"
      ]
    },
    {
      "cell_type": "code",
      "execution_count": null,
      "metadata": {
        "id": "AHvzKzh3qNHS",
        "outputId": "d8e147a3-5e49-40a8-e4b9-ced8bd3d2938"
      },
      "outputs": [
        {
          "name": "stdout",
          "output_type": "stream",
          "text": [
            "Accuracy: 0.72\n",
            "              precision    recall  f1-score   support\n",
            "\n",
            "         neg       0.45      0.62      0.52       276\n",
            "         neu       0.21      0.44      0.28       416\n",
            "         pos       0.93      0.77      0.84      3251\n",
            "\n",
            "    accuracy                           0.72      3943\n",
            "   macro avg       0.53      0.61      0.55      3943\n",
            "weighted avg       0.82      0.72      0.76      3943\n",
            "\n"
          ]
        }
      ],
      "source": [
        "mnb_clf = MultinomialNB()\n",
        "mnb_clf.fit(X_train_vectorized_over, y_train_over)\n",
        "\n",
        "# Make predictions on the test set\n",
        "pred = mnb_clf.predict(X_test_vectorized)\n",
        "pred_proba = mnb_clf.predict_proba(X_test_vectorized)\n",
        "\n",
        "# Evaluate the model\n",
        "accuracy = accuracy_score(y_test, pred)\n",
        "print(f\"Accuracy: {accuracy:.2f}\")\n",
        "\n",
        "# Print classification report\n",
        "print(classification_report(y_test, pred))"
      ]
    },
    {
      "cell_type": "code",
      "execution_count": null,
      "metadata": {
        "id": "WoLWlorKqNHS",
        "outputId": "a20a90fc-7033-4051-e64e-bf06a44dfc0d"
      },
      "outputs": [
        {
          "name": "stdout",
          "output_type": "stream",
          "text": [
            "==> Confusion Matrix\n",
            "[[ 172   75   29]\n",
            " [  65  182  169]\n",
            " [ 147  616 2488]]\n",
            "=====================\n",
            "Accuracy: 0.7208, Precision: 0.5276\n",
            "Recall: 0.6087, F1: 0.5472\n"
          ]
        }
      ],
      "source": [
        "print_clf_evalmatrix(y_test, pred, pred_proba)"
      ]
    },
    {
      "cell_type": "markdown",
      "metadata": {
        "id": "7tLyjRkjqNHT"
      },
      "source": [
        "### LightGBM"
      ]
    },
    {
      "cell_type": "code",
      "execution_count": null,
      "metadata": {
        "id": "BNmSNTEqqNHT",
        "outputId": "4382a07e-5f55-4f1c-e01c-2e8ed89a588c"
      },
      "outputs": [
        {
          "name": "stdout",
          "output_type": "stream",
          "text": [
            "[LightGBM] [Info] Auto-choosing col-wise multi-threading, the overhead of testing was 0.168538 seconds.\n",
            "You can set `force_col_wise=true` to remove the overhead.\n",
            "[LightGBM] [Info] Total Bins 197001\n",
            "[LightGBM] [Info] Number of data points in the train set: 39231, number of used features: 2380\n",
            "==> Confusion Matrix\n",
            "[[ 127   41  108]\n",
            " [  38   62  316]\n",
            " [  33   84 3134]]\n",
            "=====================\n",
            "Accuracy: 0.8428, Precision: 0.6179\n",
            "Recall: 0.5244, F1: 0.5540\n"
          ]
        }
      ],
      "source": [
        "from lightgbm import LGBMClassifier\n",
        "\n",
        "lgbm_clf = LGBMClassifier(random_state=13, n_jobs=-1, n_estimators=1000,\n",
        "                          num_leaves=64, boost_from_average=False)\n",
        "\n",
        "lgbm_clf.fit(X_train_vectorized_over, y_train_over)\n",
        "lgbm_pred = lgbm_clf.predict(X_test_vectorized)\n",
        "lgbm_pred_proba = lgbm_clf.predict_proba(X_test_vectorized)\n",
        "\n",
        "print_clf_evalmatrix(y_test, lgbm_pred, lgbm_pred_proba)"
      ]
    },
    {
      "cell_type": "markdown",
      "metadata": {
        "id": "-iBx-y6ZqNHU"
      },
      "source": [
        "### LogisticRegression"
      ]
    },
    {
      "cell_type": "code",
      "execution_count": null,
      "metadata": {
        "id": "YSjlj2kfqNHU",
        "outputId": "b682bc40-edcd-4d7c-b4dc-3d05afe36dc9"
      },
      "outputs": [
        {
          "name": "stdout",
          "output_type": "stream",
          "text": [
            "==> Confusion Matrix\n",
            "[[ 183   62   31]\n",
            " [  77  152  187]\n",
            " [ 139  511 2601]]\n",
            "=====================\n",
            "Accuracy: 0.7446, Precision: 0.5303\n",
            "Recall: 0.6095, F1: 0.5552\n"
          ]
        }
      ],
      "source": [
        "from sklearn.linear_model import LogisticRegression\n",
        "\n",
        "lr_clf = LogisticRegression(random_state=13, solver='liblinear')\n",
        "lr_clf.fit(X_train_vectorized_over, y_train_over)\n",
        "lr_pred = lr_clf.predict(X_test_vectorized)\n",
        "lr_pred_proba = lr_clf.predict_proba(X_test_vectorized)\n",
        "\n",
        "print_clf_evalmatrix(y_test, lr_pred, lr_pred_proba)"
      ]
    },
    {
      "cell_type": "markdown",
      "metadata": {
        "id": "75mTSyeJqNHU"
      },
      "source": [
        "- 모델 별로 Precision과 Recall에서 큰 차이가 없기 때문에 Accuracy가 가장 높은 LightGBM으로 사용."
      ]
    },
    {
      "cell_type": "markdown",
      "metadata": {
        "id": "R2-xqRtiqNHV"
      },
      "source": [
        "### GridSearchCV"
      ]
    },
    {
      "cell_type": "markdown",
      "metadata": {
        "id": "abeH0ODjqNHV"
      },
      "source": [
        "- 너무 오래 걸려서 일단 패스"
      ]
    },
    {
      "cell_type": "code",
      "execution_count": null,
      "metadata": {
        "id": "mxCArAa7qNHW"
      },
      "outputs": [],
      "source": [
        "# from sklearn.model_selection import GridSearchCV\n",
        "\n",
        "# # Define the parameter grid for grid search\n",
        "# param_grid = {\n",
        "#     'n_estimators': [100, 500, 1000],\n",
        "#     'num_leaves': [32, 64, 128],\n",
        "#     'learning_rate': [0.01, 0.05, 0.1]\n",
        "# }\n",
        "\n",
        "# # Create GridSearchCV object\n",
        "# grid_search = GridSearchCV(lgbm_clf, param_grid, cv=3, scoring='accuracy', n_jobs=-1)\n",
        "\n",
        "# # Fit the grid search to the data\n",
        "# grid_search.fit(X_train_vectorized_over, y_train_over)\n",
        "\n",
        "# # Get the best parameters from grid search\n",
        "# best_params = grid_search.best_params_\n",
        "# print(\"Best Parameters:\", best_params)\n",
        "\n",
        "# # Use the best model for predictions\n",
        "# best_lgbm_clf = grid_search.best_estimator_\n",
        "# lgbm_pred = best_lgbm_clf.predict(X_test_vectorized)\n",
        "# lgbm_pred_proba = best_lgbm_clf.predict_proba(X_test_vectorized)\n",
        "\n",
        "# # Print evaluation metrics\n",
        "# print_clf_evalmatrix(y_test, lgbm_pred, lgbm_pred_proba)"
      ]
    },
    {
      "cell_type": "markdown",
      "metadata": {
        "id": "eIOet5TFqNHW"
      },
      "source": [
        "### 크롤링한 리뷰 넣어 predict하기\n",
        "- 벡터라이즈는 train_set에 대해서만 fit_transform 해야 함\n",
        "- test 데이터와 predict 데이터에 대해서는 transform만"
      ]
    },
    {
      "cell_type": "code",
      "execution_count": null,
      "metadata": {
        "id": "QUdAOe06qNHW",
        "outputId": "c88b5af7-8e8d-4d01-c45b-3ffd83b6e5f7"
      },
      "outputs": [
        {
          "data": {
            "text/html": [
              "<div>\n",
              "<style scoped>\n",
              "    .dataframe tbody tr th:only-of-type {\n",
              "        vertical-align: middle;\n",
              "    }\n",
              "\n",
              "    .dataframe tbody tr th {\n",
              "        vertical-align: top;\n",
              "    }\n",
              "\n",
              "    .dataframe thead th {\n",
              "        text-align: right;\n",
              "    }\n",
              "</style>\n",
              "<table border=\"1\" class=\"dataframe\">\n",
              "  <thead>\n",
              "    <tr style=\"text-align: right;\">\n",
              "      <th></th>\n",
              "      <th>product_names</th>\n",
              "      <th>product_ids</th>\n",
              "      <th>user_names</th>\n",
              "      <th>user_ratings</th>\n",
              "      <th>user_reviews</th>\n",
              "    </tr>\n",
              "  </thead>\n",
              "  <tbody>\n",
              "    <tr>\n",
              "      <th>0</th>\n",
              "      <td>오버사이즈 16골 에센셜 코듀로이 셔츠 블랙</td>\n",
              "      <td>22FWGS28BK</td>\n",
              "      <td>킴오복</td>\n",
              "      <td>80</td>\n",
              "      <td>깔끔하고 입기 편안해요 손이 자주가는 편한 느낌</td>\n",
              "    </tr>\n",
              "    <tr>\n",
              "      <th>1</th>\n",
              "      <td>오버사이즈 16골 에센셜 코듀로이 셔츠 블랙</td>\n",
              "      <td>22FWGS28BK</td>\n",
              "      <td>web</td>\n",
              "      <td>100</td>\n",
              "      <td>오버한 사이즈고 입으면 더 예쁩니다. 부드럽고 적당한 두께감이라 겨울에 아주 잘입을...</td>\n",
              "    </tr>\n",
              "    <tr>\n",
              "      <th>2</th>\n",
              "      <td>오버사이즈 16골 에센셜 코듀로이 셔츠 블랙</td>\n",
              "      <td>22FWGS28BK</td>\n",
              "      <td>퓨블릭a.</td>\n",
              "      <td>100</td>\n",
              "      <td>많이 길고 오버할 줄 알았는데 그렇지 않아서 좋구여 예쁩니다. 다른 색깔도 살듯..</td>\n",
              "    </tr>\n",
              "    <tr>\n",
              "      <th>3</th>\n",
              "      <td>오버사이즈 16골 에센셜 코듀로이 셔츠 블랙</td>\n",
              "      <td>22FWGS28BK</td>\n",
              "      <td>YANGMAL2</td>\n",
              "      <td>80</td>\n",
              "      <td>굿굿 생각한거보다 이쁘네영 자주 손이가네요 추천합니다</td>\n",
              "    </tr>\n",
              "    <tr>\n",
              "      <th>4</th>\n",
              "      <td>오버사이즈 16골 에센셜 코듀로이 셔츠 블랙</td>\n",
              "      <td>22FWGS28BK</td>\n",
              "      <td>.ㅡㅡㅡㅡㅡ.</td>\n",
              "      <td>100</td>\n",
              "      <td>살짝 얇은 원단이 아쉽지만 전체적으로 가격을 뛰어 넘는 품질입니다.</td>\n",
              "    </tr>\n",
              "    <tr>\n",
              "      <th>...</th>\n",
              "      <td>...</td>\n",
              "      <td>...</td>\n",
              "      <td>...</td>\n",
              "      <td>...</td>\n",
              "      <td>...</td>\n",
              "    </tr>\n",
              "    <tr>\n",
              "      <th>179772</th>\n",
              "      <td>레이싱 자켓</td>\n",
              "      <td>G2301JK04BK/G2301JK04IV</td>\n",
              "      <td>민이후니</td>\n",
              "      <td>100</td>\n",
              "      <td>비록 클리어런스 제품이지만 제품 자체는 덜 할인이 들어가도 구매 할 만큼 충분히 퀄...</td>\n",
              "    </tr>\n",
              "    <tr>\n",
              "      <th>179774</th>\n",
              "      <td>레이싱 자켓</td>\n",
              "      <td>G2301JK04BK/G2301JK04IV</td>\n",
              "      <td>Kobe-Ju</td>\n",
              "      <td>100</td>\n",
              "      <td>퀄리티좋고 배송빨라요 패키지도 잘되있어서 선물하기에도 용이해보이고 일단 착용감도 굿...</td>\n",
              "    </tr>\n",
              "    <tr>\n",
              "      <th>179775</th>\n",
              "      <td>레이싱 자켓</td>\n",
              "      <td>G2301JK04BK/G2301JK04IV</td>\n",
              "      <td>dossl</td>\n",
              "      <td>100</td>\n",
              "      <td>상품 잘 받았습니다 퀄리티도 괜찮아보이고 디자인도 맘에들어서 자주 사용할 것 같아요...</td>\n",
              "    </tr>\n",
              "    <tr>\n",
              "      <th>179777</th>\n",
              "      <td>레이싱 자켓</td>\n",
              "      <td>G2301JK04BK/G2301JK04IV</td>\n",
              "      <td>와라링</td>\n",
              "      <td>100</td>\n",
              "      <td>예쁩니다. 추천합니다 그렇지만 유일한 단점은 투웨이가 아니라는 점입니다. 더울때는 ...</td>\n",
              "    </tr>\n",
              "    <tr>\n",
              "      <th>179779</th>\n",
              "      <td>레이싱 자켓</td>\n",
              "      <td>G2301JK04BK/G2301JK04IV</td>\n",
              "      <td>배추신사무도사</td>\n",
              "      <td>100</td>\n",
              "      <td>독특한 디자인이라 기대가 컸는데 그 기대에 부흥하는 거 같아요 생각보다 얇아서 놀랐...</td>\n",
              "    </tr>\n",
              "  </tbody>\n",
              "</table>\n",
              "<p>143562 rows × 5 columns</p>\n",
              "</div>"
            ],
            "text/plain": [
              "                   product_names              product_ids user_names  \\\n",
              "0       오버사이즈 16골 에센셜 코듀로이 셔츠 블랙               22FWGS28BK        킴오복   \n",
              "1       오버사이즈 16골 에센셜 코듀로이 셔츠 블랙               22FWGS28BK        web   \n",
              "2       오버사이즈 16골 에센셜 코듀로이 셔츠 블랙               22FWGS28BK      퓨블릭a.   \n",
              "3       오버사이즈 16골 에센셜 코듀로이 셔츠 블랙               22FWGS28BK   YANGMAL2   \n",
              "4       오버사이즈 16골 에센셜 코듀로이 셔츠 블랙               22FWGS28BK    .ㅡㅡㅡㅡㅡ.   \n",
              "...                          ...                      ...        ...   \n",
              "179772                    레이싱 자켓  G2301JK04BK/G2301JK04IV       민이후니   \n",
              "179774                    레이싱 자켓  G2301JK04BK/G2301JK04IV    Kobe-Ju   \n",
              "179775                    레이싱 자켓  G2301JK04BK/G2301JK04IV      dossl   \n",
              "179777                    레이싱 자켓  G2301JK04BK/G2301JK04IV        와라링   \n",
              "179779                    레이싱 자켓  G2301JK04BK/G2301JK04IV    배추신사무도사   \n",
              "\n",
              "        user_ratings                                       user_reviews  \n",
              "0                 80                         깔끔하고 입기 편안해요 손이 자주가는 편한 느낌  \n",
              "1                100  오버한 사이즈고 입으면 더 예쁩니다. 부드럽고 적당한 두께감이라 겨울에 아주 잘입을...  \n",
              "2                100     많이 길고 오버할 줄 알았는데 그렇지 않아서 좋구여 예쁩니다. 다른 색깔도 살듯..  \n",
              "3                 80                      굿굿 생각한거보다 이쁘네영 자주 손이가네요 추천합니다  \n",
              "4                100             살짝 얇은 원단이 아쉽지만 전체적으로 가격을 뛰어 넘는 품질입니다.   \n",
              "...              ...                                                ...  \n",
              "179772           100  비록 클리어런스 제품이지만 제품 자체는 덜 할인이 들어가도 구매 할 만큼 충분히 퀄...  \n",
              "179774           100  퀄리티좋고 배송빨라요 패키지도 잘되있어서 선물하기에도 용이해보이고 일단 착용감도 굿...  \n",
              "179775           100  상품 잘 받았습니다 퀄리티도 괜찮아보이고 디자인도 맘에들어서 자주 사용할 것 같아요...  \n",
              "179777           100  예쁩니다. 추천합니다 그렇지만 유일한 단점은 투웨이가 아니라는 점입니다. 더울때는 ...  \n",
              "179779           100  독특한 디자인이라 기대가 컸는데 그 기대에 부흥하는 거 같아요 생각보다 얇아서 놀랐...  \n",
              "\n",
              "[143562 rows x 5 columns]"
            ]
          },
          "execution_count": 48,
          "metadata": {},
          "output_type": "execute_result"
        }
      ],
      "source": [
        "target_df = pd.read_csv('./csv/review_240119.csv', index_col=0)\n",
        "target_df = target_df[target_df.columns[:-1]]\n",
        "target_df"
      ]
    },
    {
      "cell_type": "code",
      "execution_count": null,
      "metadata": {
        "id": "GXlCwvaIqNHX",
        "outputId": "fe8de1a0-cf16-43e3-bcdc-8ac1c4c881f9",
        "colab": {
          "referenced_widgets": [
            "c3ef3d00ec194a8f912cae8d965a8b22",
            "e974d5372b9d40bf9dedd36ffbf5d48b"
          ]
        }
      },
      "outputs": [
        {
          "data": {
            "application/vnd.jupyter.widget-view+json": {
              "model_id": "c3ef3d00ec194a8f912cae8d965a8b22",
              "version_major": 2,
              "version_minor": 0
            },
            "text/plain": [
              "  0%|          | 0/143562 [00:00<?, ?it/s]"
            ]
          },
          "metadata": {},
          "output_type": "display_data"
        },
        {
          "data": {
            "application/vnd.jupyter.widget-view+json": {
              "model_id": "e974d5372b9d40bf9dedd36ffbf5d48b",
              "version_major": 2,
              "version_minor": 0
            },
            "text/plain": [
              "  0%|          | 0/143562 [00:00<?, ?it/s]"
            ]
          },
          "metadata": {},
          "output_type": "display_data"
        }
      ],
      "source": [
        "#토큰화\n",
        "target_df['token'] = tqdm(okt_pos_tokenizer(target_df['user_reviews']))"
      ]
    },
    {
      "cell_type": "code",
      "execution_count": null,
      "metadata": {
        "id": "WTMbR5FwqNHX",
        "outputId": "e20ce8aa-b7bf-42b5-ca70-3b6dcbe883bd",
        "colab": {
          "referenced_widgets": [
            "b1fc8ef4b4e44791886d4896c175e116"
          ]
        }
      },
      "outputs": [
        {
          "data": {
            "application/vnd.jupyter.widget-view+json": {
              "model_id": "b1fc8ef4b4e44791886d4896c175e116",
              "version_major": 2,
              "version_minor": 0
            },
            "text/plain": [
              "  0%|          | 0/143562 [00:00<?, ?it/s]"
            ]
          },
          "metadata": {},
          "output_type": "display_data"
        }
      ],
      "source": [
        "#벡터라이즈 준비\n",
        "target_df['vect'] = [' '.join(text) for text in tqdm(target_df.token)]"
      ]
    },
    {
      "cell_type": "code",
      "execution_count": null,
      "metadata": {
        "id": "ojMUBuXnqNHX",
        "outputId": "2029e68f-babc-4183-f1c2-6e7630284457"
      },
      "outputs": [
        {
          "data": {
            "text/html": [
              "<div>\n",
              "<style scoped>\n",
              "    .dataframe tbody tr th:only-of-type {\n",
              "        vertical-align: middle;\n",
              "    }\n",
              "\n",
              "    .dataframe tbody tr th {\n",
              "        vertical-align: top;\n",
              "    }\n",
              "\n",
              "    .dataframe thead th {\n",
              "        text-align: right;\n",
              "    }\n",
              "</style>\n",
              "<table border=\"1\" class=\"dataframe\">\n",
              "  <thead>\n",
              "    <tr style=\"text-align: right;\">\n",
              "      <th></th>\n",
              "      <th>product_names</th>\n",
              "      <th>product_ids</th>\n",
              "      <th>user_names</th>\n",
              "      <th>user_ratings</th>\n",
              "      <th>user_reviews</th>\n",
              "      <th>token</th>\n",
              "      <th>vect</th>\n",
              "    </tr>\n",
              "  </thead>\n",
              "  <tbody>\n",
              "    <tr>\n",
              "      <th>0</th>\n",
              "      <td>오버사이즈 16골 에센셜 코듀로이 셔츠 블랙</td>\n",
              "      <td>22FWGS28BK</td>\n",
              "      <td>킴오복</td>\n",
              "      <td>80</td>\n",
              "      <td>깔끔하고 입기 편안해요 손이 자주가는 편한 느낌</td>\n",
              "      <td>[깔끔하다/Adjective, 입다/Verb, 편안하다/Adjective, 손/No...</td>\n",
              "      <td>깔끔하다/Adjective 입다/Verb 편안하다/Adjective 손/Noun 자...</td>\n",
              "    </tr>\n",
              "    <tr>\n",
              "      <th>1</th>\n",
              "      <td>오버사이즈 16골 에센셜 코듀로이 셔츠 블랙</td>\n",
              "      <td>22FWGS28BK</td>\n",
              "      <td>web</td>\n",
              "      <td>100</td>\n",
              "      <td>오버한 사이즈고 입으면 더 예쁩니다. 부드럽고 적당한 두께감이라 겨울에 아주 잘입을...</td>\n",
              "      <td>[오버/Noun, 한/Josa, 사이즈/Noun, 고/Josa, 입다/Verb, 더...</td>\n",
              "      <td>오버/Noun 한/Josa 사이즈/Noun 고/Josa 입다/Verb 더/Noun ...</td>\n",
              "    </tr>\n",
              "    <tr>\n",
              "      <th>2</th>\n",
              "      <td>오버사이즈 16골 에센셜 코듀로이 셔츠 블랙</td>\n",
              "      <td>22FWGS28BK</td>\n",
              "      <td>퓨블릭a.</td>\n",
              "      <td>100</td>\n",
              "      <td>많이 길고 오버할 줄 알았는데 그렇지 않아서 좋구여 예쁩니다. 다른 색깔도 살듯..</td>\n",
              "      <td>[많이/Adverb, 길다/Adjective, 오버/Noun, 줄/Noun, 알다/...</td>\n",
              "      <td>많이/Adverb 길다/Adjective 오버/Noun 줄/Noun 알다/Verb ...</td>\n",
              "    </tr>\n",
              "    <tr>\n",
              "      <th>3</th>\n",
              "      <td>오버사이즈 16골 에센셜 코듀로이 셔츠 블랙</td>\n",
              "      <td>22FWGS28BK</td>\n",
              "      <td>YANGMAL2</td>\n",
              "      <td>80</td>\n",
              "      <td>굿굿 생각한거보다 이쁘네영 자주 손이가네요 추천합니다</td>\n",
              "      <td>[굿굿/Noun, 생각/Noun, 한/Determiner, 거/Noun, 보다/Jo...</td>\n",
              "      <td>굿굿/Noun 생각/Noun 한/Determiner 거/Noun 보다/Josa 이쁘...</td>\n",
              "    </tr>\n",
              "    <tr>\n",
              "      <th>4</th>\n",
              "      <td>오버사이즈 16골 에센셜 코듀로이 셔츠 블랙</td>\n",
              "      <td>22FWGS28BK</td>\n",
              "      <td>.ㅡㅡㅡㅡㅡ.</td>\n",
              "      <td>100</td>\n",
              "      <td>살짝 얇은 원단이 아쉽지만 전체적으로 가격을 뛰어 넘는 품질입니다.</td>\n",
              "      <td>[살짝/Noun, 얇다/Adjective, 원단/Noun, 아쉽다/Adjective...</td>\n",
              "      <td>살짝/Noun 얇다/Adjective 원단/Noun 아쉽다/Adjective 전체/...</td>\n",
              "    </tr>\n",
              "    <tr>\n",
              "      <th>...</th>\n",
              "      <td>...</td>\n",
              "      <td>...</td>\n",
              "      <td>...</td>\n",
              "      <td>...</td>\n",
              "      <td>...</td>\n",
              "      <td>...</td>\n",
              "      <td>...</td>\n",
              "    </tr>\n",
              "    <tr>\n",
              "      <th>179772</th>\n",
              "      <td>레이싱 자켓</td>\n",
              "      <td>G2301JK04BK/G2301JK04IV</td>\n",
              "      <td>민이후니</td>\n",
              "      <td>100</td>\n",
              "      <td>비록 클리어런스 제품이지만 제품 자체는 덜 할인이 들어가도 구매 할 만큼 충분히 퀄...</td>\n",
              "      <td>[제품/Noun, 이지만/Josa, 제품/Noun, 자체/Noun, 덜/Noun, ...</td>\n",
              "      <td>제품/Noun 이지만/Josa 제품/Noun 자체/Noun 덜/Noun 할인/Nou...</td>\n",
              "    </tr>\n",
              "    <tr>\n",
              "      <th>179774</th>\n",
              "      <td>레이싱 자켓</td>\n",
              "      <td>G2301JK04BK/G2301JK04IV</td>\n",
              "      <td>Kobe-Ju</td>\n",
              "      <td>100</td>\n",
              "      <td>퀄리티좋고 배송빨라요 패키지도 잘되있어서 선물하기에도 용이해보이고 일단 착용감도 굿...</td>\n",
              "      <td>[퀄리티/Noun, 좋다/Adjective, 배송/Noun, 빨르다/Adjectiv...</td>\n",
              "      <td>퀄리티/Noun 좋다/Adjective 배송/Noun 빨르다/Adjective 패키...</td>\n",
              "    </tr>\n",
              "    <tr>\n",
              "      <th>179775</th>\n",
              "      <td>레이싱 자켓</td>\n",
              "      <td>G2301JK04BK/G2301JK04IV</td>\n",
              "      <td>dossl</td>\n",
              "      <td>100</td>\n",
              "      <td>상품 잘 받았습니다 퀄리티도 괜찮아보이고 디자인도 맘에들어서 자주 사용할 것 같아요...</td>\n",
              "      <td>[상품/Noun, 자다/Verb, 받다/Verb, 퀄리티/Noun, 괜찮다/Adje...</td>\n",
              "      <td>상품/Noun 자다/Verb 받다/Verb 퀄리티/Noun 괜찮다/Adjective...</td>\n",
              "    </tr>\n",
              "    <tr>\n",
              "      <th>179777</th>\n",
              "      <td>레이싱 자켓</td>\n",
              "      <td>G2301JK04BK/G2301JK04IV</td>\n",
              "      <td>와라링</td>\n",
              "      <td>100</td>\n",
              "      <td>예쁩니다. 추천합니다 그렇지만 유일한 단점은 투웨이가 아니라는 점입니다. 더울때는 ...</td>\n",
              "      <td>[예쁘다/Adjective, 추천/Noun, 그렇지만/Conjunction, 유일하...</td>\n",
              "      <td>예쁘다/Adjective 추천/Noun 그렇지만/Conjunction 유일하다/Ad...</td>\n",
              "    </tr>\n",
              "    <tr>\n",
              "      <th>179779</th>\n",
              "      <td>레이싱 자켓</td>\n",
              "      <td>G2301JK04BK/G2301JK04IV</td>\n",
              "      <td>배추신사무도사</td>\n",
              "      <td>100</td>\n",
              "      <td>독특한 디자인이라 기대가 컸는데 그 기대에 부흥하는 거 같아요 생각보다 얇아서 놀랐...</td>\n",
              "      <td>[독특하다/Adjective, 디자인/Noun, 이라/Josa, 기대/Noun, 크...</td>\n",
              "      <td>독특하다/Adjective 디자인/Noun 이라/Josa 기대/Noun 크다/Ver...</td>\n",
              "    </tr>\n",
              "  </tbody>\n",
              "</table>\n",
              "<p>143562 rows × 7 columns</p>\n",
              "</div>"
            ],
            "text/plain": [
              "                   product_names              product_ids user_names  \\\n",
              "0       오버사이즈 16골 에센셜 코듀로이 셔츠 블랙               22FWGS28BK        킴오복   \n",
              "1       오버사이즈 16골 에센셜 코듀로이 셔츠 블랙               22FWGS28BK        web   \n",
              "2       오버사이즈 16골 에센셜 코듀로이 셔츠 블랙               22FWGS28BK      퓨블릭a.   \n",
              "3       오버사이즈 16골 에센셜 코듀로이 셔츠 블랙               22FWGS28BK   YANGMAL2   \n",
              "4       오버사이즈 16골 에센셜 코듀로이 셔츠 블랙               22FWGS28BK    .ㅡㅡㅡㅡㅡ.   \n",
              "...                          ...                      ...        ...   \n",
              "179772                    레이싱 자켓  G2301JK04BK/G2301JK04IV       민이후니   \n",
              "179774                    레이싱 자켓  G2301JK04BK/G2301JK04IV    Kobe-Ju   \n",
              "179775                    레이싱 자켓  G2301JK04BK/G2301JK04IV      dossl   \n",
              "179777                    레이싱 자켓  G2301JK04BK/G2301JK04IV        와라링   \n",
              "179779                    레이싱 자켓  G2301JK04BK/G2301JK04IV    배추신사무도사   \n",
              "\n",
              "        user_ratings                                       user_reviews  \\\n",
              "0                 80                         깔끔하고 입기 편안해요 손이 자주가는 편한 느낌   \n",
              "1                100  오버한 사이즈고 입으면 더 예쁩니다. 부드럽고 적당한 두께감이라 겨울에 아주 잘입을...   \n",
              "2                100     많이 길고 오버할 줄 알았는데 그렇지 않아서 좋구여 예쁩니다. 다른 색깔도 살듯..   \n",
              "3                 80                      굿굿 생각한거보다 이쁘네영 자주 손이가네요 추천합니다   \n",
              "4                100             살짝 얇은 원단이 아쉽지만 전체적으로 가격을 뛰어 넘는 품질입니다.    \n",
              "...              ...                                                ...   \n",
              "179772           100  비록 클리어런스 제품이지만 제품 자체는 덜 할인이 들어가도 구매 할 만큼 충분히 퀄...   \n",
              "179774           100  퀄리티좋고 배송빨라요 패키지도 잘되있어서 선물하기에도 용이해보이고 일단 착용감도 굿...   \n",
              "179775           100  상품 잘 받았습니다 퀄리티도 괜찮아보이고 디자인도 맘에들어서 자주 사용할 것 같아요...   \n",
              "179777           100  예쁩니다. 추천합니다 그렇지만 유일한 단점은 투웨이가 아니라는 점입니다. 더울때는 ...   \n",
              "179779           100  독특한 디자인이라 기대가 컸는데 그 기대에 부흥하는 거 같아요 생각보다 얇아서 놀랐...   \n",
              "\n",
              "                                                    token  \\\n",
              "0       [깔끔하다/Adjective, 입다/Verb, 편안하다/Adjective, 손/No...   \n",
              "1       [오버/Noun, 한/Josa, 사이즈/Noun, 고/Josa, 입다/Verb, 더...   \n",
              "2       [많이/Adverb, 길다/Adjective, 오버/Noun, 줄/Noun, 알다/...   \n",
              "3       [굿굿/Noun, 생각/Noun, 한/Determiner, 거/Noun, 보다/Jo...   \n",
              "4       [살짝/Noun, 얇다/Adjective, 원단/Noun, 아쉽다/Adjective...   \n",
              "...                                                   ...   \n",
              "179772  [제품/Noun, 이지만/Josa, 제품/Noun, 자체/Noun, 덜/Noun, ...   \n",
              "179774  [퀄리티/Noun, 좋다/Adjective, 배송/Noun, 빨르다/Adjectiv...   \n",
              "179775  [상품/Noun, 자다/Verb, 받다/Verb, 퀄리티/Noun, 괜찮다/Adje...   \n",
              "179777  [예쁘다/Adjective, 추천/Noun, 그렇지만/Conjunction, 유일하...   \n",
              "179779  [독특하다/Adjective, 디자인/Noun, 이라/Josa, 기대/Noun, 크...   \n",
              "\n",
              "                                                     vect  \n",
              "0       깔끔하다/Adjective 입다/Verb 편안하다/Adjective 손/Noun 자...  \n",
              "1       오버/Noun 한/Josa 사이즈/Noun 고/Josa 입다/Verb 더/Noun ...  \n",
              "2       많이/Adverb 길다/Adjective 오버/Noun 줄/Noun 알다/Verb ...  \n",
              "3       굿굿/Noun 생각/Noun 한/Determiner 거/Noun 보다/Josa 이쁘...  \n",
              "4       살짝/Noun 얇다/Adjective 원단/Noun 아쉽다/Adjective 전체/...  \n",
              "...                                                   ...  \n",
              "179772  제품/Noun 이지만/Josa 제품/Noun 자체/Noun 덜/Noun 할인/Nou...  \n",
              "179774  퀄리티/Noun 좋다/Adjective 배송/Noun 빨르다/Adjective 패키...  \n",
              "179775  상품/Noun 자다/Verb 받다/Verb 퀄리티/Noun 괜찮다/Adjective...  \n",
              "179777  예쁘다/Adjective 추천/Noun 그렇지만/Conjunction 유일하다/Ad...  \n",
              "179779  독특하다/Adjective 디자인/Noun 이라/Josa 기대/Noun 크다/Ver...  \n",
              "\n",
              "[143562 rows x 7 columns]"
            ]
          },
          "execution_count": 53,
          "metadata": {},
          "output_type": "execute_result"
        }
      ],
      "source": [
        "target_df"
      ]
    },
    {
      "cell_type": "code",
      "execution_count": null,
      "metadata": {
        "id": "YYUaJxpDqNHY"
      },
      "outputs": [],
      "source": [
        "# 벡터라이즈\n",
        "# 기존의 vectorizer에 넣어 transform만 하기\n",
        "# 여기서 fit 또는 fit_transform을 하면 새로운 기준으로 vectorized 됨\n",
        "target_review_vectorized = vectorizer.transform(target_df['vect'])"
      ]
    },
    {
      "cell_type": "code",
      "execution_count": null,
      "metadata": {
        "id": "jyUG3P7aqNHY",
        "outputId": "bc223755-6068-473a-cdb6-aa725dc75877"
      },
      "outputs": [
        {
          "data": {
            "text/plain": [
              "<39231x3831 sparse matrix of type '<class 'numpy.float64'>'\n",
              "\twith 1579863 stored elements in Compressed Sparse Row format>"
            ]
          },
          "execution_count": 55,
          "metadata": {},
          "output_type": "execute_result"
        }
      ],
      "source": [
        "X_train_vectorized_over"
      ]
    },
    {
      "cell_type": "code",
      "execution_count": null,
      "metadata": {
        "id": "KBiDNoYWqNHY",
        "outputId": "47ae739b-8cb1-46bd-8175-b94bb7230e3b"
      },
      "outputs": [
        {
          "data": {
            "text/plain": [
              "<143562x3831 sparse matrix of type '<class 'numpy.float64'>'\n",
              "\twith 2465145 stored elements in Compressed Sparse Row format>"
            ]
          },
          "execution_count": 56,
          "metadata": {},
          "output_type": "execute_result"
        }
      ],
      "source": [
        "target_review_vectorized"
      ]
    },
    {
      "cell_type": "code",
      "execution_count": null,
      "metadata": {
        "id": "TfbrKEsrqNHZ"
      },
      "outputs": [],
      "source": [
        "# 리뷰 감성 예측\n",
        "lgbm_predicted_sent = lgbm_clf.predict(target_review_vectorized)\n",
        "target_df['lgbm_predicted_sent'] = lgbm_predicted_sent"
      ]
    },
    {
      "cell_type": "code",
      "execution_count": null,
      "metadata": {
        "id": "qqZR8wxqqNHZ"
      },
      "outputs": [],
      "source": [
        "target_df.to_csv('review_lgbm_240121.csv', sep=',', encoding='utf-8')"
      ]
    },
    {
      "cell_type": "code",
      "execution_count": null,
      "metadata": {
        "id": "umKDUwjbqNHZ",
        "outputId": "5af1770a-561c-41ac-a965-54218a56c210"
      },
      "outputs": [
        {
          "data": {
            "text/html": [
              "<div>\n",
              "<style scoped>\n",
              "    .dataframe tbody tr th:only-of-type {\n",
              "        vertical-align: middle;\n",
              "    }\n",
              "\n",
              "    .dataframe tbody tr th {\n",
              "        vertical-align: top;\n",
              "    }\n",
              "\n",
              "    .dataframe thead th {\n",
              "        text-align: right;\n",
              "    }\n",
              "</style>\n",
              "<table border=\"1\" class=\"dataframe\">\n",
              "  <thead>\n",
              "    <tr style=\"text-align: right;\">\n",
              "      <th></th>\n",
              "      <th>product_names</th>\n",
              "      <th>product_ids</th>\n",
              "      <th>user_names</th>\n",
              "      <th>user_ratings</th>\n",
              "      <th>user_reviews</th>\n",
              "      <th>token</th>\n",
              "      <th>vect</th>\n",
              "      <th>lgbm_predicted_sent</th>\n",
              "    </tr>\n",
              "  </thead>\n",
              "  <tbody>\n",
              "    <tr>\n",
              "      <th>0</th>\n",
              "      <td>오버사이즈 16골 에센셜 코듀로이 셔츠 블랙</td>\n",
              "      <td>22FWGS28BK</td>\n",
              "      <td>킴오복</td>\n",
              "      <td>80</td>\n",
              "      <td>깔끔하고 입기 편안해요 손이 자주가는 편한 느낌</td>\n",
              "      <td>[깔끔하다/Adjective, 입다/Verb, 편안하다/Adjective, 손/No...</td>\n",
              "      <td>깔끔하다/Adjective 입다/Verb 편안하다/Adjective 손/Noun 자...</td>\n",
              "      <td>pos</td>\n",
              "    </tr>\n",
              "    <tr>\n",
              "      <th>1</th>\n",
              "      <td>오버사이즈 16골 에센셜 코듀로이 셔츠 블랙</td>\n",
              "      <td>22FWGS28BK</td>\n",
              "      <td>web</td>\n",
              "      <td>100</td>\n",
              "      <td>오버한 사이즈고 입으면 더 예쁩니다. 부드럽고 적당한 두께감이라 겨울에 아주 잘입을...</td>\n",
              "      <td>[오버/Noun, 한/Josa, 사이즈/Noun, 고/Josa, 입다/Verb, 더...</td>\n",
              "      <td>오버/Noun 한/Josa 사이즈/Noun 고/Josa 입다/Verb 더/Noun ...</td>\n",
              "      <td>pos</td>\n",
              "    </tr>\n",
              "    <tr>\n",
              "      <th>2</th>\n",
              "      <td>오버사이즈 16골 에센셜 코듀로이 셔츠 블랙</td>\n",
              "      <td>22FWGS28BK</td>\n",
              "      <td>퓨블릭a.</td>\n",
              "      <td>100</td>\n",
              "      <td>많이 길고 오버할 줄 알았는데 그렇지 않아서 좋구여 예쁩니다. 다른 색깔도 살듯..</td>\n",
              "      <td>[많이/Adverb, 길다/Adjective, 오버/Noun, 줄/Noun, 알다/...</td>\n",
              "      <td>많이/Adverb 길다/Adjective 오버/Noun 줄/Noun 알다/Verb ...</td>\n",
              "      <td>pos</td>\n",
              "    </tr>\n",
              "    <tr>\n",
              "      <th>3</th>\n",
              "      <td>오버사이즈 16골 에센셜 코듀로이 셔츠 블랙</td>\n",
              "      <td>22FWGS28BK</td>\n",
              "      <td>YANGMAL2</td>\n",
              "      <td>80</td>\n",
              "      <td>굿굿 생각한거보다 이쁘네영 자주 손이가네요 추천합니다</td>\n",
              "      <td>[굿굿/Noun, 생각/Noun, 한/Determiner, 거/Noun, 보다/Jo...</td>\n",
              "      <td>굿굿/Noun 생각/Noun 한/Determiner 거/Noun 보다/Josa 이쁘...</td>\n",
              "      <td>pos</td>\n",
              "    </tr>\n",
              "    <tr>\n",
              "      <th>4</th>\n",
              "      <td>오버사이즈 16골 에센셜 코듀로이 셔츠 블랙</td>\n",
              "      <td>22FWGS28BK</td>\n",
              "      <td>.ㅡㅡㅡㅡㅡ.</td>\n",
              "      <td>100</td>\n",
              "      <td>살짝 얇은 원단이 아쉽지만 전체적으로 가격을 뛰어 넘는 품질입니다.</td>\n",
              "      <td>[살짝/Noun, 얇다/Adjective, 원단/Noun, 아쉽다/Adjective...</td>\n",
              "      <td>살짝/Noun 얇다/Adjective 원단/Noun 아쉽다/Adjective 전체/...</td>\n",
              "      <td>pos</td>\n",
              "    </tr>\n",
              "    <tr>\n",
              "      <th>...</th>\n",
              "      <td>...</td>\n",
              "      <td>...</td>\n",
              "      <td>...</td>\n",
              "      <td>...</td>\n",
              "      <td>...</td>\n",
              "      <td>...</td>\n",
              "      <td>...</td>\n",
              "      <td>...</td>\n",
              "    </tr>\n",
              "    <tr>\n",
              "      <th>179772</th>\n",
              "      <td>레이싱 자켓</td>\n",
              "      <td>G2301JK04BK/G2301JK04IV</td>\n",
              "      <td>민이후니</td>\n",
              "      <td>100</td>\n",
              "      <td>비록 클리어런스 제품이지만 제품 자체는 덜 할인이 들어가도 구매 할 만큼 충분히 퀄...</td>\n",
              "      <td>[제품/Noun, 이지만/Josa, 제품/Noun, 자체/Noun, 덜/Noun, ...</td>\n",
              "      <td>제품/Noun 이지만/Josa 제품/Noun 자체/Noun 덜/Noun 할인/Nou...</td>\n",
              "      <td>pos</td>\n",
              "    </tr>\n",
              "    <tr>\n",
              "      <th>179774</th>\n",
              "      <td>레이싱 자켓</td>\n",
              "      <td>G2301JK04BK/G2301JK04IV</td>\n",
              "      <td>Kobe-Ju</td>\n",
              "      <td>100</td>\n",
              "      <td>퀄리티좋고 배송빨라요 패키지도 잘되있어서 선물하기에도 용이해보이고 일단 착용감도 굿...</td>\n",
              "      <td>[퀄리티/Noun, 좋다/Adjective, 배송/Noun, 빨르다/Adjectiv...</td>\n",
              "      <td>퀄리티/Noun 좋다/Adjective 배송/Noun 빨르다/Adjective 패키...</td>\n",
              "      <td>pos</td>\n",
              "    </tr>\n",
              "    <tr>\n",
              "      <th>179775</th>\n",
              "      <td>레이싱 자켓</td>\n",
              "      <td>G2301JK04BK/G2301JK04IV</td>\n",
              "      <td>dossl</td>\n",
              "      <td>100</td>\n",
              "      <td>상품 잘 받았습니다 퀄리티도 괜찮아보이고 디자인도 맘에들어서 자주 사용할 것 같아요...</td>\n",
              "      <td>[상품/Noun, 자다/Verb, 받다/Verb, 퀄리티/Noun, 괜찮다/Adje...</td>\n",
              "      <td>상품/Noun 자다/Verb 받다/Verb 퀄리티/Noun 괜찮다/Adjective...</td>\n",
              "      <td>pos</td>\n",
              "    </tr>\n",
              "    <tr>\n",
              "      <th>179777</th>\n",
              "      <td>레이싱 자켓</td>\n",
              "      <td>G2301JK04BK/G2301JK04IV</td>\n",
              "      <td>와라링</td>\n",
              "      <td>100</td>\n",
              "      <td>예쁩니다. 추천합니다 그렇지만 유일한 단점은 투웨이가 아니라는 점입니다. 더울때는 ...</td>\n",
              "      <td>[예쁘다/Adjective, 추천/Noun, 그렇지만/Conjunction, 유일하...</td>\n",
              "      <td>예쁘다/Adjective 추천/Noun 그렇지만/Conjunction 유일하다/Ad...</td>\n",
              "      <td>pos</td>\n",
              "    </tr>\n",
              "    <tr>\n",
              "      <th>179779</th>\n",
              "      <td>레이싱 자켓</td>\n",
              "      <td>G2301JK04BK/G2301JK04IV</td>\n",
              "      <td>배추신사무도사</td>\n",
              "      <td>100</td>\n",
              "      <td>독특한 디자인이라 기대가 컸는데 그 기대에 부흥하는 거 같아요 생각보다 얇아서 놀랐...</td>\n",
              "      <td>[독특하다/Adjective, 디자인/Noun, 이라/Josa, 기대/Noun, 크...</td>\n",
              "      <td>독특하다/Adjective 디자인/Noun 이라/Josa 기대/Noun 크다/Ver...</td>\n",
              "      <td>pos</td>\n",
              "    </tr>\n",
              "  </tbody>\n",
              "</table>\n",
              "<p>143562 rows × 8 columns</p>\n",
              "</div>"
            ],
            "text/plain": [
              "                   product_names              product_ids user_names  \\\n",
              "0       오버사이즈 16골 에센셜 코듀로이 셔츠 블랙               22FWGS28BK        킴오복   \n",
              "1       오버사이즈 16골 에센셜 코듀로이 셔츠 블랙               22FWGS28BK        web   \n",
              "2       오버사이즈 16골 에센셜 코듀로이 셔츠 블랙               22FWGS28BK      퓨블릭a.   \n",
              "3       오버사이즈 16골 에센셜 코듀로이 셔츠 블랙               22FWGS28BK   YANGMAL2   \n",
              "4       오버사이즈 16골 에센셜 코듀로이 셔츠 블랙               22FWGS28BK    .ㅡㅡㅡㅡㅡ.   \n",
              "...                          ...                      ...        ...   \n",
              "179772                    레이싱 자켓  G2301JK04BK/G2301JK04IV       민이후니   \n",
              "179774                    레이싱 자켓  G2301JK04BK/G2301JK04IV    Kobe-Ju   \n",
              "179775                    레이싱 자켓  G2301JK04BK/G2301JK04IV      dossl   \n",
              "179777                    레이싱 자켓  G2301JK04BK/G2301JK04IV        와라링   \n",
              "179779                    레이싱 자켓  G2301JK04BK/G2301JK04IV    배추신사무도사   \n",
              "\n",
              "        user_ratings                                       user_reviews  \\\n",
              "0                 80                         깔끔하고 입기 편안해요 손이 자주가는 편한 느낌   \n",
              "1                100  오버한 사이즈고 입으면 더 예쁩니다. 부드럽고 적당한 두께감이라 겨울에 아주 잘입을...   \n",
              "2                100     많이 길고 오버할 줄 알았는데 그렇지 않아서 좋구여 예쁩니다. 다른 색깔도 살듯..   \n",
              "3                 80                      굿굿 생각한거보다 이쁘네영 자주 손이가네요 추천합니다   \n",
              "4                100             살짝 얇은 원단이 아쉽지만 전체적으로 가격을 뛰어 넘는 품질입니다.    \n",
              "...              ...                                                ...   \n",
              "179772           100  비록 클리어런스 제품이지만 제품 자체는 덜 할인이 들어가도 구매 할 만큼 충분히 퀄...   \n",
              "179774           100  퀄리티좋고 배송빨라요 패키지도 잘되있어서 선물하기에도 용이해보이고 일단 착용감도 굿...   \n",
              "179775           100  상품 잘 받았습니다 퀄리티도 괜찮아보이고 디자인도 맘에들어서 자주 사용할 것 같아요...   \n",
              "179777           100  예쁩니다. 추천합니다 그렇지만 유일한 단점은 투웨이가 아니라는 점입니다. 더울때는 ...   \n",
              "179779           100  독특한 디자인이라 기대가 컸는데 그 기대에 부흥하는 거 같아요 생각보다 얇아서 놀랐...   \n",
              "\n",
              "                                                    token  \\\n",
              "0       [깔끔하다/Adjective, 입다/Verb, 편안하다/Adjective, 손/No...   \n",
              "1       [오버/Noun, 한/Josa, 사이즈/Noun, 고/Josa, 입다/Verb, 더...   \n",
              "2       [많이/Adverb, 길다/Adjective, 오버/Noun, 줄/Noun, 알다/...   \n",
              "3       [굿굿/Noun, 생각/Noun, 한/Determiner, 거/Noun, 보다/Jo...   \n",
              "4       [살짝/Noun, 얇다/Adjective, 원단/Noun, 아쉽다/Adjective...   \n",
              "...                                                   ...   \n",
              "179772  [제품/Noun, 이지만/Josa, 제품/Noun, 자체/Noun, 덜/Noun, ...   \n",
              "179774  [퀄리티/Noun, 좋다/Adjective, 배송/Noun, 빨르다/Adjectiv...   \n",
              "179775  [상품/Noun, 자다/Verb, 받다/Verb, 퀄리티/Noun, 괜찮다/Adje...   \n",
              "179777  [예쁘다/Adjective, 추천/Noun, 그렇지만/Conjunction, 유일하...   \n",
              "179779  [독특하다/Adjective, 디자인/Noun, 이라/Josa, 기대/Noun, 크...   \n",
              "\n",
              "                                                     vect lgbm_predicted_sent  \n",
              "0       깔끔하다/Adjective 입다/Verb 편안하다/Adjective 손/Noun 자...                 pos  \n",
              "1       오버/Noun 한/Josa 사이즈/Noun 고/Josa 입다/Verb 더/Noun ...                 pos  \n",
              "2       많이/Adverb 길다/Adjective 오버/Noun 줄/Noun 알다/Verb ...                 pos  \n",
              "3       굿굿/Noun 생각/Noun 한/Determiner 거/Noun 보다/Josa 이쁘...                 pos  \n",
              "4       살짝/Noun 얇다/Adjective 원단/Noun 아쉽다/Adjective 전체/...                 pos  \n",
              "...                                                   ...                 ...  \n",
              "179772  제품/Noun 이지만/Josa 제품/Noun 자체/Noun 덜/Noun 할인/Nou...                 pos  \n",
              "179774  퀄리티/Noun 좋다/Adjective 배송/Noun 빨르다/Adjective 패키...                 pos  \n",
              "179775  상품/Noun 자다/Verb 받다/Verb 퀄리티/Noun 괜찮다/Adjective...                 pos  \n",
              "179777  예쁘다/Adjective 추천/Noun 그렇지만/Conjunction 유일하다/Ad...                 pos  \n",
              "179779  독특하다/Adjective 디자인/Noun 이라/Josa 기대/Noun 크다/Ver...                 pos  \n",
              "\n",
              "[143562 rows x 8 columns]"
            ]
          },
          "execution_count": 59,
          "metadata": {},
          "output_type": "execute_result"
        }
      ],
      "source": [
        "target_df"
      ]
    },
    {
      "cell_type": "markdown",
      "metadata": {
        "id": "wONvtdtjqNHZ"
      },
      "source": [
        "### WordCloud"
      ]
    },
    {
      "cell_type": "code",
      "execution_count": null,
      "metadata": {
        "id": "1hcY6YlmqNHa",
        "outputId": "3533f4a1-4cc5-4c8e-a025-12ec862aaddb"
      },
      "outputs": [
        {
          "data": {
            "text/html": [
              "<div>\n",
              "<style scoped>\n",
              "    .dataframe tbody tr th:only-of-type {\n",
              "        vertical-align: middle;\n",
              "    }\n",
              "\n",
              "    .dataframe tbody tr th {\n",
              "        vertical-align: top;\n",
              "    }\n",
              "\n",
              "    .dataframe thead th {\n",
              "        text-align: right;\n",
              "    }\n",
              "</style>\n",
              "<table border=\"1\" class=\"dataframe\">\n",
              "  <thead>\n",
              "    <tr style=\"text-align: right;\">\n",
              "      <th></th>\n",
              "      <th>product_names</th>\n",
              "      <th>product_ids</th>\n",
              "      <th>user_names</th>\n",
              "      <th>user_ratings</th>\n",
              "      <th>user_reviews</th>\n",
              "      <th>token</th>\n",
              "      <th>vect</th>\n",
              "      <th>lgbm_predicted_sent</th>\n",
              "    </tr>\n",
              "  </thead>\n",
              "  <tbody>\n",
              "    <tr>\n",
              "      <th>0</th>\n",
              "      <td>오버사이즈 16골 에센셜 코듀로이 셔츠 블랙</td>\n",
              "      <td>22FWGS28BK</td>\n",
              "      <td>킴오복</td>\n",
              "      <td>80</td>\n",
              "      <td>깔끔하고 입기 편안해요 손이 자주가는 편한 느낌</td>\n",
              "      <td>['깔끔하다/Adjective', '입다/Verb', '편안하다/Adjective'...</td>\n",
              "      <td>깔끔하다/Adjective 입다/Verb 편안하다/Adjective 손/Noun 자...</td>\n",
              "      <td>pos</td>\n",
              "    </tr>\n",
              "    <tr>\n",
              "      <th>1</th>\n",
              "      <td>오버사이즈 16골 에센셜 코듀로이 셔츠 블랙</td>\n",
              "      <td>22FWGS28BK</td>\n",
              "      <td>web</td>\n",
              "      <td>100</td>\n",
              "      <td>오버한 사이즈고 입으면 더 예쁩니다. 부드럽고 적당한 두께감이라 겨울에 아주 잘입을...</td>\n",
              "      <td>['오버/Noun', '한/Josa', '사이즈/Noun', '고/Josa', '입...</td>\n",
              "      <td>오버/Noun 한/Josa 사이즈/Noun 고/Josa 입다/Verb 더/Noun ...</td>\n",
              "      <td>pos</td>\n",
              "    </tr>\n",
              "    <tr>\n",
              "      <th>2</th>\n",
              "      <td>오버사이즈 16골 에센셜 코듀로이 셔츠 블랙</td>\n",
              "      <td>22FWGS28BK</td>\n",
              "      <td>퓨블릭a.</td>\n",
              "      <td>100</td>\n",
              "      <td>많이 길고 오버할 줄 알았는데 그렇지 않아서 좋구여 예쁩니다. 다른 색깔도 살듯..</td>\n",
              "      <td>['많이/Adverb', '길다/Adjective', '오버/Noun', '줄/No...</td>\n",
              "      <td>많이/Adverb 길다/Adjective 오버/Noun 줄/Noun 알다/Verb ...</td>\n",
              "      <td>pos</td>\n",
              "    </tr>\n",
              "    <tr>\n",
              "      <th>3</th>\n",
              "      <td>오버사이즈 16골 에센셜 코듀로이 셔츠 블랙</td>\n",
              "      <td>22FWGS28BK</td>\n",
              "      <td>YANGMAL2</td>\n",
              "      <td>80</td>\n",
              "      <td>굿굿 생각한거보다 이쁘네영 자주 손이가네요 추천합니다</td>\n",
              "      <td>['굿굿/Noun', '생각/Noun', '한/Determiner', '거/Noun...</td>\n",
              "      <td>굿굿/Noun 생각/Noun 한/Determiner 거/Noun 보다/Josa 이쁘...</td>\n",
              "      <td>pos</td>\n",
              "    </tr>\n",
              "    <tr>\n",
              "      <th>4</th>\n",
              "      <td>오버사이즈 16골 에센셜 코듀로이 셔츠 블랙</td>\n",
              "      <td>22FWGS28BK</td>\n",
              "      <td>.ㅡㅡㅡㅡㅡ.</td>\n",
              "      <td>100</td>\n",
              "      <td>살짝 얇은 원단이 아쉽지만 전체적으로 가격을 뛰어 넘는 품질입니다.</td>\n",
              "      <td>['살짝/Noun', '얇다/Adjective', '원단/Noun', '아쉽다/Ad...</td>\n",
              "      <td>살짝/Noun 얇다/Adjective 원단/Noun 아쉽다/Adjective 전체/...</td>\n",
              "      <td>pos</td>\n",
              "    </tr>\n",
              "  </tbody>\n",
              "</table>\n",
              "</div>"
            ],
            "text/plain": [
              "              product_names product_ids user_names  user_ratings  \\\n",
              "0  오버사이즈 16골 에센셜 코듀로이 셔츠 블랙  22FWGS28BK        킴오복            80   \n",
              "1  오버사이즈 16골 에센셜 코듀로이 셔츠 블랙  22FWGS28BK        web           100   \n",
              "2  오버사이즈 16골 에센셜 코듀로이 셔츠 블랙  22FWGS28BK      퓨블릭a.           100   \n",
              "3  오버사이즈 16골 에센셜 코듀로이 셔츠 블랙  22FWGS28BK   YANGMAL2            80   \n",
              "4  오버사이즈 16골 에센셜 코듀로이 셔츠 블랙  22FWGS28BK    .ㅡㅡㅡㅡㅡ.           100   \n",
              "\n",
              "                                        user_reviews  \\\n",
              "0                         깔끔하고 입기 편안해요 손이 자주가는 편한 느낌   \n",
              "1  오버한 사이즈고 입으면 더 예쁩니다. 부드럽고 적당한 두께감이라 겨울에 아주 잘입을...   \n",
              "2     많이 길고 오버할 줄 알았는데 그렇지 않아서 좋구여 예쁩니다. 다른 색깔도 살듯..   \n",
              "3                      굿굿 생각한거보다 이쁘네영 자주 손이가네요 추천합니다   \n",
              "4             살짝 얇은 원단이 아쉽지만 전체적으로 가격을 뛰어 넘는 품질입니다.    \n",
              "\n",
              "                                               token  \\\n",
              "0  ['깔끔하다/Adjective', '입다/Verb', '편안하다/Adjective'...   \n",
              "1  ['오버/Noun', '한/Josa', '사이즈/Noun', '고/Josa', '입...   \n",
              "2  ['많이/Adverb', '길다/Adjective', '오버/Noun', '줄/No...   \n",
              "3  ['굿굿/Noun', '생각/Noun', '한/Determiner', '거/Noun...   \n",
              "4  ['살짝/Noun', '얇다/Adjective', '원단/Noun', '아쉽다/Ad...   \n",
              "\n",
              "                                                vect lgbm_predicted_sent  \n",
              "0  깔끔하다/Adjective 입다/Verb 편안하다/Adjective 손/Noun 자...                 pos  \n",
              "1  오버/Noun 한/Josa 사이즈/Noun 고/Josa 입다/Verb 더/Noun ...                 pos  \n",
              "2  많이/Adverb 길다/Adjective 오버/Noun 줄/Noun 알다/Verb ...                 pos  \n",
              "3  굿굿/Noun 생각/Noun 한/Determiner 거/Noun 보다/Josa 이쁘...                 pos  \n",
              "4  살짝/Noun 얇다/Adjective 원단/Noun 아쉽다/Adjective 전체/...                 pos  "
            ]
          },
          "execution_count": 6,
          "metadata": {},
          "output_type": "execute_result"
        }
      ],
      "source": [
        "df = pd.read_csv('./review_lgbm_240121.csv', sep=',', encoding='utf-8', index_col=0)\n",
        "df.head()"
      ]
    },
    {
      "cell_type": "code",
      "execution_count": null,
      "metadata": {
        "id": "o71fZ3EwqNHa",
        "outputId": "bd2f8a47-6a11-4a53-d17a-e9efc0ab7753"
      },
      "outputs": [
        {
          "data": {
            "text/html": [
              "<div>\n",
              "<style scoped>\n",
              "    .dataframe tbody tr th:only-of-type {\n",
              "        vertical-align: middle;\n",
              "    }\n",
              "\n",
              "    .dataframe tbody tr th {\n",
              "        vertical-align: top;\n",
              "    }\n",
              "\n",
              "    .dataframe thead th {\n",
              "        text-align: right;\n",
              "    }\n",
              "</style>\n",
              "<table border=\"1\" class=\"dataframe\">\n",
              "  <thead>\n",
              "    <tr style=\"text-align: right;\">\n",
              "      <th></th>\n",
              "      <th>product_names</th>\n",
              "      <th>product_ids</th>\n",
              "      <th>user_names</th>\n",
              "      <th>user_ratings</th>\n",
              "      <th>user_reviews</th>\n",
              "      <th>token</th>\n",
              "      <th>vect</th>\n",
              "      <th>lgbm_predicted_sent</th>\n",
              "    </tr>\n",
              "  </thead>\n",
              "  <tbody>\n",
              "    <tr>\n",
              "      <th>0</th>\n",
              "      <td>오버사이즈 16골 에센셜 코듀로이 셔츠 블랙</td>\n",
              "      <td>22FWGS28BK</td>\n",
              "      <td>킴오복</td>\n",
              "      <td>80</td>\n",
              "      <td>깔끔하고 입기 편안해요 손이 자주가는 편한 느낌</td>\n",
              "      <td>['깔끔하다/Adjective', '입다/Verb', '편안하다/Adjective'...</td>\n",
              "      <td>깔끔하다/Adjective 입다/Verb 편안하다/Adjective 손/Noun 자...</td>\n",
              "      <td>pos</td>\n",
              "    </tr>\n",
              "    <tr>\n",
              "      <th>1</th>\n",
              "      <td>오버사이즈 16골 에센셜 코듀로이 셔츠 블랙</td>\n",
              "      <td>22FWGS28BK</td>\n",
              "      <td>web</td>\n",
              "      <td>100</td>\n",
              "      <td>오버한 사이즈고 입으면 더 예쁩니다. 부드럽고 적당한 두께감이라 겨울에 아주 잘입을...</td>\n",
              "      <td>['오버/Noun', '한/Josa', '사이즈/Noun', '고/Josa', '입...</td>\n",
              "      <td>오버/Noun 한/Josa 사이즈/Noun 고/Josa 입다/Verb 더/Noun ...</td>\n",
              "      <td>pos</td>\n",
              "    </tr>\n",
              "    <tr>\n",
              "      <th>2</th>\n",
              "      <td>오버사이즈 16골 에센셜 코듀로이 셔츠 블랙</td>\n",
              "      <td>22FWGS28BK</td>\n",
              "      <td>퓨블릭a.</td>\n",
              "      <td>100</td>\n",
              "      <td>많이 길고 오버할 줄 알았는데 그렇지 않아서 좋구여 예쁩니다. 다른 색깔도 살듯..</td>\n",
              "      <td>['많이/Adverb', '길다/Adjective', '오버/Noun', '줄/No...</td>\n",
              "      <td>많이/Adverb 길다/Adjective 오버/Noun 줄/Noun 알다/Verb ...</td>\n",
              "      <td>pos</td>\n",
              "    </tr>\n",
              "    <tr>\n",
              "      <th>3</th>\n",
              "      <td>오버사이즈 16골 에센셜 코듀로이 셔츠 블랙</td>\n",
              "      <td>22FWGS28BK</td>\n",
              "      <td>YANGMAL2</td>\n",
              "      <td>80</td>\n",
              "      <td>굿굿 생각한거보다 이쁘네영 자주 손이가네요 추천합니다</td>\n",
              "      <td>['굿굿/Noun', '생각/Noun', '한/Determiner', '거/Noun...</td>\n",
              "      <td>굿굿/Noun 생각/Noun 한/Determiner 거/Noun 보다/Josa 이쁘...</td>\n",
              "      <td>pos</td>\n",
              "    </tr>\n",
              "    <tr>\n",
              "      <th>4</th>\n",
              "      <td>오버사이즈 16골 에센셜 코듀로이 셔츠 블랙</td>\n",
              "      <td>22FWGS28BK</td>\n",
              "      <td>.ㅡㅡㅡㅡㅡ.</td>\n",
              "      <td>100</td>\n",
              "      <td>살짝 얇은 원단이 아쉽지만 전체적으로 가격을 뛰어 넘는 품질입니다.</td>\n",
              "      <td>['살짝/Noun', '얇다/Adjective', '원단/Noun', '아쉽다/Ad...</td>\n",
              "      <td>살짝/Noun 얇다/Adjective 원단/Noun 아쉽다/Adjective 전체/...</td>\n",
              "      <td>pos</td>\n",
              "    </tr>\n",
              "  </tbody>\n",
              "</table>\n",
              "</div>"
            ],
            "text/plain": [
              "              product_names product_ids user_names  user_ratings  \\\n",
              "0  오버사이즈 16골 에센셜 코듀로이 셔츠 블랙  22FWGS28BK        킴오복            80   \n",
              "1  오버사이즈 16골 에센셜 코듀로이 셔츠 블랙  22FWGS28BK        web           100   \n",
              "2  오버사이즈 16골 에센셜 코듀로이 셔츠 블랙  22FWGS28BK      퓨블릭a.           100   \n",
              "3  오버사이즈 16골 에센셜 코듀로이 셔츠 블랙  22FWGS28BK   YANGMAL2            80   \n",
              "4  오버사이즈 16골 에센셜 코듀로이 셔츠 블랙  22FWGS28BK    .ㅡㅡㅡㅡㅡ.           100   \n",
              "\n",
              "                                        user_reviews  \\\n",
              "0                         깔끔하고 입기 편안해요 손이 자주가는 편한 느낌   \n",
              "1  오버한 사이즈고 입으면 더 예쁩니다. 부드럽고 적당한 두께감이라 겨울에 아주 잘입을...   \n",
              "2     많이 길고 오버할 줄 알았는데 그렇지 않아서 좋구여 예쁩니다. 다른 색깔도 살듯..   \n",
              "3                      굿굿 생각한거보다 이쁘네영 자주 손이가네요 추천합니다   \n",
              "4             살짝 얇은 원단이 아쉽지만 전체적으로 가격을 뛰어 넘는 품질입니다.    \n",
              "\n",
              "                                               token  \\\n",
              "0  ['깔끔하다/Adjective', '입다/Verb', '편안하다/Adjective'...   \n",
              "1  ['오버/Noun', '한/Josa', '사이즈/Noun', '고/Josa', '입...   \n",
              "2  ['많이/Adverb', '길다/Adjective', '오버/Noun', '줄/No...   \n",
              "3  ['굿굿/Noun', '생각/Noun', '한/Determiner', '거/Noun...   \n",
              "4  ['살짝/Noun', '얇다/Adjective', '원단/Noun', '아쉽다/Ad...   \n",
              "\n",
              "                                                vect lgbm_predicted_sent  \n",
              "0  깔끔하다/Adjective 입다/Verb 편안하다/Adjective 손/Noun 자...                 pos  \n",
              "1  오버/Noun 한/Josa 사이즈/Noun 고/Josa 입다/Verb 더/Noun ...                 pos  \n",
              "2  많이/Adverb 길다/Adjective 오버/Noun 줄/Noun 알다/Verb ...                 pos  \n",
              "3  굿굿/Noun 생각/Noun 한/Determiner 거/Noun 보다/Josa 이쁘...                 pos  \n",
              "4  살짝/Noun 얇다/Adjective 원단/Noun 아쉽다/Adjective 전체/...                 pos  "
            ]
          },
          "execution_count": 4,
          "metadata": {},
          "output_type": "execute_result"
        }
      ],
      "source": [
        "df_for_wc = df.copy()\n",
        "df_for_wc.head()"
      ]
    },
    {
      "cell_type": "code",
      "execution_count": null,
      "metadata": {
        "id": "pUANSCf4qNHa"
      },
      "outputs": [],
      "source": [
        "# 시리즈를 리스트화\n",
        "list_for_wc = []\n",
        "\n",
        "for text in df_for_wc['user_reviews']:\n",
        "    list_for_wc.append(text)"
      ]
    },
    {
      "cell_type": "code",
      "execution_count": null,
      "metadata": {
        "id": "okMJDmtFqNHa"
      },
      "outputs": [],
      "source": [
        "# 리스트를 하나의 텍스트로 통합\n",
        "text_for_wc = ' '.join(list_for_wc)"
      ]
    },
    {
      "cell_type": "code",
      "execution_count": null,
      "metadata": {
        "id": "tw76_oIMqNHb",
        "outputId": "225bbc17-3712-4b98-a0ef-dcc7fca38e6f",
        "colab": {
          "referenced_widgets": [
            "3f1cec58c93b47c9b6e547beccf83996"
          ]
        }
      },
      "outputs": [
        {
          "data": {
            "application/vnd.jupyter.widget-view+json": {
              "model_id": "3f1cec58c93b47c9b6e547beccf83996",
              "version_major": 2,
              "version_minor": 0
            },
            "text/plain": [
              "  0%|          | 0/1224809 [00:00<?, ?it/s]"
            ]
          },
          "metadata": {},
          "output_type": "display_data"
        }
      ],
      "source": [
        "from tqdm.notebook import tqdm\n",
        "t = Okt()\n",
        "tokens_ko = tqdm(t.nouns(text_for_wc))"
      ]
    },
    {
      "cell_type": "code",
      "execution_count": null,
      "metadata": {
        "id": "dYk6PJLDqNHb"
      },
      "outputs": [],
      "source": [
        "stopwords_for_wc = ['.', '(', ')', ',', \"'\", '%', '-', 'X', ') .', 'x', '의', '자', '에', '안', '번', '호', '을', '이', '다', '만', '로', '가', '를', '것',\n",
        "              '좀', '더', '때', '맘', '거', '입', '조금', '진짜', '티', '안', '살짝', '수', '제', '아주', '부분', '감', '정말', '정도', '저', '완전',\n",
        "              '그냥', '자주', '이', '듯', '약간', '완전', '다른', '듯', '비', '너', '다른', '용', '비', '하나', '팔', '해', '처음', '분', '듭니', '편이', '보리', '또', '드', '지금', '데', '후',\n",
        "              '요', '다만', '보고', '매우', '역시', '일단', '일', '습', '도', '개', '걸', '중', '편', '전', '사서', '막', '사고', '전체', '템', '일리', '팔이', '그대로', '게',\n",
        "              '줄', '보', '어디', '이번', '날', '제일', '쪽', '때문', '모두', '점', '뭐', '산', '밑', '같다']"
      ]
    },
    {
      "cell_type": "code",
      "execution_count": null,
      "metadata": {
        "id": "dLkFbiFmqNHb"
      },
      "outputs": [],
      "source": [
        "text_for_wc_without_stopword = [word for word in tokens_ko if word not in stopwords_for_wc]"
      ]
    },
    {
      "cell_type": "code",
      "execution_count": null,
      "metadata": {
        "id": "l1APXpDxqNHb"
      },
      "outputs": [],
      "source": [
        "ko = nltk.Text(text_for_wc_without_stopword, name='무신사 리뷰')"
      ]
    },
    {
      "cell_type": "code",
      "execution_count": null,
      "metadata": {
        "id": "j06KASjBqNHc",
        "outputId": "62c3a728-7275-4a03-9763-5afd0e23b73d"
      },
      "outputs": [
        {
          "data": {
            "text/plain": [
              "FreqDist({'핏': 27162, '사이즈': 25136, '옷': 19212, '생각': 17872, '구매': 15783, '색감': 13758, '가격': 12371, '디자인': 11760, '바지': 11357, '배송': 11075, ...})"
            ]
          },
          "execution_count": 15,
          "metadata": {},
          "output_type": "execute_result"
        }
      ],
      "source": [
        "ko.vocab()"
      ]
    },
    {
      "cell_type": "code",
      "execution_count": null,
      "metadata": {
        "id": "DrGZdKIvqNHc",
        "outputId": "e6f55edc-0d8d-489d-ecaa-d1d0a6567bd7"
      },
      "outputs": [
        {
          "name": "stdout",
          "output_type": "stream",
          "text": [
            "Plt Korean setting is done in your Windows\n"
          ]
        }
      ],
      "source": [
        "import platform as pf\n",
        "import matplotlib.pyplot as plt\n",
        "from matplotlib import font_manager, rc\n",
        "\n",
        "path = 'c:/Windows/Fonts/malgun.ttf'\n",
        "\n",
        "if pf.system() == 'Darwin':\n",
        "    rc('font', family='Arial Unicode MS')\n",
        "    print('Plt Korean setting is done in your Mac')\n",
        "elif pf.system() == 'Windows':\n",
        "    font_name = font_manager.FontProperties(fname=path).get_name()\n",
        "    rc('font', family=font_name)\n",
        "    print('Plt Korean setting is done in your Windows')\n",
        "else:\n",
        "    print('Unknown System, Sorry~')\n",
        "\n",
        "plt.rcParams['axes.unicode_minus']=False"
      ]
    },
    {
      "cell_type": "code",
      "execution_count": null,
      "metadata": {
        "id": "xLiNJ871qNHc",
        "outputId": "3936712f-393e-4194-d3f1-4f8de9e7a90d"
      },
      "outputs": [
        {
          "data": {
            "image/png": "[encoded data removed]",
            "text/plain": [
              "<Figure size 2000x500 with 1 Axes>"
            ]
          },
          "metadata": {},
          "output_type": "display_data"
        }
      ],
      "source": [
        "plt.figure(figsize=(20, 5))\n",
        "ko.plot(100)\n",
        "plt.show()"
      ]
    },
    {
      "cell_type": "code",
      "execution_count": null,
      "metadata": {
        "id": "IGvwTXaqqNHd",
        "outputId": "ae326877-d3b7-4773-f52b-8fe3c34ba540"
      },
      "outputs": [
        {
          "data": {
            "text/plain": [
              "{'핏': 27162, '사이즈': 25136, '옷': 19212}"
            ]
          },
          "execution_count": 19,
          "metadata": {},
          "output_type": "execute_result"
        }
      ],
      "source": [
        "data_for_wc = ko.vocab().most_common(150)\n",
        "dict(data_for_wc[:3])"
      ]
    },
    {
      "cell_type": "code",
      "execution_count": null,
      "metadata": {
        "id": "AwULUWKaqNHd",
        "outputId": "74f61eb5-06ed-4950-9dbd-b143e7531634"
      },
      "outputs": [
        {
          "data": {
            "image/png": "[encoded data removed]",
            "text/plain": [
              "<Figure size 1000x800 with 1 Axes>"
            ]
          },
          "metadata": {},
          "output_type": "display_data"
        }
      ],
      "source": [
        "wc = WordCloud(\n",
        "    font_path='C:/Windows/Fonts/HYKANM.TTF',\n",
        "    relative_scaling=0.1,\n",
        "    background_color='white',\n",
        "    colormap='nipy_spectral'\n",
        ").generate_from_frequencies(dict(data_for_wc))   #빈도수 딕셔너리로 넣기\n",
        "\n",
        "plt.figure(figsize=(10, 8))\n",
        "plt.imshow(wc)\n",
        "plt.axis('off')\n",
        "plt.show()"
      ]
    },
    {
      "cell_type": "code",
      "execution_count": null,
      "metadata": {
        "id": "N7w-t_FrqNHd"
      },
      "outputs": [],
      "source": []
    },
    {
      "cell_type": "code",
      "execution_count": null,
      "metadata": {
        "id": "FlPlyQNUqNHd"
      },
      "outputs": [],
      "source": []
    }
  ],
  "metadata": {
    "kernelspec": {
      "display_name": "ds_study",
      "language": "python",
      "name": "python3"
    },
    "language_info": {
      "codemirror_mode": {
        "name": "ipython",
        "version": 3
      },
      "file_extension": ".py",
      "mimetype": "text/x-python",
      "name": "python",
      "nbconvert_exporter": "python",
      "pygments_lexer": "ipython3",
      "version": "3.8.18"
    },
    "colab": {
      "provenance": []
    }
  },
  "nbformat": 4,
  "nbformat_minor": 0
}