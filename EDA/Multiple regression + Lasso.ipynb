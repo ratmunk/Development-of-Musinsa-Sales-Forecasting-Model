{
  "cells": [
    {
      "cell_type": "code",
      "execution_count": null,
      "metadata": {
        "id": "2yDuP3pi0krp"
      },
      "outputs": [],
      "source": [
        "import pandas as pd\n",
        "import numpy as np\n",
        "import matplotlib.pyplot as plt\n",
        "import seaborn as sns\n",
        "import plotly.express as px\n",
        "from sklearn.metrics import mean_absolute_error\n",
        "from sklearn.metrics import mean_squared_error"
      ]
    },
    {
      "cell_type": "code",
      "execution_count": null,
      "metadata": {
        "scrolled": true,
        "id": "AYsFnBPS-kyQ",
        "outputId": "65dd579a-e5f1-442b-95ed-3f378eab65d7"
      },
      "outputs": [
        {
          "data": {
            "text/html": [
              "<div>\n",
              "<style scoped>\n",
              "    .dataframe tbody tr th:only-of-type {\n",
              "        vertical-align: middle;\n",
              "    }\n",
              "\n",
              "    .dataframe tbody tr th {\n",
              "        vertical-align: top;\n",
              "    }\n",
              "\n",
              "    .dataframe thead th {\n",
              "        text-align: right;\n",
              "    }\n",
              "</style>\n",
              "<table border=\"1\" class=\"dataframe\">\n",
              "  <thead>\n",
              "    <tr style=\"text-align: right;\">\n",
              "      <th></th>\n",
              "      <th>major_category</th>\n",
              "      <th>middle_category</th>\n",
              "      <th>name</th>\n",
              "      <th>number</th>\n",
              "      <th>limit</th>\n",
              "      <th>exclusive</th>\n",
              "      <th>target_gender</th>\n",
              "      <th>buy_gender</th>\n",
              "      <th>buy_age</th>\n",
              "      <th>view</th>\n",
              "      <th>like</th>\n",
              "      <th>price</th>\n",
              "      <th>discount_rate</th>\n",
              "      <th>delivery_date</th>\n",
              "      <th>rating</th>\n",
              "      <th>review</th>\n",
              "      <th>buy</th>\n",
              "      <th>score</th>\n",
              "      <th>buy_age1</th>\n",
              "      <th>buy_age2</th>\n",
              "    </tr>\n",
              "  </thead>\n",
              "  <tbody>\n",
              "    <tr>\n",
              "      <th>0</th>\n",
              "      <td>상의</td>\n",
              "      <td>셔츠/블라우스</td>\n",
              "      <td>오버사이즈 16골 에센셜 코듀로이 셔츠 블랙</td>\n",
              "      <td>22FWGS28BK</td>\n",
              "      <td>1</td>\n",
              "      <td>0</td>\n",
              "      <td>2</td>\n",
              "      <td>0.0</td>\n",
              "      <td>('29~33세', 0)</td>\n",
              "      <td>1200.0</td>\n",
              "      <td>493</td>\n",
              "      <td>39800.0</td>\n",
              "      <td>20</td>\n",
              "      <td>19.0</td>\n",
              "      <td>4.6</td>\n",
              "      <td>36</td>\n",
              "      <td>50.0</td>\n",
              "      <td>0.976190</td>\n",
              "      <td>4</td>\n",
              "      <td>0</td>\n",
              "    </tr>\n",
              "    <tr>\n",
              "      <th>1</th>\n",
              "      <td>상의</td>\n",
              "      <td>니트/스웨터</td>\n",
              "      <td>TD5-SW01 램스울 라운드 니트-만다린오렌지</td>\n",
              "      <td>TD5-SW01_MAO</td>\n",
              "      <td>1</td>\n",
              "      <td>0</td>\n",
              "      <td>0</td>\n",
              "      <td>0.0</td>\n",
              "      <td>('29~33세', 0)</td>\n",
              "      <td>4900.0</td>\n",
              "      <td>650</td>\n",
              "      <td>53550.0</td>\n",
              "      <td>10</td>\n",
              "      <td>5.0</td>\n",
              "      <td>4.9</td>\n",
              "      <td>61</td>\n",
              "      <td>200.0</td>\n",
              "      <td>0.954545</td>\n",
              "      <td>4</td>\n",
              "      <td>0</td>\n",
              "    </tr>\n",
              "    <tr>\n",
              "      <th>2</th>\n",
              "      <td>상의</td>\n",
              "      <td>후드 티셔츠</td>\n",
              "      <td>[SET UP] PPP 플라워 후드 셋업_멜란지 그레이</td>\n",
              "      <td>KBCS1TH003MGKBCS1PL003MGKBCS1PS003MG</td>\n",
              "      <td>1</td>\n",
              "      <td>0</td>\n",
              "      <td>2</td>\n",
              "      <td>1.0</td>\n",
              "      <td>('19~23세', 0)</td>\n",
              "      <td>3600.0</td>\n",
              "      <td>2536</td>\n",
              "      <td>49900.0</td>\n",
              "      <td>49</td>\n",
              "      <td>5.0</td>\n",
              "      <td>4.8</td>\n",
              "      <td>41</td>\n",
              "      <td>150.0</td>\n",
              "      <td>1.000000</td>\n",
              "      <td>2</td>\n",
              "      <td>0</td>\n",
              "    </tr>\n",
              "    <tr>\n",
              "      <th>3</th>\n",
              "      <td>상의</td>\n",
              "      <td>후드 티셔츠</td>\n",
              "      <td>TIE DYE 후드티 Olive Green</td>\n",
              "      <td>CTTZPHD01UG4</td>\n",
              "      <td>0</td>\n",
              "      <td>0</td>\n",
              "      <td>0</td>\n",
              "      <td>0.0</td>\n",
              "      <td>('40세~', 0)</td>\n",
              "      <td>1000.0</td>\n",
              "      <td>569</td>\n",
              "      <td>19800.0</td>\n",
              "      <td>80</td>\n",
              "      <td>5.0</td>\n",
              "      <td>4.8</td>\n",
              "      <td>62</td>\n",
              "      <td>150.0</td>\n",
              "      <td>0.971429</td>\n",
              "      <td>6</td>\n",
              "      <td>0</td>\n",
              "    </tr>\n",
              "    <tr>\n",
              "      <th>4</th>\n",
              "      <td>상의</td>\n",
              "      <td>긴소매 티셔츠</td>\n",
              "      <td>essential turtleneck logo top - pink</td>\n",
              "      <td>BT23WTS002PIKF</td>\n",
              "      <td>1</td>\n",
              "      <td>0</td>\n",
              "      <td>1</td>\n",
              "      <td>1.0</td>\n",
              "      <td>('24~28세', 0)</td>\n",
              "      <td>11000.0</td>\n",
              "      <td>2561</td>\n",
              "      <td>43000.0</td>\n",
              "      <td>0</td>\n",
              "      <td>28.0</td>\n",
              "      <td>4.8</td>\n",
              "      <td>34</td>\n",
              "      <td>100.0</td>\n",
              "      <td>0.964286</td>\n",
              "      <td>3</td>\n",
              "      <td>0</td>\n",
              "    </tr>\n",
              "    <tr>\n",
              "      <th>...</th>\n",
              "      <td>...</td>\n",
              "      <td>...</td>\n",
              "      <td>...</td>\n",
              "      <td>...</td>\n",
              "      <td>...</td>\n",
              "      <td>...</td>\n",
              "      <td>...</td>\n",
              "      <td>...</td>\n",
              "      <td>...</td>\n",
              "      <td>...</td>\n",
              "      <td>...</td>\n",
              "      <td>...</td>\n",
              "      <td>...</td>\n",
              "      <td>...</td>\n",
              "      <td>...</td>\n",
              "      <td>...</td>\n",
              "      <td>...</td>\n",
              "      <td>...</td>\n",
              "      <td>...</td>\n",
              "      <td>...</td>\n",
              "    </tr>\n",
              "    <tr>\n",
              "      <th>4926</th>\n",
              "      <td>아우터</td>\n",
              "      <td>숏패딩/숏헤비 아우터</td>\n",
              "      <td>다운 숏 푸퍼-블랙</td>\n",
              "      <td>P22FWOT001</td>\n",
              "      <td>0</td>\n",
              "      <td>0</td>\n",
              "      <td>2</td>\n",
              "      <td>0.0</td>\n",
              "      <td>('19~23세', 0)</td>\n",
              "      <td>2900.0</td>\n",
              "      <td>771</td>\n",
              "      <td>139000.0</td>\n",
              "      <td>43</td>\n",
              "      <td>5.0</td>\n",
              "      <td>4.9</td>\n",
              "      <td>17</td>\n",
              "      <td>50.0</td>\n",
              "      <td>0.964286</td>\n",
              "      <td>2</td>\n",
              "      <td>0</td>\n",
              "    </tr>\n",
              "    <tr>\n",
              "      <th>4927</th>\n",
              "      <td>아우터</td>\n",
              "      <td>스포츠/용품</td>\n",
              "      <td>나일론 아노락 자켓 - 블랙 / 2033B427-001</td>\n",
              "      <td>2033B427-001</td>\n",
              "      <td>0</td>\n",
              "      <td>1</td>\n",
              "      <td>0</td>\n",
              "      <td>0.0</td>\n",
              "      <td>('24~28세', 0)</td>\n",
              "      <td>2100.0</td>\n",
              "      <td>1275</td>\n",
              "      <td>87200.0</td>\n",
              "      <td>20</td>\n",
              "      <td>4.0</td>\n",
              "      <td>4.9</td>\n",
              "      <td>222</td>\n",
              "      <td>300.0</td>\n",
              "      <td>0.987500</td>\n",
              "      <td>3</td>\n",
              "      <td>0</td>\n",
              "    </tr>\n",
              "    <tr>\n",
              "      <th>4928</th>\n",
              "      <td>아우터</td>\n",
              "      <td>패딩 베스트</td>\n",
              "      <td>[MENS] 리버서블 패딩 조끼(10 color)</td>\n",
              "      <td>HBA-VT-M201</td>\n",
              "      <td>0</td>\n",
              "      <td>0</td>\n",
              "      <td>0</td>\n",
              "      <td>0.0</td>\n",
              "      <td>('34~39세', 0)</td>\n",
              "      <td>1400.0</td>\n",
              "      <td>198</td>\n",
              "      <td>38400.0</td>\n",
              "      <td>60</td>\n",
              "      <td>5.0</td>\n",
              "      <td>4.8</td>\n",
              "      <td>33</td>\n",
              "      <td>100.0</td>\n",
              "      <td>0.976190</td>\n",
              "      <td>5</td>\n",
              "      <td>0</td>\n",
              "    </tr>\n",
              "    <tr>\n",
              "      <th>4929</th>\n",
              "      <td>아우터</td>\n",
              "      <td>숏패딩/숏헤비 아우터</td>\n",
              "      <td>숏 미니멀 덕다운 패딩 블랙</td>\n",
              "      <td>3001</td>\n",
              "      <td>0</td>\n",
              "      <td>1</td>\n",
              "      <td>0</td>\n",
              "      <td>0.0</td>\n",
              "      <td>('29~33세', 0)</td>\n",
              "      <td>3300.0</td>\n",
              "      <td>2028</td>\n",
              "      <td>238400.0</td>\n",
              "      <td>20</td>\n",
              "      <td>7.0</td>\n",
              "      <td>4.8</td>\n",
              "      <td>87</td>\n",
              "      <td>100.0</td>\n",
              "      <td>0.988095</td>\n",
              "      <td>4</td>\n",
              "      <td>0</td>\n",
              "    </tr>\n",
              "    <tr>\n",
              "      <th>4930</th>\n",
              "      <td>아우터</td>\n",
              "      <td>아노락 재킷</td>\n",
              "      <td>Pocket Tidy Hood Anorak H7 Navy/Green</td>\n",
              "      <td>409</td>\n",
              "      <td>1</td>\n",
              "      <td>0</td>\n",
              "      <td>2</td>\n",
              "      <td>1.0</td>\n",
              "      <td>('34~39세', 0)</td>\n",
              "      <td>400.0</td>\n",
              "      <td>368</td>\n",
              "      <td>53000.0</td>\n",
              "      <td>40</td>\n",
              "      <td>5.0</td>\n",
              "      <td>5.0</td>\n",
              "      <td>22</td>\n",
              "      <td>50.0</td>\n",
              "      <td>0.947368</td>\n",
              "      <td>5</td>\n",
              "      <td>0</td>\n",
              "    </tr>\n",
              "  </tbody>\n",
              "</table>\n",
              "<p>4931 rows × 20 columns</p>\n",
              "</div>"
            ],
            "text/plain": [
              "     major_category middle_category                                   name  \\\n",
              "0                상의         셔츠/블라우스               오버사이즈 16골 에센셜 코듀로이 셔츠 블랙   \n",
              "1                상의          니트/스웨터             TD5-SW01 램스울 라운드 니트-만다린오렌지   \n",
              "2                상의          후드 티셔츠         [SET UP] PPP 플라워 후드 셋업_멜란지 그레이   \n",
              "3                상의          후드 티셔츠                TIE DYE 후드티 Olive Green   \n",
              "4                상의         긴소매 티셔츠   essential turtleneck logo top - pink   \n",
              "...             ...             ...                                    ...   \n",
              "4926            아우터     숏패딩/숏헤비 아우터                             다운 숏 푸퍼-블랙   \n",
              "4927            아우터          스포츠/용품         나일론 아노락 자켓 - 블랙 / 2033B427-001   \n",
              "4928            아우터          패딩 베스트            [MENS] 리버서블 패딩 조끼(10 color)   \n",
              "4929            아우터     숏패딩/숏헤비 아우터                        숏 미니멀 덕다운 패딩 블랙   \n",
              "4930            아우터          아노락 재킷  Pocket Tidy Hood Anorak H7 Navy/Green   \n",
              "\n",
              "                                    number  limit  exclusive  target_gender  \\\n",
              "0                               22FWGS28BK      1          0              2   \n",
              "1                             TD5-SW01_MAO      1          0              0   \n",
              "2     KBCS1TH003MGKBCS1PL003MGKBCS1PS003MG      1          0              2   \n",
              "3                             CTTZPHD01UG4      0          0              0   \n",
              "4                           BT23WTS002PIKF      1          0              1   \n",
              "...                                    ...    ...        ...            ...   \n",
              "4926                            P22FWOT001      0          0              2   \n",
              "4927                          2033B427-001      0          1              0   \n",
              "4928                           HBA-VT-M201      0          0              0   \n",
              "4929                                  3001      0          1              0   \n",
              "4930                                   409      1          0              2   \n",
              "\n",
              "      buy_gender        buy_age     view  like     price  discount_rate  \\\n",
              "0            0.0  ('29~33세', 0)   1200.0   493   39800.0             20   \n",
              "1            0.0  ('29~33세', 0)   4900.0   650   53550.0             10   \n",
              "2            1.0  ('19~23세', 0)   3600.0  2536   49900.0             49   \n",
              "3            0.0    ('40세~', 0)   1000.0   569   19800.0             80   \n",
              "4            1.0  ('24~28세', 0)  11000.0  2561   43000.0              0   \n",
              "...          ...            ...      ...   ...       ...            ...   \n",
              "4926         0.0  ('19~23세', 0)   2900.0   771  139000.0             43   \n",
              "4927         0.0  ('24~28세', 0)   2100.0  1275   87200.0             20   \n",
              "4928         0.0  ('34~39세', 0)   1400.0   198   38400.0             60   \n",
              "4929         0.0  ('29~33세', 0)   3300.0  2028  238400.0             20   \n",
              "4930         1.0  ('34~39세', 0)    400.0   368   53000.0             40   \n",
              "\n",
              "      delivery_date  rating  review    buy     score  buy_age1  buy_age2  \n",
              "0              19.0     4.6      36   50.0  0.976190         4         0  \n",
              "1               5.0     4.9      61  200.0  0.954545         4         0  \n",
              "2               5.0     4.8      41  150.0  1.000000         2         0  \n",
              "3               5.0     4.8      62  150.0  0.971429         6         0  \n",
              "4              28.0     4.8      34  100.0  0.964286         3         0  \n",
              "...             ...     ...     ...    ...       ...       ...       ...  \n",
              "4926            5.0     4.9      17   50.0  0.964286         2         0  \n",
              "4927            4.0     4.9     222  300.0  0.987500         3         0  \n",
              "4928            5.0     4.8      33  100.0  0.976190         5         0  \n",
              "4929            7.0     4.8      87  100.0  0.988095         4         0  \n",
              "4930            5.0     5.0      22   50.0  0.947368         5         0  \n",
              "\n",
              "[4931 rows x 20 columns]"
            ]
          },
          "execution_count": 2,
          "metadata": {},
          "output_type": "execute_result"
        }
      ],
      "source": [
        "df=pd.read_csv('./data/무신사 데이터 전처리 +감성분석 결과240122.csv',index_col='Unnamed: 0')\n",
        "df"
      ]
    },
    {
      "cell_type": "code",
      "execution_count": null,
      "metadata": {
        "id": "SpwnGPMu-kyR",
        "outputId": "5e2d3400-97ca-4117-f799-09d5c6e6a5a5"
      },
      "outputs": [
        {
          "data": {
            "text/plain": [
              "array(['상의', '바지', '스포츠/용품', '아우터'], dtype=object)"
            ]
          },
          "execution_count": 3,
          "metadata": {},
          "output_type": "execute_result"
        }
      ],
      "source": [
        "df['major_category'].unique()"
      ]
    },
    {
      "cell_type": "code",
      "execution_count": null,
      "metadata": {
        "id": "lkogc6eP-kyS",
        "outputId": "63a1cc0e-ad25-4542-eac8-38a14d6f8964"
      },
      "outputs": [
        {
          "data": {
            "text/plain": [
              "0       False\n",
              "1       False\n",
              "2       False\n",
              "3       False\n",
              "4       False\n",
              "        ...  \n",
              "4926    False\n",
              "4927    False\n",
              "4928    False\n",
              "4929    False\n",
              "4930    False\n",
              "Name: major_category, Length: 4931, dtype: bool"
            ]
          },
          "execution_count": 4,
          "metadata": {},
          "output_type": "execute_result"
        }
      ],
      "source": [
        "df['major_category'] == '스포츠/용품'"
      ]
    },
    {
      "cell_type": "code",
      "execution_count": null,
      "metadata": {
        "id": "GgLQYPPm-kyS"
      },
      "outputs": [],
      "source": [
        "# 잘못 들어간 스포츠/용품을 바꾸기\n",
        "df.loc[df.middle_category == '하의', 'major_category'] = '바지'\n",
        "df.loc[df.middle_category == '하의','middle_category'] = '스포츠/용품'"
      ]
    },
    {
      "cell_type": "code",
      "execution_count": null,
      "metadata": {
        "id": "xUBn65ML-kyS",
        "outputId": "ec1d5be8-4c51-43e5-a5b8-f69bb72763f0"
      },
      "outputs": [
        {
          "data": {
            "text/plain": [
              "array(['바지', '상의', '아우터'], dtype=object)"
            ]
          },
          "execution_count": 6,
          "metadata": {},
          "output_type": "execute_result"
        }
      ],
      "source": [
        "from sklearn.preprocessing import LabelEncoder\n",
        "\n",
        "le = LabelEncoder()\n",
        "le.fit(df['major_category'])\n",
        "le.classes_"
      ]
    },
    {
      "cell_type": "code",
      "execution_count": null,
      "metadata": {
        "id": "SCuY2oZ2-kyS"
      },
      "outputs": [],
      "source": [
        "#transform()은 fit을 한 다음에 실행한다.\n",
        "le.transform(df['major_category'])\n",
        "\n",
        "df['major_category'] = le.transform(df['major_category'])"
      ]
    },
    {
      "cell_type": "code",
      "execution_count": null,
      "metadata": {
        "id": "9COUY6yP-kyS"
      },
      "outputs": [],
      "source": [
        "le = LabelEncoder()\n",
        "le.fit(df['middle_category'])\n",
        "le.transform(df['middle_category'])\n",
        "\n",
        "df['middle_category'] = le.transform(df['middle_category'])"
      ]
    },
    {
      "cell_type": "code",
      "execution_count": null,
      "metadata": {
        "id": "bEGfHEP5-kyS",
        "outputId": "9be6ccb0-db92-4f12-f399-7a74416d3625"
      },
      "outputs": [
        {
          "data": {
            "text/html": [
              "<div>\n",
              "<style scoped>\n",
              "    .dataframe tbody tr th:only-of-type {\n",
              "        vertical-align: middle;\n",
              "    }\n",
              "\n",
              "    .dataframe tbody tr th {\n",
              "        vertical-align: top;\n",
              "    }\n",
              "\n",
              "    .dataframe thead th {\n",
              "        text-align: right;\n",
              "    }\n",
              "</style>\n",
              "<table border=\"1\" class=\"dataframe\">\n",
              "  <thead>\n",
              "    <tr style=\"text-align: right;\">\n",
              "      <th></th>\n",
              "      <th>major_category</th>\n",
              "      <th>middle_category</th>\n",
              "      <th>name</th>\n",
              "      <th>number</th>\n",
              "      <th>limit</th>\n",
              "      <th>exclusive</th>\n",
              "      <th>target_gender</th>\n",
              "      <th>buy_gender</th>\n",
              "      <th>buy_age</th>\n",
              "      <th>view</th>\n",
              "      <th>like</th>\n",
              "      <th>price</th>\n",
              "      <th>discount_rate</th>\n",
              "      <th>delivery_date</th>\n",
              "      <th>rating</th>\n",
              "      <th>review</th>\n",
              "      <th>buy</th>\n",
              "      <th>score</th>\n",
              "      <th>buy_age1</th>\n",
              "      <th>buy_age2</th>\n",
              "    </tr>\n",
              "  </thead>\n",
              "  <tbody>\n",
              "    <tr>\n",
              "      <th>0</th>\n",
              "      <td>1</td>\n",
              "      <td>19</td>\n",
              "      <td>오버사이즈 16골 에센셜 코듀로이 셔츠 블랙</td>\n",
              "      <td>22FWGS28BK</td>\n",
              "      <td>1</td>\n",
              "      <td>0</td>\n",
              "      <td>2</td>\n",
              "      <td>0.0</td>\n",
              "      <td>('29~33세', 0)</td>\n",
              "      <td>1200.0</td>\n",
              "      <td>493</td>\n",
              "      <td>39800.0</td>\n",
              "      <td>20</td>\n",
              "      <td>19.0</td>\n",
              "      <td>4.6</td>\n",
              "      <td>36</td>\n",
              "      <td>50.0</td>\n",
              "      <td>0.976190</td>\n",
              "      <td>4</td>\n",
              "      <td>0</td>\n",
              "    </tr>\n",
              "    <tr>\n",
              "      <th>1</th>\n",
              "      <td>1</td>\n",
              "      <td>8</td>\n",
              "      <td>TD5-SW01 램스울 라운드 니트-만다린오렌지</td>\n",
              "      <td>TD5-SW01_MAO</td>\n",
              "      <td>1</td>\n",
              "      <td>0</td>\n",
              "      <td>0</td>\n",
              "      <td>0.0</td>\n",
              "      <td>('29~33세', 0)</td>\n",
              "      <td>4900.0</td>\n",
              "      <td>650</td>\n",
              "      <td>53550.0</td>\n",
              "      <td>10</td>\n",
              "      <td>5.0</td>\n",
              "      <td>4.9</td>\n",
              "      <td>61</td>\n",
              "      <td>200.0</td>\n",
              "      <td>0.954545</td>\n",
              "      <td>4</td>\n",
              "      <td>0</td>\n",
              "    </tr>\n",
              "  </tbody>\n",
              "</table>\n",
              "</div>"
            ],
            "text/plain": [
              "   major_category  middle_category                        name        number  \\\n",
              "0               1               19    오버사이즈 16골 에센셜 코듀로이 셔츠 블랙    22FWGS28BK   \n",
              "1               1                8  TD5-SW01 램스울 라운드 니트-만다린오렌지  TD5-SW01_MAO   \n",
              "\n",
              "   limit  exclusive  target_gender  buy_gender        buy_age    view  like  \\\n",
              "0      1          0              2         0.0  ('29~33세', 0)  1200.0   493   \n",
              "1      1          0              0         0.0  ('29~33세', 0)  4900.0   650   \n",
              "\n",
              "     price  discount_rate  delivery_date  rating  review    buy     score  \\\n",
              "0  39800.0             20           19.0     4.6      36   50.0  0.976190   \n",
              "1  53550.0             10            5.0     4.9      61  200.0  0.954545   \n",
              "\n",
              "   buy_age1  buy_age2  \n",
              "0         4         0  \n",
              "1         4         0  "
            ]
          },
          "execution_count": 9,
          "metadata": {},
          "output_type": "execute_result"
        }
      ],
      "source": [
        "df.head(2)"
      ]
    },
    {
      "cell_type": "code",
      "execution_count": null,
      "metadata": {
        "id": "CeJX729VAUe8"
      },
      "outputs": [],
      "source": [
        "import copy\n",
        "# 결측치 처리 완료 df 백업\n",
        "backup = df.copy()"
      ]
    },
    {
      "cell_type": "code",
      "execution_count": null,
      "metadata": {
        "colab": {
          "base_uri": "https://localhost:8080/"
        },
        "id": "8EMre17CAyN1",
        "outputId": "da6fcc30-0611-4e04-9e26-a9a288a7ba68"
      },
      "outputs": [
        {
          "data": {
            "text/plain": [
              "(4931, 20)"
            ]
          },
          "execution_count": 11,
          "metadata": {},
          "output_type": "execute_result"
        }
      ],
      "source": [
        "df = backup.copy()\n",
        "df.drop_duplicates().shape"
      ]
    },
    {
      "cell_type": "code",
      "execution_count": null,
      "metadata": {
        "id": "ydRssoCd-kyT",
        "outputId": "16f48e59-cf1c-4000-fc30-744f31ea33fc"
      },
      "outputs": [
        {
          "name": "stdout",
          "output_type": "stream",
          "text": [
            "<class 'pandas.core.frame.DataFrame'>\n",
            "Int64Index: 4931 entries, 0 to 4930\n",
            "Data columns (total 20 columns):\n",
            " #   Column           Non-Null Count  Dtype  \n",
            "---  ------           --------------  -----  \n",
            " 0   major_category   4931 non-null   int64  \n",
            " 1   middle_category  4931 non-null   int64  \n",
            " 2   name             4931 non-null   object \n",
            " 3   number           4931 non-null   object \n",
            " 4   limit            4931 non-null   int64  \n",
            " 5   exclusive        4931 non-null   int64  \n",
            " 6   target_gender    4931 non-null   int64  \n",
            " 7   buy_gender       4931 non-null   float64\n",
            " 8   buy_age          4931 non-null   object \n",
            " 9   view             4931 non-null   float64\n",
            " 10  like             4931 non-null   int64  \n",
            " 11  price            4931 non-null   float64\n",
            " 12  discount_rate    4931 non-null   int64  \n",
            " 13  delivery_date    4931 non-null   float64\n",
            " 14  rating           4931 non-null   float64\n",
            " 15  review           4931 non-null   int64  \n",
            " 16  buy              4931 non-null   float64\n",
            " 17  score            4931 non-null   float64\n",
            " 18  buy_age1         4931 non-null   int64  \n",
            " 19  buy_age2         4931 non-null   int64  \n",
            "dtypes: float64(7), int64(10), object(3)\n",
            "memory usage: 809.0+ KB\n"
          ]
        }
      ],
      "source": [
        "df.info()"
      ]
    },
    {
      "cell_type": "markdown",
      "metadata": {
        "id": "yIwJ_dxkBmal"
      },
      "source": [
        "---"
      ]
    },
    {
      "cell_type": "markdown",
      "metadata": {
        "id": "gmY_a9S7-kyW"
      },
      "source": [
        "## 다중회귀(1)"
      ]
    },
    {
      "cell_type": "code",
      "execution_count": null,
      "metadata": {
        "id": "9ldMjkF6-kyW",
        "outputId": "67166541-0cc1-4db2-8c1d-6b23b03a91b5"
      },
      "outputs": [
        {
          "name": "stdout",
          "output_type": "stream",
          "text": [
            "      limit  exclusive  target_gender  buy_gender     view  like     price  \\\n",
            "0         1          0              2         0.0   1200.0   493   39800.0   \n",
            "1         1          0              0         0.0   4900.0   650   53550.0   \n",
            "2         1          0              2         1.0   3600.0  2536   49900.0   \n",
            "3         0          0              0         0.0   1000.0   569   19800.0   \n",
            "4         1          0              1         1.0  11000.0  2561   43000.0   \n",
            "...     ...        ...            ...         ...      ...   ...       ...   \n",
            "4926      0          0              2         0.0   2900.0   771  139000.0   \n",
            "4927      0          1              0         0.0   2100.0  1275   87200.0   \n",
            "4928      0          0              0         0.0   1400.0   198   38400.0   \n",
            "4929      0          1              0         0.0   3300.0  2028  238400.0   \n",
            "4930      1          0              2         1.0    400.0   368   53000.0   \n",
            "\n",
            "      discount_rate  delivery_date  rating  review     score  buy_age1  \\\n",
            "0                20           19.0     4.6      36  0.976190         4   \n",
            "1                10            5.0     4.9      61  0.954545         4   \n",
            "2                49            5.0     4.8      41  1.000000         2   \n",
            "3                80            5.0     4.8      62  0.971429         6   \n",
            "4                 0           28.0     4.8      34  0.964286         3   \n",
            "...             ...            ...     ...     ...       ...       ...   \n",
            "4926             43            5.0     4.9      17  0.964286         2   \n",
            "4927             20            4.0     4.9     222  0.987500         3   \n",
            "4928             60            5.0     4.8      33  0.976190         5   \n",
            "4929             20            7.0     4.8      87  0.988095         4   \n",
            "4930             40            5.0     5.0      22  0.947368         5   \n",
            "\n",
            "      buy_age2  \n",
            "0            0  \n",
            "1            0  \n",
            "2            0  \n",
            "3            0  \n",
            "4            0  \n",
            "...        ...  \n",
            "4926         0  \n",
            "4927         0  \n",
            "4928         0  \n",
            "4929         0  \n",
            "4930         0  \n",
            "\n",
            "[4931 rows x 14 columns]\n",
            "\n",
            "\n",
            "0        50.0\n",
            "1       200.0\n",
            "2       150.0\n",
            "3       150.0\n",
            "4       100.0\n",
            "        ...  \n",
            "4926     50.0\n",
            "4927    300.0\n",
            "4928    100.0\n",
            "4929    100.0\n",
            "4930     50.0\n",
            "Name: buy, Length: 4931, dtype: float64\n"
          ]
        }
      ],
      "source": [
        "X = df.drop(['name','number','buy_age','buy','major_category','middle_category'],axis=1)\n",
        "print(X)\n",
        "y = df[\"buy\"]\n",
        "print('\\n')\n",
        "print(y)"
      ]
    },
    {
      "cell_type": "code",
      "execution_count": null,
      "metadata": {
        "id": "N31mKIKF-kyW"
      },
      "outputs": [],
      "source": [
        "# 데이터 분할\n",
        "from sklearn.model_selection import train_test_split\n",
        "X_train, X_test, y_train, y_test = train_test_split(X, y,random_state=13)"
      ]
    },
    {
      "cell_type": "code",
      "execution_count": null,
      "metadata": {
        "id": "tZ4IBHbW-kyW"
      },
      "outputs": [],
      "source": [
        "from sklearn.preprocessing import PolynomialFeatures"
      ]
    },
    {
      "cell_type": "code",
      "execution_count": null,
      "metadata": {
        "id": "9X7SQqRR-kyX",
        "outputId": "22e085a6-6ae1-4175-98bd-61e7f72e443d"
      },
      "outputs": [
        {
          "name": "stdout",
          "output_type": "stream",
          "text": [
            "(3698, 119)\n"
          ]
        }
      ],
      "source": [
        "poly=PolynomialFeatures(include_bias=False)\n",
        "poly.fit(X_train)\n",
        "train_poly=poly.transform(X_train)\n",
        "print(train_poly.shape)"
      ]
    },
    {
      "cell_type": "code",
      "execution_count": null,
      "metadata": {
        "id": "w6UCaZZ8-kyX",
        "outputId": "8d20a01d-8ed6-4a12-e14d-9d047f7bcba7"
      },
      "outputs": [
        {
          "data": {
            "text/plain": [
              "array(['limit', 'exclusive', 'target_gender', 'buy_gender', 'view',\n",
              "       'like', 'price', 'discount_rate', 'delivery_date', 'rating',\n",
              "       'review', 'score', 'buy_age1', 'buy_age2', 'limit^2',\n",
              "       'limit exclusive', 'limit target_gender', 'limit buy_gender',\n",
              "       'limit view', 'limit like', 'limit price', 'limit discount_rate',\n",
              "       'limit delivery_date', 'limit rating', 'limit review',\n",
              "       'limit score', 'limit buy_age1', 'limit buy_age2', 'exclusive^2',\n",
              "       'exclusive target_gender', 'exclusive buy_gender',\n",
              "       'exclusive view', 'exclusive like', 'exclusive price',\n",
              "       'exclusive discount_rate', 'exclusive delivery_date',\n",
              "       'exclusive rating', 'exclusive review', 'exclusive score',\n",
              "       'exclusive buy_age1', 'exclusive buy_age2', 'target_gender^2',\n",
              "       'target_gender buy_gender', 'target_gender view',\n",
              "       'target_gender like', 'target_gender price',\n",
              "       'target_gender discount_rate', 'target_gender delivery_date',\n",
              "       'target_gender rating', 'target_gender review',\n",
              "       'target_gender score', 'target_gender buy_age1',\n",
              "       'target_gender buy_age2', 'buy_gender^2', 'buy_gender view',\n",
              "       'buy_gender like', 'buy_gender price', 'buy_gender discount_rate',\n",
              "       'buy_gender delivery_date', 'buy_gender rating',\n",
              "       'buy_gender review', 'buy_gender score', 'buy_gender buy_age1',\n",
              "       'buy_gender buy_age2', 'view^2', 'view like', 'view price',\n",
              "       'view discount_rate', 'view delivery_date', 'view rating',\n",
              "       'view review', 'view score', 'view buy_age1', 'view buy_age2',\n",
              "       'like^2', 'like price', 'like discount_rate', 'like delivery_date',\n",
              "       'like rating', 'like review', 'like score', 'like buy_age1',\n",
              "       'like buy_age2', 'price^2', 'price discount_rate',\n",
              "       'price delivery_date', 'price rating', 'price review',\n",
              "       'price score', 'price buy_age1', 'price buy_age2',\n",
              "       'discount_rate^2', 'discount_rate delivery_date',\n",
              "       'discount_rate rating', 'discount_rate review',\n",
              "       'discount_rate score', 'discount_rate buy_age1',\n",
              "       'discount_rate buy_age2', 'delivery_date^2',\n",
              "       'delivery_date rating', 'delivery_date review',\n",
              "       'delivery_date score', 'delivery_date buy_age1',\n",
              "       'delivery_date buy_age2', 'rating^2', 'rating review',\n",
              "       'rating score', 'rating buy_age1', 'rating buy_age2', 'review^2',\n",
              "       'review score', 'review buy_age1', 'review buy_age2', 'score^2',\n",
              "       'score buy_age1', 'score buy_age2', 'buy_age1^2',\n",
              "       'buy_age1 buy_age2', 'buy_age2^2'], dtype=object)"
            ]
          },
          "execution_count": 17,
          "metadata": {},
          "output_type": "execute_result"
        }
      ],
      "source": [
        "poly.get_feature_names_out()"
      ]
    },
    {
      "cell_type": "code",
      "execution_count": null,
      "metadata": {
        "id": "dN9hCQNb-kyX",
        "outputId": "92d3988d-a63e-4331-8411-46ad956e88a6"
      },
      "outputs": [
        {
          "name": "stdout",
          "output_type": "stream",
          "text": [
            "(1233, 119)\n"
          ]
        }
      ],
      "source": [
        "test_poly=poly.transform(X_test)\n",
        "print(test_poly.shape)"
      ]
    },
    {
      "cell_type": "markdown",
      "metadata": {
        "id": "kpnmvDeb-kyY"
      },
      "source": [
        "- 다중회귀모델 훈련"
      ]
    },
    {
      "cell_type": "code",
      "execution_count": null,
      "metadata": {
        "id": "3fxvPln6-kyY",
        "outputId": "5b3289b6-9796-4bf6-ccc5-f7f0e3695a1e"
      },
      "outputs": [
        {
          "name": "stdout",
          "output_type": "stream",
          "text": [
            "0.955703045779865\n",
            "-1.5662402481561664\n"
          ]
        }
      ],
      "source": [
        "from sklearn.linear_model import LinearRegression\n",
        "\n",
        "# 모델링\n",
        "reg = LinearRegression()\n",
        "reg.fit(train_poly, y_train)\n",
        "\n",
        "print(reg.score(train_poly, y_train))\n",
        "print(reg.score(test_poly,y_test))"
      ]
    },
    {
      "cell_type": "markdown",
      "metadata": {
        "id": "FKw3Vlvg-kyY"
      },
      "source": [
        "- 정규화"
      ]
    },
    {
      "cell_type": "code",
      "execution_count": null,
      "metadata": {
        "id": "KvxEPdP2-kyY"
      },
      "outputs": [],
      "source": [
        "from sklearn.preprocessing import StandardScaler\n",
        "\n",
        "ss = StandardScaler()\n",
        "ss.fit(train_poly)\n",
        "\n",
        "train_scaled = ss.transform(train_poly)\n",
        "test_scaled = ss.transform(test_poly)"
      ]
    },
    {
      "cell_type": "markdown",
      "metadata": {
        "id": "agofmoUx-kyY"
      },
      "source": [
        "릿지 회귀 (계수를 제곱한 값으로 기준으로 규제를 적용)"
      ]
    },
    {
      "cell_type": "code",
      "execution_count": null,
      "metadata": {
        "id": "9VSB-3f6-kyY",
        "outputId": "f6c0d03d-5a8a-402f-ae2b-8aaf7a9804a9"
      },
      "outputs": [
        {
          "name": "stdout",
          "output_type": "stream",
          "text": [
            "0.9545173847036246\n",
            "-1.345804224155554\n"
          ]
        }
      ],
      "source": [
        "from sklearn.linear_model import Ridge\n",
        "\n",
        "ridge = Ridge()\n",
        "ridge.fit(train_scaled, y_train)\n",
        "print(ridge.score(train_scaled, y_train))\n",
        "print(ridge.score(test_scaled,y_test))"
      ]
    },
    {
      "cell_type": "markdown",
      "metadata": {
        "id": "Ozi-lonF-kyZ"
      },
      "source": [
        "적절한 R^2값 구하기"
      ]
    },
    {
      "cell_type": "code",
      "execution_count": null,
      "metadata": {
        "id": "8XypNiWW-kyZ"
      },
      "outputs": [],
      "source": [
        "import matplotlib.pyplot as plt\n",
        "\n",
        "train_score = []\n",
        "test_score = []"
      ]
    },
    {
      "cell_type": "code",
      "execution_count": null,
      "metadata": {
        "id": "5rq_k4xZ-kyZ"
      },
      "outputs": [],
      "source": [
        "alpha_list =[10, 100, 1000, 10000, 100000, 1000000]\n",
        "for alpha in alpha_list:\n",
        "    # 릿지 모델을 만듭니다\n",
        "    ridge = Ridge(alpha=alpha)\n",
        "    # 릿지 모델을 훈련합니다\n",
        "    ridge.fit(train_scaled,  y_train)\n",
        "    # 훈련 점수와 테스트 점수를 저장합니다\n",
        "    train_score.append(ridge.score(train_scaled, y_train))\n",
        "    test_score.append(ridge.score(test_scaled, y_test))"
      ]
    },
    {
      "cell_type": "code",
      "execution_count": null,
      "metadata": {
        "id": "L4xD1eET-kyZ",
        "outputId": "75c0c601-8f87-4d7f-e92d-3187053e9dc3"
      },
      "outputs": [
        {
          "data": {
            "image/png": "[encoded data removed]",
            "text/plain": [
              "<Figure size 432x288 with 1 Axes>"
            ]
          },
          "metadata": {
            "needs_background": "light"
          },
          "output_type": "display_data"
        }
      ],
      "source": [
        "plt.plot(np.log10(alpha_list), train_score)\n",
        "plt.plot(np.log10(alpha_list), test_score)\n",
        "plt.xlabel('alpha')\n",
        "plt.ylabel('R^2')\n",
        "plt.show()"
      ]
    },
    {
      "cell_type": "code",
      "execution_count": null,
      "metadata": {
        "id": "RZSwVIT9-kya",
        "outputId": "0d0df234-7427-46f9-c944-ca6b58f85f90"
      },
      "outputs": [
        {
          "name": "stdout",
          "output_type": "stream",
          "text": [
            "0.7991525586889301\n",
            "0.835215814702833\n"
          ]
        }
      ],
      "source": [
        "from sklearn.linear_model import Ridge\n",
        "\n",
        "ridge = Ridge(alpha=7000)\n",
        "ridge.fit(train_scaled, y_train)\n",
        "print(ridge.score(train_scaled, y_train))\n",
        "print(ridge.score(test_scaled,y_test))"
      ]
    },
    {
      "cell_type": "code",
      "execution_count": null,
      "metadata": {
        "id": "UmXZ97A8-kya",
        "outputId": "e63c44ee-1e73-42c2-8400-f6d77340a185"
      },
      "outputs": [
        {
          "name": "stdout",
          "output_type": "stream",
          "text": [
            "RMSE of Train Data :  2847.8402610478074\n",
            "RMSE of Test Data :  2216.2068891750528\n",
            "\n",
            "\n",
            "MAE of Train Data :  625.8099331180468\n",
            "MAE of Test Data :  622.1676685070173\n",
            "\n",
            "\n",
            "MSE of Train Data :  8110194.152444845\n",
            "MSE of Test Data :  4911572.975626965\n"
          ]
        }
      ],
      "source": [
        "import numpy as np\n",
        "from sklearn.metrics import mean_squared_error\n",
        "# regression은 분류문제와 같이 accuracy 같은 것이 없기 때문에\n",
        "# regression에 맞는 모델 성능 지표를 써야한다.\n",
        "# 대표적인 것이 mse이다\n",
        "\n",
        "\n",
        "pred_tr = ridge.predict(train_scaled)\n",
        "pred_test = ridge.predict(test_scaled)\n",
        "\n",
        "rmse_tr = np.sqrt(mean_squared_error(y_train, pred_tr))\n",
        "rmse_test = np.sqrt(mean_squared_error(y_test, pred_test))\n",
        "\n",
        "print(\"RMSE of Train Data : \", rmse_tr)\n",
        "print(\"RMSE of Test Data : \", rmse_test)\n",
        "\n",
        "mae_tr = mean_absolute_error(y_train, pred_tr)\n",
        "mae_test = mean_absolute_error(y_test, pred_test)\n",
        "print('\\n')\n",
        "print(\"MAE of Train Data : \", mae_tr)\n",
        "print(\"MAE of Test Data : \", mae_test)\n",
        "\n",
        "\n",
        "mse_tr = mean_squared_error(y_train, pred_tr)\n",
        "mse_test =mean_squared_error(y_test, pred_test)\n",
        "print('\\n')\n",
        "print(\"MSE of Train Data : \", mse_tr)\n",
        "print(\"MSE of Test Data : \", mse_test)"
      ]
    },
    {
      "cell_type": "markdown",
      "metadata": {
        "id": "BYRpkomi-kya"
      },
      "source": [
        "라쏘 회귀 (계수의 절대값을 기준으로 규제를 적용)"
      ]
    },
    {
      "cell_type": "code",
      "execution_count": null,
      "metadata": {
        "id": "5e7jXqsY-kya",
        "outputId": "c1045389-4e81-4301-b6ab-92c1feede14e"
      },
      "outputs": [
        {
          "name": "stdout",
          "output_type": "stream",
          "text": [
            "0.9538821767243197\n"
          ]
        },
        {
          "name": "stderr",
          "output_type": "stream",
          "text": [
            "/Users/aragbagofideas/anaconda3/lib/python3.9/site-packages/sklearn/linear_model/_coordinate_descent.py:647: ConvergenceWarning: Objective did not converge. You might want to increase the number of iterations, check the scale of the features or consider increasing regularisation. Duality gap: 1.923e+09, tolerance: 1.493e+07\n",
            "  model = cd_fast.enet_coordinate_descent(\n"
          ]
        }
      ],
      "source": [
        "from sklearn.linear_model import Lasso\n",
        "\n",
        "lasso = Lasso()\n",
        "lasso.fit(train_scaled, y_train)\n",
        "print(lasso.score(train_scaled, y_train))"
      ]
    },
    {
      "cell_type": "code",
      "execution_count": null,
      "metadata": {
        "id": "xboC9H3a-kya",
        "outputId": "48863653-2363-4e59-c930-41452b1ff7e7"
      },
      "outputs": [
        {
          "name": "stdout",
          "output_type": "stream",
          "text": [
            "-1.0989848372886737\n"
          ]
        }
      ],
      "source": [
        "print(lasso.score(test_scaled, y_test))"
      ]
    },
    {
      "cell_type": "code",
      "execution_count": null,
      "metadata": {
        "id": "4eQIkEfj-kyb",
        "outputId": "d3dc618f-9543-4e86-ec47-7aa6d1d9c278"
      },
      "outputs": [
        {
          "name": "stderr",
          "output_type": "stream",
          "text": [
            "/Users/aragbagofideas/anaconda3/lib/python3.9/site-packages/sklearn/linear_model/_coordinate_descent.py:647: ConvergenceWarning: Objective did not converge. You might want to increase the number of iterations, check the scale of the features or consider increasing regularisation. Duality gap: 2.590e+09, tolerance: 1.493e+07\n",
            "  model = cd_fast.enet_coordinate_descent(\n",
            "/Users/aragbagofideas/anaconda3/lib/python3.9/site-packages/sklearn/linear_model/_coordinate_descent.py:647: ConvergenceWarning: Objective did not converge. You might want to increase the number of iterations, check the scale of the features or consider increasing regularisation. Duality gap: 3.101e+08, tolerance: 1.493e+07\n",
            "  model = cd_fast.enet_coordinate_descent(\n"
          ]
        }
      ],
      "source": [
        "train_score = []\n",
        "test_score = []\n",
        "\n",
        "alpha_list =[0.1, 1, 10, 100, 1000, 10000]\n",
        "for alpha in alpha_list:\n",
        "    # 라쏘 모델을 만듭니다\n",
        "    lasso = Lasso(alpha=alpha, max_iter=10000)\n",
        "    # 라쏘 모델을 훈련합니다\n",
        "    lasso.fit(train_scaled, y_train)\n",
        "    # 훈련 점수와 테스트 점수를 저장합니다\n",
        "    train_score.append(lasso.score(train_scaled, y_train))\n",
        "    test_score.append(lasso.score(test_scaled, y_test))"
      ]
    },
    {
      "cell_type": "code",
      "execution_count": null,
      "metadata": {
        "id": "MUrBTtNx-kyb",
        "outputId": "915c3c0c-85ff-418b-a8b2-d95202087bbc"
      },
      "outputs": [
        {
          "data": {
            "image/png": "[encoded data removed]",
            "text/plain": [
              "<Figure size 432x288 with 1 Axes>"
            ]
          },
          "metadata": {
            "needs_background": "light"
          },
          "output_type": "display_data"
        }
      ],
      "source": [
        "plt.plot(np.log10(alpha_list), train_score)\n",
        "plt.plot(np.log10(alpha_list), test_score)\n",
        "plt.xlabel('alpha')\n",
        "plt.ylabel('R^2')\n",
        "plt.show()"
      ]
    },
    {
      "cell_type": "code",
      "execution_count": null,
      "metadata": {
        "id": "WKC7QRMZ-kyb",
        "outputId": "24c6514a-9492-441f-9afd-81afc9e8b74c"
      },
      "outputs": [
        {
          "name": "stdout",
          "output_type": "stream",
          "text": [
            "0.8360125013058824\n",
            "0.8327652428495897\n"
          ]
        }
      ],
      "source": [
        "lasso = Lasso(alpha=800)\n",
        "lasso.fit(train_scaled, y_train)\n",
        "\n",
        "\n",
        "print(lasso.score(train_scaled,y_train))\n",
        "print(lasso.score(test_scaled, y_test))"
      ]
    },
    {
      "cell_type": "code",
      "execution_count": null,
      "metadata": {
        "id": "gE_-6Wm--kyb",
        "outputId": "59d0018a-9849-446a-aacf-eb1a587cf76d"
      },
      "outputs": [
        {
          "name": "stdout",
          "output_type": "stream",
          "text": [
            "RMSE of Train Data :  2573.2847402626307\n",
            "RMSE of Test Data :  2232.625125612247\n",
            "\n",
            "\n",
            "MAE of Train Data :  612.242355821648\n",
            "MAE of Test Data :  622.9666646906354\n",
            "\n",
            "\n",
            "MSE of Train Data :  6621794.354468515\n",
            "MSE of Test Data :  4984614.951515102\n"
          ]
        }
      ],
      "source": [
        "import numpy as np\n",
        "from sklearn.metrics import mean_squared_error\n",
        "# regression은 분류문제와 같이 accuracy 같은 것이 없기 때문에\n",
        "# regression에 맞는 모델 성능 지표를 써야한다.\n",
        "# 대표적인 것이 mse이다\n",
        "\n",
        "\n",
        "pred_tr = lasso.predict(train_scaled)\n",
        "pred_test = lasso.predict(test_scaled)\n",
        "\n",
        "rmse_tr = np.sqrt(mean_squared_error(y_train, pred_tr))\n",
        "rmse_test = np.sqrt(mean_squared_error(y_test, pred_test))\n",
        "\n",
        "print(\"RMSE of Train Data : \", rmse_tr)\n",
        "print(\"RMSE of Test Data : \", rmse_test)\n",
        "\n",
        "mae_tr = mean_absolute_error(y_train, pred_tr)\n",
        "mae_test = mean_absolute_error(y_test, pred_test)\n",
        "print('\\n')\n",
        "print(\"MAE of Train Data : \", mae_tr)\n",
        "print(\"MAE of Test Data : \", mae_test)\n",
        "\n",
        "\n",
        "mse_tr = mean_squared_error(y_train, pred_tr)\n",
        "mse_test =mean_squared_error(y_test, pred_test)\n",
        "print('\\n')\n",
        "print(\"MSE of Train Data : \", mse_tr)\n",
        "print(\"MSE of Test Data : \", mse_test)"
      ]
    },
    {
      "cell_type": "markdown",
      "metadata": {
        "id": "vRzyR_pI-kyk"
      },
      "source": [
        "###  x 데이터로 쓰이는 변수 들 중 buy값과 상관계수가 높은 3순위 변수 데이터 추가 전처리"
      ]
    },
    {
      "cell_type": "code",
      "execution_count": null,
      "metadata": {
        "id": "p8-199PU-kyk",
        "outputId": "5864aa4b-1bf8-4cb9-f819-1c6ac93f84ed"
      },
      "outputs": [
        {
          "data": {
            "text/plain": [
              "buy_age2           0.007364\n",
              "middle_category    0.025842\n",
              "discount_rate      0.025925\n",
              "rating             0.027764\n",
              "delivery_date      0.031156\n",
              "exclusive          0.047586\n",
              "limit              0.061756\n",
              "buy_age1           0.071595\n",
              "buy_gender         0.071988\n",
              "target_gender      0.077322\n",
              "major_category     0.083946\n",
              "price              0.085216\n",
              "score              0.098590\n",
              "view               0.562318\n",
              "like               0.814722\n",
              "review             0.890346\n",
              "buy                1.000000\n",
              "Name: buy, dtype: float64"
            ]
          },
          "execution_count": 33,
          "metadata": {},
          "output_type": "execute_result"
        }
      ],
      "source": [
        "abs(df.corr().loc['buy']).sort_values()"
      ]
    },
    {
      "cell_type": "code",
      "execution_count": null,
      "metadata": {
        "id": "FnQLWaxE-kyl",
        "outputId": "20fecb30-696c-4cb8-a25c-7cb08d6835d2"
      },
      "outputs": [
        {
          "data": {
            "text/plain": [
              "<AxesSubplot:>"
            ]
          },
          "execution_count": 34,
          "metadata": {},
          "output_type": "execute_result"
        },
        {
          "data": {
            "image/png": "[encoded data removed]",
            "text/plain": [
              "<Figure size 432x288 with 1 Axes>"
            ]
          },
          "metadata": {
            "needs_background": "light"
          },
          "output_type": "display_data"
        }
      ],
      "source": [
        "df[['review','like','view']].plot(kind='box')"
      ]
    },
    {
      "cell_type": "code",
      "execution_count": null,
      "metadata": {
        "id": "3BytnK37-kym",
        "outputId": "3cbd02fe-5280-42b0-a6d7-8cb274989711"
      },
      "outputs": [
        {
          "data": {
            "text/html": [
              "<div>\n",
              "<style scoped>\n",
              "    .dataframe tbody tr th:only-of-type {\n",
              "        vertical-align: middle;\n",
              "    }\n",
              "\n",
              "    .dataframe tbody tr th {\n",
              "        vertical-align: top;\n",
              "    }\n",
              "\n",
              "    .dataframe thead th {\n",
              "        text-align: right;\n",
              "    }\n",
              "</style>\n",
              "<table border=\"1\" class=\"dataframe\">\n",
              "  <thead>\n",
              "    <tr style=\"text-align: right;\">\n",
              "      <th></th>\n",
              "      <th>major_category</th>\n",
              "      <th>middle_category</th>\n",
              "      <th>name</th>\n",
              "      <th>number</th>\n",
              "      <th>limit</th>\n",
              "      <th>exclusive</th>\n",
              "      <th>target_gender</th>\n",
              "      <th>buy_gender</th>\n",
              "      <th>buy_age</th>\n",
              "      <th>view</th>\n",
              "      <th>like</th>\n",
              "      <th>price</th>\n",
              "      <th>discount_rate</th>\n",
              "      <th>delivery_date</th>\n",
              "      <th>rating</th>\n",
              "      <th>review</th>\n",
              "      <th>buy</th>\n",
              "      <th>score</th>\n",
              "      <th>buy_age1</th>\n",
              "      <th>buy_age2</th>\n",
              "    </tr>\n",
              "  </thead>\n",
              "  <tbody>\n",
              "    <tr>\n",
              "      <th>0</th>\n",
              "      <td>1</td>\n",
              "      <td>19</td>\n",
              "      <td>오버사이즈 16골 에센셜 코듀로이 셔츠 블랙</td>\n",
              "      <td>22FWGS28BK</td>\n",
              "      <td>1</td>\n",
              "      <td>0</td>\n",
              "      <td>2</td>\n",
              "      <td>0.0</td>\n",
              "      <td>('29~33세', 0)</td>\n",
              "      <td>1200.0</td>\n",
              "      <td>493</td>\n",
              "      <td>39800.0</td>\n",
              "      <td>20</td>\n",
              "      <td>19.0</td>\n",
              "      <td>4.6</td>\n",
              "      <td>36</td>\n",
              "      <td>50.0</td>\n",
              "      <td>0.976190</td>\n",
              "      <td>4</td>\n",
              "      <td>0</td>\n",
              "    </tr>\n",
              "    <tr>\n",
              "      <th>1</th>\n",
              "      <td>1</td>\n",
              "      <td>8</td>\n",
              "      <td>TD5-SW01 램스울 라운드 니트-만다린오렌지</td>\n",
              "      <td>TD5-SW01_MAO</td>\n",
              "      <td>1</td>\n",
              "      <td>0</td>\n",
              "      <td>0</td>\n",
              "      <td>0.0</td>\n",
              "      <td>('29~33세', 0)</td>\n",
              "      <td>4900.0</td>\n",
              "      <td>650</td>\n",
              "      <td>53550.0</td>\n",
              "      <td>10</td>\n",
              "      <td>5.0</td>\n",
              "      <td>4.9</td>\n",
              "      <td>61</td>\n",
              "      <td>200.0</td>\n",
              "      <td>0.954545</td>\n",
              "      <td>4</td>\n",
              "      <td>0</td>\n",
              "    </tr>\n",
              "    <tr>\n",
              "      <th>2</th>\n",
              "      <td>1</td>\n",
              "      <td>38</td>\n",
              "      <td>[SET UP] PPP 플라워 후드 셋업_멜란지 그레이</td>\n",
              "      <td>KBCS1TH003MGKBCS1PL003MGKBCS1PS003MG</td>\n",
              "      <td>1</td>\n",
              "      <td>0</td>\n",
              "      <td>2</td>\n",
              "      <td>1.0</td>\n",
              "      <td>('19~23세', 0)</td>\n",
              "      <td>3600.0</td>\n",
              "      <td>2536</td>\n",
              "      <td>49900.0</td>\n",
              "      <td>49</td>\n",
              "      <td>5.0</td>\n",
              "      <td>4.8</td>\n",
              "      <td>41</td>\n",
              "      <td>150.0</td>\n",
              "      <td>1.000000</td>\n",
              "      <td>2</td>\n",
              "      <td>0</td>\n",
              "    </tr>\n",
              "    <tr>\n",
              "      <th>3</th>\n",
              "      <td>1</td>\n",
              "      <td>38</td>\n",
              "      <td>TIE DYE 후드티 Olive Green</td>\n",
              "      <td>CTTZPHD01UG4</td>\n",
              "      <td>0</td>\n",
              "      <td>0</td>\n",
              "      <td>0</td>\n",
              "      <td>0.0</td>\n",
              "      <td>('40세~', 0)</td>\n",
              "      <td>1000.0</td>\n",
              "      <td>569</td>\n",
              "      <td>19800.0</td>\n",
              "      <td>80</td>\n",
              "      <td>5.0</td>\n",
              "      <td>4.8</td>\n",
              "      <td>62</td>\n",
              "      <td>150.0</td>\n",
              "      <td>0.971429</td>\n",
              "      <td>6</td>\n",
              "      <td>0</td>\n",
              "    </tr>\n",
              "    <tr>\n",
              "      <th>4</th>\n",
              "      <td>1</td>\n",
              "      <td>6</td>\n",
              "      <td>essential turtleneck logo top - pink</td>\n",
              "      <td>BT23WTS002PIKF</td>\n",
              "      <td>1</td>\n",
              "      <td>0</td>\n",
              "      <td>1</td>\n",
              "      <td>1.0</td>\n",
              "      <td>('24~28세', 0)</td>\n",
              "      <td>11000.0</td>\n",
              "      <td>2561</td>\n",
              "      <td>43000.0</td>\n",
              "      <td>0</td>\n",
              "      <td>28.0</td>\n",
              "      <td>4.8</td>\n",
              "      <td>34</td>\n",
              "      <td>100.0</td>\n",
              "      <td>0.964286</td>\n",
              "      <td>3</td>\n",
              "      <td>0</td>\n",
              "    </tr>\n",
              "    <tr>\n",
              "      <th>...</th>\n",
              "      <td>...</td>\n",
              "      <td>...</td>\n",
              "      <td>...</td>\n",
              "      <td>...</td>\n",
              "      <td>...</td>\n",
              "      <td>...</td>\n",
              "      <td>...</td>\n",
              "      <td>...</td>\n",
              "      <td>...</td>\n",
              "      <td>...</td>\n",
              "      <td>...</td>\n",
              "      <td>...</td>\n",
              "      <td>...</td>\n",
              "      <td>...</td>\n",
              "      <td>...</td>\n",
              "      <td>...</td>\n",
              "      <td>...</td>\n",
              "      <td>...</td>\n",
              "      <td>...</td>\n",
              "      <td>...</td>\n",
              "    </tr>\n",
              "    <tr>\n",
              "      <th>4926</th>\n",
              "      <td>2</td>\n",
              "      <td>21</td>\n",
              "      <td>다운 숏 푸퍼-블랙</td>\n",
              "      <td>P22FWOT001</td>\n",
              "      <td>0</td>\n",
              "      <td>0</td>\n",
              "      <td>2</td>\n",
              "      <td>0.0</td>\n",
              "      <td>('19~23세', 0)</td>\n",
              "      <td>2900.0</td>\n",
              "      <td>771</td>\n",
              "      <td>139000.0</td>\n",
              "      <td>43</td>\n",
              "      <td>5.0</td>\n",
              "      <td>4.9</td>\n",
              "      <td>17</td>\n",
              "      <td>50.0</td>\n",
              "      <td>0.964286</td>\n",
              "      <td>2</td>\n",
              "      <td>0</td>\n",
              "    </tr>\n",
              "    <tr>\n",
              "      <th>4927</th>\n",
              "      <td>2</td>\n",
              "      <td>25</td>\n",
              "      <td>나일론 아노락 자켓 - 블랙 / 2033B427-001</td>\n",
              "      <td>2033B427-001</td>\n",
              "      <td>0</td>\n",
              "      <td>1</td>\n",
              "      <td>0</td>\n",
              "      <td>0.0</td>\n",
              "      <td>('24~28세', 0)</td>\n",
              "      <td>2100.0</td>\n",
              "      <td>1275</td>\n",
              "      <td>87200.0</td>\n",
              "      <td>20</td>\n",
              "      <td>4.0</td>\n",
              "      <td>4.9</td>\n",
              "      <td>222</td>\n",
              "      <td>300.0</td>\n",
              "      <td>0.987500</td>\n",
              "      <td>3</td>\n",
              "      <td>0</td>\n",
              "    </tr>\n",
              "    <tr>\n",
              "      <th>4928</th>\n",
              "      <td>2</td>\n",
              "      <td>33</td>\n",
              "      <td>[MENS] 리버서블 패딩 조끼(10 color)</td>\n",
              "      <td>HBA-VT-M201</td>\n",
              "      <td>0</td>\n",
              "      <td>0</td>\n",
              "      <td>0</td>\n",
              "      <td>0.0</td>\n",
              "      <td>('34~39세', 0)</td>\n",
              "      <td>1400.0</td>\n",
              "      <td>198</td>\n",
              "      <td>38400.0</td>\n",
              "      <td>60</td>\n",
              "      <td>5.0</td>\n",
              "      <td>4.8</td>\n",
              "      <td>33</td>\n",
              "      <td>100.0</td>\n",
              "      <td>0.976190</td>\n",
              "      <td>5</td>\n",
              "      <td>0</td>\n",
              "    </tr>\n",
              "    <tr>\n",
              "      <th>4929</th>\n",
              "      <td>2</td>\n",
              "      <td>21</td>\n",
              "      <td>숏 미니멀 덕다운 패딩 블랙</td>\n",
              "      <td>3001</td>\n",
              "      <td>0</td>\n",
              "      <td>1</td>\n",
              "      <td>0</td>\n",
              "      <td>0.0</td>\n",
              "      <td>('29~33세', 0)</td>\n",
              "      <td>3300.0</td>\n",
              "      <td>2028</td>\n",
              "      <td>238400.0</td>\n",
              "      <td>20</td>\n",
              "      <td>7.0</td>\n",
              "      <td>4.8</td>\n",
              "      <td>87</td>\n",
              "      <td>100.0</td>\n",
              "      <td>0.988095</td>\n",
              "      <td>4</td>\n",
              "      <td>0</td>\n",
              "    </tr>\n",
              "    <tr>\n",
              "      <th>4930</th>\n",
              "      <td>2</td>\n",
              "      <td>26</td>\n",
              "      <td>Pocket Tidy Hood Anorak H7 Navy/Green</td>\n",
              "      <td>409</td>\n",
              "      <td>1</td>\n",
              "      <td>0</td>\n",
              "      <td>2</td>\n",
              "      <td>1.0</td>\n",
              "      <td>('34~39세', 0)</td>\n",
              "      <td>400.0</td>\n",
              "      <td>368</td>\n",
              "      <td>53000.0</td>\n",
              "      <td>40</td>\n",
              "      <td>5.0</td>\n",
              "      <td>5.0</td>\n",
              "      <td>22</td>\n",
              "      <td>50.0</td>\n",
              "      <td>0.947368</td>\n",
              "      <td>5</td>\n",
              "      <td>0</td>\n",
              "    </tr>\n",
              "  </tbody>\n",
              "</table>\n",
              "<p>4931 rows × 20 columns</p>\n",
              "</div>"
            ],
            "text/plain": [
              "      major_category  middle_category                                   name  \\\n",
              "0                  1               19               오버사이즈 16골 에센셜 코듀로이 셔츠 블랙   \n",
              "1                  1                8             TD5-SW01 램스울 라운드 니트-만다린오렌지   \n",
              "2                  1               38         [SET UP] PPP 플라워 후드 셋업_멜란지 그레이   \n",
              "3                  1               38                TIE DYE 후드티 Olive Green   \n",
              "4                  1                6   essential turtleneck logo top - pink   \n",
              "...              ...              ...                                    ...   \n",
              "4926               2               21                             다운 숏 푸퍼-블랙   \n",
              "4927               2               25         나일론 아노락 자켓 - 블랙 / 2033B427-001   \n",
              "4928               2               33            [MENS] 리버서블 패딩 조끼(10 color)   \n",
              "4929               2               21                        숏 미니멀 덕다운 패딩 블랙   \n",
              "4930               2               26  Pocket Tidy Hood Anorak H7 Navy/Green   \n",
              "\n",
              "                                    number  limit  exclusive  target_gender  \\\n",
              "0                               22FWGS28BK      1          0              2   \n",
              "1                             TD5-SW01_MAO      1          0              0   \n",
              "2     KBCS1TH003MGKBCS1PL003MGKBCS1PS003MG      1          0              2   \n",
              "3                             CTTZPHD01UG4      0          0              0   \n",
              "4                           BT23WTS002PIKF      1          0              1   \n",
              "...                                    ...    ...        ...            ...   \n",
              "4926                            P22FWOT001      0          0              2   \n",
              "4927                          2033B427-001      0          1              0   \n",
              "4928                           HBA-VT-M201      0          0              0   \n",
              "4929                                  3001      0          1              0   \n",
              "4930                                   409      1          0              2   \n",
              "\n",
              "      buy_gender        buy_age     view  like     price  discount_rate  \\\n",
              "0            0.0  ('29~33세', 0)   1200.0   493   39800.0             20   \n",
              "1            0.0  ('29~33세', 0)   4900.0   650   53550.0             10   \n",
              "2            1.0  ('19~23세', 0)   3600.0  2536   49900.0             49   \n",
              "3            0.0    ('40세~', 0)   1000.0   569   19800.0             80   \n",
              "4            1.0  ('24~28세', 0)  11000.0  2561   43000.0              0   \n",
              "...          ...            ...      ...   ...       ...            ...   \n",
              "4926         0.0  ('19~23세', 0)   2900.0   771  139000.0             43   \n",
              "4927         0.0  ('24~28세', 0)   2100.0  1275   87200.0             20   \n",
              "4928         0.0  ('34~39세', 0)   1400.0   198   38400.0             60   \n",
              "4929         0.0  ('29~33세', 0)   3300.0  2028  238400.0             20   \n",
              "4930         1.0  ('34~39세', 0)    400.0   368   53000.0             40   \n",
              "\n",
              "      delivery_date  rating  review    buy     score  buy_age1  buy_age2  \n",
              "0              19.0     4.6      36   50.0  0.976190         4         0  \n",
              "1               5.0     4.9      61  200.0  0.954545         4         0  \n",
              "2               5.0     4.8      41  150.0  1.000000         2         0  \n",
              "3               5.0     4.8      62  150.0  0.971429         6         0  \n",
              "4              28.0     4.8      34  100.0  0.964286         3         0  \n",
              "...             ...     ...     ...    ...       ...       ...       ...  \n",
              "4926            5.0     4.9      17   50.0  0.964286         2         0  \n",
              "4927            4.0     4.9     222  300.0  0.987500         3         0  \n",
              "4928            5.0     4.8      33  100.0  0.976190         5         0  \n",
              "4929            7.0     4.8      87  100.0  0.988095         4         0  \n",
              "4930            5.0     5.0      22   50.0  0.947368         5         0  \n",
              "\n",
              "[4931 rows x 20 columns]"
            ]
          },
          "execution_count": 35,
          "metadata": {},
          "output_type": "execute_result"
        }
      ],
      "source": [
        "df_refined=df\n",
        "df_refined"
      ]
    },
    {
      "cell_type": "markdown",
      "metadata": {
        "id": "MnDW9AR--kym"
      },
      "source": [
        "- 이상치 제거"
      ]
    },
    {
      "cell_type": "code",
      "execution_count": null,
      "metadata": {
        "id": "g_lwlJ4G-kym",
        "outputId": "662b0431-b91c-405a-afce-687bfe291be4"
      },
      "outputs": [
        {
          "name": "stdout",
          "output_type": "stream",
          "text": [
            "review      15.0\n",
            "like       399.0\n",
            "view      1400.0\n",
            "Name: 0.25, dtype: float64\n",
            "review     136.5\n",
            "like      2455.5\n",
            "view      4500.0\n",
            "Name: 0.75, dtype: float64\n"
          ]
        }
      ],
      "source": [
        "# 1.5배 이상인 데이터 삭제\n",
        "Q1 = df_refined[['review','like', 'view']].quantile(q=0.25)\n",
        "Q3 = df_refined[['review','like', 'view']].quantile(q=0.75)\n",
        "print(Q1)\n",
        "print(Q3)"
      ]
    },
    {
      "cell_type": "code",
      "execution_count": null,
      "metadata": {
        "id": "ecpasQXC-kym",
        "outputId": "8aafe3fb-c325-4bda-88c4-9f71cead4239"
      },
      "outputs": [
        {
          "name": "stdout",
          "output_type": "stream",
          "text": [
            "original_df : 4931\n",
            "IQR_df : 3877\n"
          ]
        }
      ],
      "source": [
        "IQR = Q3-Q1\n",
        "\n",
        "IQR_df = df_refined[(df_refined['view'] <= Q3['view']+1.5*IQR['view']) & (df_refined['view'] >= Q1['view']-1.5*IQR['view'])]\n",
        "IQR_df = IQR_df[(IQR_df['like'] <= Q3['like']+1.5*IQR['like']) & (IQR_df['like'] >= Q1['like']-1.5*IQR['like'])]\n",
        "IQR_df = IQR_df[(IQR_df['review'] <= Q3['review']+1.5*IQR['review']) & (IQR_df['review'] >= Q1['review']-1.5*IQR['review'])]\n",
        "# IQR_df = IQR_df[['view','like','review']]\n",
        "\n",
        "\n",
        "print('original_df :', len(df_refined))\n",
        "print('IQR_df :', len(IQR_df))"
      ]
    },
    {
      "cell_type": "code",
      "execution_count": null,
      "metadata": {
        "id": "Lr46NZia-kyn",
        "outputId": "bd329409-72e4-4355-ea73-29d56a9c0f43"
      },
      "outputs": [
        {
          "data": {
            "text/html": [
              "<div>\n",
              "<style scoped>\n",
              "    .dataframe tbody tr th:only-of-type {\n",
              "        vertical-align: middle;\n",
              "    }\n",
              "\n",
              "    .dataframe tbody tr th {\n",
              "        vertical-align: top;\n",
              "    }\n",
              "\n",
              "    .dataframe thead th {\n",
              "        text-align: right;\n",
              "    }\n",
              "</style>\n",
              "<table border=\"1\" class=\"dataframe\">\n",
              "  <thead>\n",
              "    <tr style=\"text-align: right;\">\n",
              "      <th></th>\n",
              "      <th>major_category</th>\n",
              "      <th>middle_category</th>\n",
              "      <th>name</th>\n",
              "      <th>number</th>\n",
              "      <th>limit</th>\n",
              "      <th>exclusive</th>\n",
              "      <th>target_gender</th>\n",
              "      <th>buy_gender</th>\n",
              "      <th>buy_age</th>\n",
              "      <th>view</th>\n",
              "      <th>like</th>\n",
              "      <th>price</th>\n",
              "      <th>discount_rate</th>\n",
              "      <th>delivery_date</th>\n",
              "      <th>rating</th>\n",
              "      <th>review</th>\n",
              "      <th>buy</th>\n",
              "      <th>score</th>\n",
              "      <th>buy_age1</th>\n",
              "      <th>buy_age2</th>\n",
              "    </tr>\n",
              "  </thead>\n",
              "  <tbody>\n",
              "    <tr>\n",
              "      <th>0</th>\n",
              "      <td>1</td>\n",
              "      <td>19</td>\n",
              "      <td>오버사이즈 16골 에센셜 코듀로이 셔츠 블랙</td>\n",
              "      <td>22FWGS28BK</td>\n",
              "      <td>1</td>\n",
              "      <td>0</td>\n",
              "      <td>2</td>\n",
              "      <td>0.0</td>\n",
              "      <td>('29~33세', 0)</td>\n",
              "      <td>1200.0</td>\n",
              "      <td>493</td>\n",
              "      <td>39800.0</td>\n",
              "      <td>20</td>\n",
              "      <td>19.0</td>\n",
              "      <td>4.6</td>\n",
              "      <td>36</td>\n",
              "      <td>50.0</td>\n",
              "      <td>0.976190</td>\n",
              "      <td>4</td>\n",
              "      <td>0</td>\n",
              "    </tr>\n",
              "    <tr>\n",
              "      <th>1</th>\n",
              "      <td>1</td>\n",
              "      <td>8</td>\n",
              "      <td>TD5-SW01 램스울 라운드 니트-만다린오렌지</td>\n",
              "      <td>TD5-SW01_MAO</td>\n",
              "      <td>1</td>\n",
              "      <td>0</td>\n",
              "      <td>0</td>\n",
              "      <td>0.0</td>\n",
              "      <td>('29~33세', 0)</td>\n",
              "      <td>4900.0</td>\n",
              "      <td>650</td>\n",
              "      <td>53550.0</td>\n",
              "      <td>10</td>\n",
              "      <td>5.0</td>\n",
              "      <td>4.9</td>\n",
              "      <td>61</td>\n",
              "      <td>200.0</td>\n",
              "      <td>0.954545</td>\n",
              "      <td>4</td>\n",
              "      <td>0</td>\n",
              "    </tr>\n",
              "    <tr>\n",
              "      <th>2</th>\n",
              "      <td>1</td>\n",
              "      <td>38</td>\n",
              "      <td>[SET UP] PPP 플라워 후드 셋업_멜란지 그레이</td>\n",
              "      <td>KBCS1TH003MGKBCS1PL003MGKBCS1PS003MG</td>\n",
              "      <td>1</td>\n",
              "      <td>0</td>\n",
              "      <td>2</td>\n",
              "      <td>1.0</td>\n",
              "      <td>('19~23세', 0)</td>\n",
              "      <td>3600.0</td>\n",
              "      <td>2536</td>\n",
              "      <td>49900.0</td>\n",
              "      <td>49</td>\n",
              "      <td>5.0</td>\n",
              "      <td>4.8</td>\n",
              "      <td>41</td>\n",
              "      <td>150.0</td>\n",
              "      <td>1.000000</td>\n",
              "      <td>2</td>\n",
              "      <td>0</td>\n",
              "    </tr>\n",
              "    <tr>\n",
              "      <th>3</th>\n",
              "      <td>1</td>\n",
              "      <td>38</td>\n",
              "      <td>TIE DYE 후드티 Olive Green</td>\n",
              "      <td>CTTZPHD01UG4</td>\n",
              "      <td>0</td>\n",
              "      <td>0</td>\n",
              "      <td>0</td>\n",
              "      <td>0.0</td>\n",
              "      <td>('40세~', 0)</td>\n",
              "      <td>1000.0</td>\n",
              "      <td>569</td>\n",
              "      <td>19800.0</td>\n",
              "      <td>80</td>\n",
              "      <td>5.0</td>\n",
              "      <td>4.8</td>\n",
              "      <td>62</td>\n",
              "      <td>150.0</td>\n",
              "      <td>0.971429</td>\n",
              "      <td>6</td>\n",
              "      <td>0</td>\n",
              "    </tr>\n",
              "    <tr>\n",
              "      <th>5</th>\n",
              "      <td>1</td>\n",
              "      <td>8</td>\n",
              "      <td>린넨 코튼 니트 후디 DUSTY GREEN</td>\n",
              "      <td>IM2C2KT03GE</td>\n",
              "      <td>1</td>\n",
              "      <td>0</td>\n",
              "      <td>0</td>\n",
              "      <td>0.0</td>\n",
              "      <td>('24~28세', 0)</td>\n",
              "      <td>2800.0</td>\n",
              "      <td>442</td>\n",
              "      <td>108000.0</td>\n",
              "      <td>30</td>\n",
              "      <td>5.0</td>\n",
              "      <td>4.9</td>\n",
              "      <td>12</td>\n",
              "      <td>50.0</td>\n",
              "      <td>1.000000</td>\n",
              "      <td>3</td>\n",
              "      <td>0</td>\n",
              "    </tr>\n",
              "    <tr>\n",
              "      <th>...</th>\n",
              "      <td>...</td>\n",
              "      <td>...</td>\n",
              "      <td>...</td>\n",
              "      <td>...</td>\n",
              "      <td>...</td>\n",
              "      <td>...</td>\n",
              "      <td>...</td>\n",
              "      <td>...</td>\n",
              "      <td>...</td>\n",
              "      <td>...</td>\n",
              "      <td>...</td>\n",
              "      <td>...</td>\n",
              "      <td>...</td>\n",
              "      <td>...</td>\n",
              "      <td>...</td>\n",
              "      <td>...</td>\n",
              "      <td>...</td>\n",
              "      <td>...</td>\n",
              "      <td>...</td>\n",
              "      <td>...</td>\n",
              "    </tr>\n",
              "    <tr>\n",
              "      <th>4926</th>\n",
              "      <td>2</td>\n",
              "      <td>21</td>\n",
              "      <td>다운 숏 푸퍼-블랙</td>\n",
              "      <td>P22FWOT001</td>\n",
              "      <td>0</td>\n",
              "      <td>0</td>\n",
              "      <td>2</td>\n",
              "      <td>0.0</td>\n",
              "      <td>('19~23세', 0)</td>\n",
              "      <td>2900.0</td>\n",
              "      <td>771</td>\n",
              "      <td>139000.0</td>\n",
              "      <td>43</td>\n",
              "      <td>5.0</td>\n",
              "      <td>4.9</td>\n",
              "      <td>17</td>\n",
              "      <td>50.0</td>\n",
              "      <td>0.964286</td>\n",
              "      <td>2</td>\n",
              "      <td>0</td>\n",
              "    </tr>\n",
              "    <tr>\n",
              "      <th>4927</th>\n",
              "      <td>2</td>\n",
              "      <td>25</td>\n",
              "      <td>나일론 아노락 자켓 - 블랙 / 2033B427-001</td>\n",
              "      <td>2033B427-001</td>\n",
              "      <td>0</td>\n",
              "      <td>1</td>\n",
              "      <td>0</td>\n",
              "      <td>0.0</td>\n",
              "      <td>('24~28세', 0)</td>\n",
              "      <td>2100.0</td>\n",
              "      <td>1275</td>\n",
              "      <td>87200.0</td>\n",
              "      <td>20</td>\n",
              "      <td>4.0</td>\n",
              "      <td>4.9</td>\n",
              "      <td>222</td>\n",
              "      <td>300.0</td>\n",
              "      <td>0.987500</td>\n",
              "      <td>3</td>\n",
              "      <td>0</td>\n",
              "    </tr>\n",
              "    <tr>\n",
              "      <th>4928</th>\n",
              "      <td>2</td>\n",
              "      <td>33</td>\n",
              "      <td>[MENS] 리버서블 패딩 조끼(10 color)</td>\n",
              "      <td>HBA-VT-M201</td>\n",
              "      <td>0</td>\n",
              "      <td>0</td>\n",
              "      <td>0</td>\n",
              "      <td>0.0</td>\n",
              "      <td>('34~39세', 0)</td>\n",
              "      <td>1400.0</td>\n",
              "      <td>198</td>\n",
              "      <td>38400.0</td>\n",
              "      <td>60</td>\n",
              "      <td>5.0</td>\n",
              "      <td>4.8</td>\n",
              "      <td>33</td>\n",
              "      <td>100.0</td>\n",
              "      <td>0.976190</td>\n",
              "      <td>5</td>\n",
              "      <td>0</td>\n",
              "    </tr>\n",
              "    <tr>\n",
              "      <th>4929</th>\n",
              "      <td>2</td>\n",
              "      <td>21</td>\n",
              "      <td>숏 미니멀 덕다운 패딩 블랙</td>\n",
              "      <td>3001</td>\n",
              "      <td>0</td>\n",
              "      <td>1</td>\n",
              "      <td>0</td>\n",
              "      <td>0.0</td>\n",
              "      <td>('29~33세', 0)</td>\n",
              "      <td>3300.0</td>\n",
              "      <td>2028</td>\n",
              "      <td>238400.0</td>\n",
              "      <td>20</td>\n",
              "      <td>7.0</td>\n",
              "      <td>4.8</td>\n",
              "      <td>87</td>\n",
              "      <td>100.0</td>\n",
              "      <td>0.988095</td>\n",
              "      <td>4</td>\n",
              "      <td>0</td>\n",
              "    </tr>\n",
              "    <tr>\n",
              "      <th>4930</th>\n",
              "      <td>2</td>\n",
              "      <td>26</td>\n",
              "      <td>Pocket Tidy Hood Anorak H7 Navy/Green</td>\n",
              "      <td>409</td>\n",
              "      <td>1</td>\n",
              "      <td>0</td>\n",
              "      <td>2</td>\n",
              "      <td>1.0</td>\n",
              "      <td>('34~39세', 0)</td>\n",
              "      <td>400.0</td>\n",
              "      <td>368</td>\n",
              "      <td>53000.0</td>\n",
              "      <td>40</td>\n",
              "      <td>5.0</td>\n",
              "      <td>5.0</td>\n",
              "      <td>22</td>\n",
              "      <td>50.0</td>\n",
              "      <td>0.947368</td>\n",
              "      <td>5</td>\n",
              "      <td>0</td>\n",
              "    </tr>\n",
              "  </tbody>\n",
              "</table>\n",
              "<p>3877 rows × 20 columns</p>\n",
              "</div>"
            ],
            "text/plain": [
              "      major_category  middle_category                                   name  \\\n",
              "0                  1               19               오버사이즈 16골 에센셜 코듀로이 셔츠 블랙   \n",
              "1                  1                8             TD5-SW01 램스울 라운드 니트-만다린오렌지   \n",
              "2                  1               38         [SET UP] PPP 플라워 후드 셋업_멜란지 그레이   \n",
              "3                  1               38                TIE DYE 후드티 Olive Green   \n",
              "5                  1                8                린넨 코튼 니트 후디 DUSTY GREEN   \n",
              "...              ...              ...                                    ...   \n",
              "4926               2               21                             다운 숏 푸퍼-블랙   \n",
              "4927               2               25         나일론 아노락 자켓 - 블랙 / 2033B427-001   \n",
              "4928               2               33            [MENS] 리버서블 패딩 조끼(10 color)   \n",
              "4929               2               21                        숏 미니멀 덕다운 패딩 블랙   \n",
              "4930               2               26  Pocket Tidy Hood Anorak H7 Navy/Green   \n",
              "\n",
              "                                    number  limit  exclusive  target_gender  \\\n",
              "0                               22FWGS28BK      1          0              2   \n",
              "1                             TD5-SW01_MAO      1          0              0   \n",
              "2     KBCS1TH003MGKBCS1PL003MGKBCS1PS003MG      1          0              2   \n",
              "3                             CTTZPHD01UG4      0          0              0   \n",
              "5                              IM2C2KT03GE      1          0              0   \n",
              "...                                    ...    ...        ...            ...   \n",
              "4926                            P22FWOT001      0          0              2   \n",
              "4927                          2033B427-001      0          1              0   \n",
              "4928                           HBA-VT-M201      0          0              0   \n",
              "4929                                  3001      0          1              0   \n",
              "4930                                   409      1          0              2   \n",
              "\n",
              "      buy_gender        buy_age    view  like     price  discount_rate  \\\n",
              "0            0.0  ('29~33세', 0)  1200.0   493   39800.0             20   \n",
              "1            0.0  ('29~33세', 0)  4900.0   650   53550.0             10   \n",
              "2            1.0  ('19~23세', 0)  3600.0  2536   49900.0             49   \n",
              "3            0.0    ('40세~', 0)  1000.0   569   19800.0             80   \n",
              "5            0.0  ('24~28세', 0)  2800.0   442  108000.0             30   \n",
              "...          ...            ...     ...   ...       ...            ...   \n",
              "4926         0.0  ('19~23세', 0)  2900.0   771  139000.0             43   \n",
              "4927         0.0  ('24~28세', 0)  2100.0  1275   87200.0             20   \n",
              "4928         0.0  ('34~39세', 0)  1400.0   198   38400.0             60   \n",
              "4929         0.0  ('29~33세', 0)  3300.0  2028  238400.0             20   \n",
              "4930         1.0  ('34~39세', 0)   400.0   368   53000.0             40   \n",
              "\n",
              "      delivery_date  rating  review    buy     score  buy_age1  buy_age2  \n",
              "0              19.0     4.6      36   50.0  0.976190         4         0  \n",
              "1               5.0     4.9      61  200.0  0.954545         4         0  \n",
              "2               5.0     4.8      41  150.0  1.000000         2         0  \n",
              "3               5.0     4.8      62  150.0  0.971429         6         0  \n",
              "5               5.0     4.9      12   50.0  1.000000         3         0  \n",
              "...             ...     ...     ...    ...       ...       ...       ...  \n",
              "4926            5.0     4.9      17   50.0  0.964286         2         0  \n",
              "4927            4.0     4.9     222  300.0  0.987500         3         0  \n",
              "4928            5.0     4.8      33  100.0  0.976190         5         0  \n",
              "4929            7.0     4.8      87  100.0  0.988095         4         0  \n",
              "4930            5.0     5.0      22   50.0  0.947368         5         0  \n",
              "\n",
              "[3877 rows x 20 columns]"
            ]
          },
          "execution_count": 38,
          "metadata": {},
          "output_type": "execute_result"
        }
      ],
      "source": [
        "IQR_df"
      ]
    },
    {
      "cell_type": "code",
      "execution_count": null,
      "metadata": {
        "id": "pt1cQNG4-kyn",
        "outputId": "36598113-cbee-4124-b36d-3b1dcdefe3d0"
      },
      "outputs": [
        {
          "data": {
            "text/plain": [
              "<AxesSubplot:>"
            ]
          },
          "execution_count": 39,
          "metadata": {},
          "output_type": "execute_result"
        },
        {
          "data": {
            "text/plain": [
              "<Figure size 864x720 with 0 Axes>"
            ]
          },
          "metadata": {},
          "output_type": "display_data"
        },
        {
          "data": {
            "image/png": "[encoded data removed]",
            "text/plain": [
              "<Figure size 432x288 with 1 Axes>"
            ]
          },
          "metadata": {
            "needs_background": "light"
          },
          "output_type": "display_data"
        }
      ],
      "source": [
        "plt.figure(figsize=(12,10))\n",
        "IQR_df[['review','like','view']].plot(kind='box')"
      ]
    },
    {
      "cell_type": "code",
      "execution_count": null,
      "metadata": {
        "id": "hx0BxTOu-kyn",
        "outputId": "882f5caa-0264-42bf-ca80-59cb62ff5d90"
      },
      "outputs": [
        {
          "data": {
            "text/html": [
              "<div>\n",
              "<style scoped>\n",
              "    .dataframe tbody tr th:only-of-type {\n",
              "        vertical-align: middle;\n",
              "    }\n",
              "\n",
              "    .dataframe tbody tr th {\n",
              "        vertical-align: top;\n",
              "    }\n",
              "\n",
              "    .dataframe thead th {\n",
              "        text-align: right;\n",
              "    }\n",
              "</style>\n",
              "<table border=\"1\" class=\"dataframe\">\n",
              "  <thead>\n",
              "    <tr style=\"text-align: right;\">\n",
              "      <th></th>\n",
              "      <th>major_category</th>\n",
              "      <th>middle_category</th>\n",
              "      <th>name</th>\n",
              "      <th>number</th>\n",
              "      <th>limit</th>\n",
              "      <th>exclusive</th>\n",
              "      <th>target_gender</th>\n",
              "      <th>buy_gender</th>\n",
              "      <th>buy_age</th>\n",
              "      <th>view</th>\n",
              "      <th>like</th>\n",
              "      <th>price</th>\n",
              "      <th>discount_rate</th>\n",
              "      <th>delivery_date</th>\n",
              "      <th>rating</th>\n",
              "      <th>review</th>\n",
              "      <th>buy</th>\n",
              "      <th>score</th>\n",
              "      <th>buy_age1</th>\n",
              "      <th>buy_age2</th>\n",
              "    </tr>\n",
              "  </thead>\n",
              "  <tbody>\n",
              "    <tr>\n",
              "      <th>0</th>\n",
              "      <td>1</td>\n",
              "      <td>19</td>\n",
              "      <td>오버사이즈 16골 에센셜 코듀로이 셔츠 블랙</td>\n",
              "      <td>22FWGS28BK</td>\n",
              "      <td>1</td>\n",
              "      <td>0</td>\n",
              "      <td>2</td>\n",
              "      <td>0.0</td>\n",
              "      <td>('29~33세', 0)</td>\n",
              "      <td>1200.0</td>\n",
              "      <td>493</td>\n",
              "      <td>39800.0</td>\n",
              "      <td>20</td>\n",
              "      <td>19.0</td>\n",
              "      <td>4.6</td>\n",
              "      <td>36</td>\n",
              "      <td>50.0</td>\n",
              "      <td>0.976190</td>\n",
              "      <td>4</td>\n",
              "      <td>0</td>\n",
              "    </tr>\n",
              "    <tr>\n",
              "      <th>1</th>\n",
              "      <td>1</td>\n",
              "      <td>8</td>\n",
              "      <td>TD5-SW01 램스울 라운드 니트-만다린오렌지</td>\n",
              "      <td>TD5-SW01_MAO</td>\n",
              "      <td>1</td>\n",
              "      <td>0</td>\n",
              "      <td>0</td>\n",
              "      <td>0.0</td>\n",
              "      <td>('29~33세', 0)</td>\n",
              "      <td>4900.0</td>\n",
              "      <td>650</td>\n",
              "      <td>53550.0</td>\n",
              "      <td>10</td>\n",
              "      <td>5.0</td>\n",
              "      <td>4.9</td>\n",
              "      <td>61</td>\n",
              "      <td>200.0</td>\n",
              "      <td>0.954545</td>\n",
              "      <td>4</td>\n",
              "      <td>0</td>\n",
              "    </tr>\n",
              "    <tr>\n",
              "      <th>2</th>\n",
              "      <td>1</td>\n",
              "      <td>38</td>\n",
              "      <td>[SET UP] PPP 플라워 후드 셋업_멜란지 그레이</td>\n",
              "      <td>KBCS1TH003MGKBCS1PL003MGKBCS1PS003MG</td>\n",
              "      <td>1</td>\n",
              "      <td>0</td>\n",
              "      <td>2</td>\n",
              "      <td>1.0</td>\n",
              "      <td>('19~23세', 0)</td>\n",
              "      <td>3600.0</td>\n",
              "      <td>2536</td>\n",
              "      <td>49900.0</td>\n",
              "      <td>49</td>\n",
              "      <td>5.0</td>\n",
              "      <td>4.8</td>\n",
              "      <td>41</td>\n",
              "      <td>150.0</td>\n",
              "      <td>1.000000</td>\n",
              "      <td>2</td>\n",
              "      <td>0</td>\n",
              "    </tr>\n",
              "    <tr>\n",
              "      <th>3</th>\n",
              "      <td>1</td>\n",
              "      <td>38</td>\n",
              "      <td>TIE DYE 후드티 Olive Green</td>\n",
              "      <td>CTTZPHD01UG4</td>\n",
              "      <td>0</td>\n",
              "      <td>0</td>\n",
              "      <td>0</td>\n",
              "      <td>0.0</td>\n",
              "      <td>('40세~', 0)</td>\n",
              "      <td>1000.0</td>\n",
              "      <td>569</td>\n",
              "      <td>19800.0</td>\n",
              "      <td>80</td>\n",
              "      <td>5.0</td>\n",
              "      <td>4.8</td>\n",
              "      <td>62</td>\n",
              "      <td>150.0</td>\n",
              "      <td>0.971429</td>\n",
              "      <td>6</td>\n",
              "      <td>0</td>\n",
              "    </tr>\n",
              "    <tr>\n",
              "      <th>5</th>\n",
              "      <td>1</td>\n",
              "      <td>8</td>\n",
              "      <td>린넨 코튼 니트 후디 DUSTY GREEN</td>\n",
              "      <td>IM2C2KT03GE</td>\n",
              "      <td>1</td>\n",
              "      <td>0</td>\n",
              "      <td>0</td>\n",
              "      <td>0.0</td>\n",
              "      <td>('24~28세', 0)</td>\n",
              "      <td>2800.0</td>\n",
              "      <td>442</td>\n",
              "      <td>108000.0</td>\n",
              "      <td>30</td>\n",
              "      <td>5.0</td>\n",
              "      <td>4.9</td>\n",
              "      <td>12</td>\n",
              "      <td>50.0</td>\n",
              "      <td>1.000000</td>\n",
              "      <td>3</td>\n",
              "      <td>0</td>\n",
              "    </tr>\n",
              "    <tr>\n",
              "      <th>...</th>\n",
              "      <td>...</td>\n",
              "      <td>...</td>\n",
              "      <td>...</td>\n",
              "      <td>...</td>\n",
              "      <td>...</td>\n",
              "      <td>...</td>\n",
              "      <td>...</td>\n",
              "      <td>...</td>\n",
              "      <td>...</td>\n",
              "      <td>...</td>\n",
              "      <td>...</td>\n",
              "      <td>...</td>\n",
              "      <td>...</td>\n",
              "      <td>...</td>\n",
              "      <td>...</td>\n",
              "      <td>...</td>\n",
              "      <td>...</td>\n",
              "      <td>...</td>\n",
              "      <td>...</td>\n",
              "      <td>...</td>\n",
              "    </tr>\n",
              "    <tr>\n",
              "      <th>4926</th>\n",
              "      <td>2</td>\n",
              "      <td>21</td>\n",
              "      <td>다운 숏 푸퍼-블랙</td>\n",
              "      <td>P22FWOT001</td>\n",
              "      <td>0</td>\n",
              "      <td>0</td>\n",
              "      <td>2</td>\n",
              "      <td>0.0</td>\n",
              "      <td>('19~23세', 0)</td>\n",
              "      <td>2900.0</td>\n",
              "      <td>771</td>\n",
              "      <td>139000.0</td>\n",
              "      <td>43</td>\n",
              "      <td>5.0</td>\n",
              "      <td>4.9</td>\n",
              "      <td>17</td>\n",
              "      <td>50.0</td>\n",
              "      <td>0.964286</td>\n",
              "      <td>2</td>\n",
              "      <td>0</td>\n",
              "    </tr>\n",
              "    <tr>\n",
              "      <th>4927</th>\n",
              "      <td>2</td>\n",
              "      <td>25</td>\n",
              "      <td>나일론 아노락 자켓 - 블랙 / 2033B427-001</td>\n",
              "      <td>2033B427-001</td>\n",
              "      <td>0</td>\n",
              "      <td>1</td>\n",
              "      <td>0</td>\n",
              "      <td>0.0</td>\n",
              "      <td>('24~28세', 0)</td>\n",
              "      <td>2100.0</td>\n",
              "      <td>1275</td>\n",
              "      <td>87200.0</td>\n",
              "      <td>20</td>\n",
              "      <td>4.0</td>\n",
              "      <td>4.9</td>\n",
              "      <td>222</td>\n",
              "      <td>300.0</td>\n",
              "      <td>0.987500</td>\n",
              "      <td>3</td>\n",
              "      <td>0</td>\n",
              "    </tr>\n",
              "    <tr>\n",
              "      <th>4928</th>\n",
              "      <td>2</td>\n",
              "      <td>33</td>\n",
              "      <td>[MENS] 리버서블 패딩 조끼(10 color)</td>\n",
              "      <td>HBA-VT-M201</td>\n",
              "      <td>0</td>\n",
              "      <td>0</td>\n",
              "      <td>0</td>\n",
              "      <td>0.0</td>\n",
              "      <td>('34~39세', 0)</td>\n",
              "      <td>1400.0</td>\n",
              "      <td>198</td>\n",
              "      <td>38400.0</td>\n",
              "      <td>60</td>\n",
              "      <td>5.0</td>\n",
              "      <td>4.8</td>\n",
              "      <td>33</td>\n",
              "      <td>100.0</td>\n",
              "      <td>0.976190</td>\n",
              "      <td>5</td>\n",
              "      <td>0</td>\n",
              "    </tr>\n",
              "    <tr>\n",
              "      <th>4929</th>\n",
              "      <td>2</td>\n",
              "      <td>21</td>\n",
              "      <td>숏 미니멀 덕다운 패딩 블랙</td>\n",
              "      <td>3001</td>\n",
              "      <td>0</td>\n",
              "      <td>1</td>\n",
              "      <td>0</td>\n",
              "      <td>0.0</td>\n",
              "      <td>('29~33세', 0)</td>\n",
              "      <td>3300.0</td>\n",
              "      <td>2028</td>\n",
              "      <td>238400.0</td>\n",
              "      <td>20</td>\n",
              "      <td>7.0</td>\n",
              "      <td>4.8</td>\n",
              "      <td>87</td>\n",
              "      <td>100.0</td>\n",
              "      <td>0.988095</td>\n",
              "      <td>4</td>\n",
              "      <td>0</td>\n",
              "    </tr>\n",
              "    <tr>\n",
              "      <th>4930</th>\n",
              "      <td>2</td>\n",
              "      <td>26</td>\n",
              "      <td>Pocket Tidy Hood Anorak H7 Navy/Green</td>\n",
              "      <td>409</td>\n",
              "      <td>1</td>\n",
              "      <td>0</td>\n",
              "      <td>2</td>\n",
              "      <td>1.0</td>\n",
              "      <td>('34~39세', 0)</td>\n",
              "      <td>400.0</td>\n",
              "      <td>368</td>\n",
              "      <td>53000.0</td>\n",
              "      <td>40</td>\n",
              "      <td>5.0</td>\n",
              "      <td>5.0</td>\n",
              "      <td>22</td>\n",
              "      <td>50.0</td>\n",
              "      <td>0.947368</td>\n",
              "      <td>5</td>\n",
              "      <td>0</td>\n",
              "    </tr>\n",
              "  </tbody>\n",
              "</table>\n",
              "<p>3877 rows × 20 columns</p>\n",
              "</div>"
            ],
            "text/plain": [
              "      major_category  middle_category                                   name  \\\n",
              "0                  1               19               오버사이즈 16골 에센셜 코듀로이 셔츠 블랙   \n",
              "1                  1                8             TD5-SW01 램스울 라운드 니트-만다린오렌지   \n",
              "2                  1               38         [SET UP] PPP 플라워 후드 셋업_멜란지 그레이   \n",
              "3                  1               38                TIE DYE 후드티 Olive Green   \n",
              "5                  1                8                린넨 코튼 니트 후디 DUSTY GREEN   \n",
              "...              ...              ...                                    ...   \n",
              "4926               2               21                             다운 숏 푸퍼-블랙   \n",
              "4927               2               25         나일론 아노락 자켓 - 블랙 / 2033B427-001   \n",
              "4928               2               33            [MENS] 리버서블 패딩 조끼(10 color)   \n",
              "4929               2               21                        숏 미니멀 덕다운 패딩 블랙   \n",
              "4930               2               26  Pocket Tidy Hood Anorak H7 Navy/Green   \n",
              "\n",
              "                                    number  limit  exclusive  target_gender  \\\n",
              "0                               22FWGS28BK      1          0              2   \n",
              "1                             TD5-SW01_MAO      1          0              0   \n",
              "2     KBCS1TH003MGKBCS1PL003MGKBCS1PS003MG      1          0              2   \n",
              "3                             CTTZPHD01UG4      0          0              0   \n",
              "5                              IM2C2KT03GE      1          0              0   \n",
              "...                                    ...    ...        ...            ...   \n",
              "4926                            P22FWOT001      0          0              2   \n",
              "4927                          2033B427-001      0          1              0   \n",
              "4928                           HBA-VT-M201      0          0              0   \n",
              "4929                                  3001      0          1              0   \n",
              "4930                                   409      1          0              2   \n",
              "\n",
              "      buy_gender        buy_age    view  like     price  discount_rate  \\\n",
              "0            0.0  ('29~33세', 0)  1200.0   493   39800.0             20   \n",
              "1            0.0  ('29~33세', 0)  4900.0   650   53550.0             10   \n",
              "2            1.0  ('19~23세', 0)  3600.0  2536   49900.0             49   \n",
              "3            0.0    ('40세~', 0)  1000.0   569   19800.0             80   \n",
              "5            0.0  ('24~28세', 0)  2800.0   442  108000.0             30   \n",
              "...          ...            ...     ...   ...       ...            ...   \n",
              "4926         0.0  ('19~23세', 0)  2900.0   771  139000.0             43   \n",
              "4927         0.0  ('24~28세', 0)  2100.0  1275   87200.0             20   \n",
              "4928         0.0  ('34~39세', 0)  1400.0   198   38400.0             60   \n",
              "4929         0.0  ('29~33세', 0)  3300.0  2028  238400.0             20   \n",
              "4930         1.0  ('34~39세', 0)   400.0   368   53000.0             40   \n",
              "\n",
              "      delivery_date  rating  review    buy     score  buy_age1  buy_age2  \n",
              "0              19.0     4.6      36   50.0  0.976190         4         0  \n",
              "1               5.0     4.9      61  200.0  0.954545         4         0  \n",
              "2               5.0     4.8      41  150.0  1.000000         2         0  \n",
              "3               5.0     4.8      62  150.0  0.971429         6         0  \n",
              "5               5.0     4.9      12   50.0  1.000000         3         0  \n",
              "...             ...     ...     ...    ...       ...       ...       ...  \n",
              "4926            5.0     4.9      17   50.0  0.964286         2         0  \n",
              "4927            4.0     4.9     222  300.0  0.987500         3         0  \n",
              "4928            5.0     4.8      33  100.0  0.976190         5         0  \n",
              "4929            7.0     4.8      87  100.0  0.988095         4         0  \n",
              "4930            5.0     5.0      22   50.0  0.947368         5         0  \n",
              "\n",
              "[3877 rows x 20 columns]"
            ]
          },
          "execution_count": 40,
          "metadata": {},
          "output_type": "execute_result"
        }
      ],
      "source": [
        "df=IQR_df\n",
        "df"
      ]
    },
    {
      "cell_type": "code",
      "execution_count": null,
      "metadata": {
        "id": "aCqiQGgf-kyn",
        "outputId": "e4b1f33d-96af-41c9-c29a-cd275cd3469a"
      },
      "outputs": [
        {
          "name": "stdout",
          "output_type": "stream",
          "text": [
            "      limit  exclusive  target_gender  buy_gender    view  like     price  \\\n",
            "0         1          0              2         0.0  1200.0   493   39800.0   \n",
            "1         1          0              0         0.0  4900.0   650   53550.0   \n",
            "2         1          0              2         1.0  3600.0  2536   49900.0   \n",
            "3         0          0              0         0.0  1000.0   569   19800.0   \n",
            "5         1          0              0         0.0  2800.0   442  108000.0   \n",
            "...     ...        ...            ...         ...     ...   ...       ...   \n",
            "4926      0          0              2         0.0  2900.0   771  139000.0   \n",
            "4927      0          1              0         0.0  2100.0  1275   87200.0   \n",
            "4928      0          0              0         0.0  1400.0   198   38400.0   \n",
            "4929      0          1              0         0.0  3300.0  2028  238400.0   \n",
            "4930      1          0              2         1.0   400.0   368   53000.0   \n",
            "\n",
            "      discount_rate  delivery_date  rating  review     score  buy_age1  \\\n",
            "0                20           19.0     4.6      36  0.976190         4   \n",
            "1                10            5.0     4.9      61  0.954545         4   \n",
            "2                49            5.0     4.8      41  1.000000         2   \n",
            "3                80            5.0     4.8      62  0.971429         6   \n",
            "5                30            5.0     4.9      12  1.000000         3   \n",
            "...             ...            ...     ...     ...       ...       ...   \n",
            "4926             43            5.0     4.9      17  0.964286         2   \n",
            "4927             20            4.0     4.9     222  0.987500         3   \n",
            "4928             60            5.0     4.8      33  0.976190         5   \n",
            "4929             20            7.0     4.8      87  0.988095         4   \n",
            "4930             40            5.0     5.0      22  0.947368         5   \n",
            "\n",
            "      buy_age2  \n",
            "0            0  \n",
            "1            0  \n",
            "2            0  \n",
            "3            0  \n",
            "5            0  \n",
            "...        ...  \n",
            "4926         0  \n",
            "4927         0  \n",
            "4928         0  \n",
            "4929         0  \n",
            "4930         0  \n",
            "\n",
            "[3877 rows x 14 columns]\n",
            "\n",
            "\n",
            "0        50.0\n",
            "1       200.0\n",
            "2       150.0\n",
            "3       150.0\n",
            "5        50.0\n",
            "        ...  \n",
            "4926     50.0\n",
            "4927    300.0\n",
            "4928    100.0\n",
            "4929    100.0\n",
            "4930     50.0\n",
            "Name: buy, Length: 3877, dtype: float64\n"
          ]
        }
      ],
      "source": [
        "X = df.drop(['name','number','buy_age','buy','major_category','middle_category'],axis=1)\n",
        "print(X)\n",
        "y = df[\"buy\"]\n",
        "print('\\n')\n",
        "print(y)"
      ]
    },
    {
      "cell_type": "code",
      "execution_count": null,
      "metadata": {
        "id": "yeJhRcuD-kyn"
      },
      "outputs": [],
      "source": [
        "# 데이터 분할\n",
        "from sklearn.model_selection import train_test_split\n",
        "X_train, X_test, y_train, y_test = train_test_split(X, y,random_state=13)"
      ]
    },
    {
      "cell_type": "code",
      "execution_count": null,
      "metadata": {
        "id": "TKi9hL8g-kyo"
      },
      "outputs": [],
      "source": [
        "from sklearn.preprocessing import PolynomialFeatures"
      ]
    },
    {
      "cell_type": "code",
      "execution_count": null,
      "metadata": {
        "id": "w-HBgYyY-kyo",
        "outputId": "afc488cc-9422-4704-89f9-f4f7ce2b3b5c"
      },
      "outputs": [
        {
          "name": "stdout",
          "output_type": "stream",
          "text": [
            "(2907, 119)\n"
          ]
        }
      ],
      "source": [
        "poly=PolynomialFeatures(include_bias=False)\n",
        "poly.fit(X_train)\n",
        "train_poly=poly.transform(X_train)\n",
        "print(train_poly.shape)"
      ]
    },
    {
      "cell_type": "code",
      "execution_count": null,
      "metadata": {
        "id": "i57Darrs-kyo",
        "outputId": "d953afe2-d5d4-443d-f9f2-e4ddad45722e"
      },
      "outputs": [
        {
          "data": {
            "text/plain": [
              "array(['limit', 'exclusive', 'target_gender', 'buy_gender', 'view',\n",
              "       'like', 'price', 'discount_rate', 'delivery_date', 'rating',\n",
              "       'review', 'score', 'buy_age1', 'buy_age2', 'limit^2',\n",
              "       'limit exclusive', 'limit target_gender', 'limit buy_gender',\n",
              "       'limit view', 'limit like', 'limit price', 'limit discount_rate',\n",
              "       'limit delivery_date', 'limit rating', 'limit review',\n",
              "       'limit score', 'limit buy_age1', 'limit buy_age2', 'exclusive^2',\n",
              "       'exclusive target_gender', 'exclusive buy_gender',\n",
              "       'exclusive view', 'exclusive like', 'exclusive price',\n",
              "       'exclusive discount_rate', 'exclusive delivery_date',\n",
              "       'exclusive rating', 'exclusive review', 'exclusive score',\n",
              "       'exclusive buy_age1', 'exclusive buy_age2', 'target_gender^2',\n",
              "       'target_gender buy_gender', 'target_gender view',\n",
              "       'target_gender like', 'target_gender price',\n",
              "       'target_gender discount_rate', 'target_gender delivery_date',\n",
              "       'target_gender rating', 'target_gender review',\n",
              "       'target_gender score', 'target_gender buy_age1',\n",
              "       'target_gender buy_age2', 'buy_gender^2', 'buy_gender view',\n",
              "       'buy_gender like', 'buy_gender price', 'buy_gender discount_rate',\n",
              "       'buy_gender delivery_date', 'buy_gender rating',\n",
              "       'buy_gender review', 'buy_gender score', 'buy_gender buy_age1',\n",
              "       'buy_gender buy_age2', 'view^2', 'view like', 'view price',\n",
              "       'view discount_rate', 'view delivery_date', 'view rating',\n",
              "       'view review', 'view score', 'view buy_age1', 'view buy_age2',\n",
              "       'like^2', 'like price', 'like discount_rate', 'like delivery_date',\n",
              "       'like rating', 'like review', 'like score', 'like buy_age1',\n",
              "       'like buy_age2', 'price^2', 'price discount_rate',\n",
              "       'price delivery_date', 'price rating', 'price review',\n",
              "       'price score', 'price buy_age1', 'price buy_age2',\n",
              "       'discount_rate^2', 'discount_rate delivery_date',\n",
              "       'discount_rate rating', 'discount_rate review',\n",
              "       'discount_rate score', 'discount_rate buy_age1',\n",
              "       'discount_rate buy_age2', 'delivery_date^2',\n",
              "       'delivery_date rating', 'delivery_date review',\n",
              "       'delivery_date score', 'delivery_date buy_age1',\n",
              "       'delivery_date buy_age2', 'rating^2', 'rating review',\n",
              "       'rating score', 'rating buy_age1', 'rating buy_age2', 'review^2',\n",
              "       'review score', 'review buy_age1', 'review buy_age2', 'score^2',\n",
              "       'score buy_age1', 'score buy_age2', 'buy_age1^2',\n",
              "       'buy_age1 buy_age2', 'buy_age2^2'], dtype=object)"
            ]
          },
          "execution_count": 45,
          "metadata": {},
          "output_type": "execute_result"
        }
      ],
      "source": [
        "poly.get_feature_names_out()"
      ]
    },
    {
      "cell_type": "code",
      "execution_count": null,
      "metadata": {
        "id": "ieVPwPHu-kyo",
        "outputId": "e2a82e7e-4ce9-4e1f-bd57-9eb60078790f"
      },
      "outputs": [
        {
          "name": "stdout",
          "output_type": "stream",
          "text": [
            "(970, 119)\n"
          ]
        }
      ],
      "source": [
        "test_poly=poly.transform(X_test)\n",
        "print(test_poly.shape)"
      ]
    },
    {
      "cell_type": "markdown",
      "metadata": {
        "id": "sLcZwkAf-kyo"
      },
      "source": [
        "- 다중회귀모델 훈련"
      ]
    },
    {
      "cell_type": "code",
      "execution_count": null,
      "metadata": {
        "id": "wIxLBN0s-kyp",
        "outputId": "3a8bd3d1-eb4c-4770-f337-c6b653806c5e"
      },
      "outputs": [
        {
          "name": "stdout",
          "output_type": "stream",
          "text": [
            "0.7622950392793832\n",
            "0.7347577793383534\n"
          ]
        }
      ],
      "source": [
        "from sklearn.linear_model import LinearRegression\n",
        "\n",
        "# 모델링\n",
        "reg = LinearRegression()\n",
        "reg.fit(train_poly, y_train)\n",
        "\n",
        "print(reg.score(train_poly, y_train))\n",
        "print(reg.score(test_poly,y_test))"
      ]
    },
    {
      "cell_type": "markdown",
      "metadata": {
        "id": "iedWPjCe-kyp"
      },
      "source": [
        "정규화"
      ]
    },
    {
      "cell_type": "code",
      "execution_count": null,
      "metadata": {
        "id": "Aoko1sSj-kyp"
      },
      "outputs": [],
      "source": [
        "from sklearn.preprocessing import StandardScaler\n",
        "\n",
        "ss = StandardScaler()\n",
        "ss.fit(train_poly)\n",
        "\n",
        "train_scaled = ss.transform(train_poly)\n",
        "test_scaled = ss.transform(test_poly)"
      ]
    },
    {
      "cell_type": "markdown",
      "metadata": {
        "id": "tg4T8NAF-kyp"
      },
      "source": [
        "릿지 회귀 (계수를 제곱한 값으로 기준으로 규제를 적용)"
      ]
    },
    {
      "cell_type": "code",
      "execution_count": null,
      "metadata": {
        "id": "MEvqinY0-kyp",
        "outputId": "23ec3670-297b-4717-cd22-3a952df9e4cb"
      },
      "outputs": [
        {
          "name": "stdout",
          "output_type": "stream",
          "text": [
            "0.7617407377598635\n",
            "0.7387421341275175\n"
          ]
        }
      ],
      "source": [
        "from sklearn.linear_model import Ridge\n",
        "\n",
        "ridge = Ridge()\n",
        "ridge.fit(train_scaled, y_train)\n",
        "print(ridge.score(train_scaled, y_train))\n",
        "print(ridge.score(test_scaled,y_test))"
      ]
    },
    {
      "cell_type": "markdown",
      "metadata": {
        "id": "oE6fldTz-kyp"
      },
      "source": [
        "적절한 R^2값 구하기"
      ]
    },
    {
      "cell_type": "code",
      "execution_count": null,
      "metadata": {
        "id": "IWL2uSzY-kyp"
      },
      "outputs": [],
      "source": [
        "import matplotlib.pyplot as plt\n",
        "\n",
        "train_score = []\n",
        "test_score = []"
      ]
    },
    {
      "cell_type": "code",
      "execution_count": null,
      "metadata": {
        "id": "0ib5OoSg-kyq"
      },
      "outputs": [],
      "source": [
        "alpha_list =[10, 100, 1000, 10000, 100000, 1000000]\n",
        "for alpha in alpha_list:\n",
        "    # 릿지 모델을 만듭니다\n",
        "    ridge = Ridge(alpha=alpha)\n",
        "    # 릿지 모델을 훈련합니다\n",
        "    ridge.fit(train_scaled,  y_train)\n",
        "    # 훈련 점수와 테스트 점수를 저장합니다\n",
        "    train_score.append(ridge.score(train_scaled, y_train))\n",
        "    test_score.append(ridge.score(test_scaled, y_test))"
      ]
    },
    {
      "cell_type": "code",
      "execution_count": null,
      "metadata": {
        "id": "323SmBUK-kyq",
        "outputId": "aecb69c0-8b41-4d44-faac-d68ed4841622"
      },
      "outputs": [
        {
          "data": {
            "image/png": "[encoded data removed]",
            "text/plain": [
              "<Figure size 432x288 with 1 Axes>"
            ]
          },
          "metadata": {
            "needs_background": "light"
          },
          "output_type": "display_data"
        }
      ],
      "source": [
        "plt.plot(np.log10(alpha_list), train_score)\n",
        "plt.plot(np.log10(alpha_list), test_score)\n",
        "plt.xlabel('alpha')\n",
        "plt.ylabel('R^2')\n",
        "plt.show()"
      ]
    },
    {
      "cell_type": "code",
      "execution_count": null,
      "metadata": {
        "id": "MouTDhG2-kyq",
        "outputId": "4a8d41f6-672d-48fe-9a4e-44f89688146c"
      },
      "outputs": [
        {
          "name": "stdout",
          "output_type": "stream",
          "text": [
            "0.7275675655277203\n",
            "0.7240651196810919\n"
          ]
        }
      ],
      "source": [
        "from sklearn.linear_model import Ridge\n",
        "\n",
        "ridge = Ridge(alpha=1000)\n",
        "ridge.fit(train_scaled, y_train)\n",
        "print(ridge.score(train_scaled, y_train))\n",
        "print(ridge.score(test_scaled,y_test))"
      ]
    },
    {
      "cell_type": "code",
      "execution_count": null,
      "metadata": {
        "id": "aefbhp5F-kyq",
        "outputId": "a3415e3b-0d8b-41f4-f250-0256ff7f66c3"
      },
      "outputs": [
        {
          "name": "stdout",
          "output_type": "stream",
          "text": [
            "RMSE of Train Data :  115.87367912386568\n",
            "RMSE of Test Data :  115.94334296681711\n",
            "\n",
            "\n",
            "MAE of Train Data :  61.24376161857059\n",
            "MAE of Test Data :  61.20717317635547\n",
            "\n",
            "\n",
            "MSE of Train Data :  13426.709513700585\n",
            "MSE of Test Data :  13442.85877832098\n"
          ]
        }
      ],
      "source": [
        "import numpy as np\n",
        "from sklearn.metrics import mean_squared_error\n",
        "# regression은 분류문제와 같이 accuracy 같은 것이 없기 때문에\n",
        "# regression에 맞는 모델 성능 지표를 써야한다.\n",
        "# 대표적인 것이 mse이다\n",
        "\n",
        "\n",
        "pred_tr = ridge.predict(train_scaled)\n",
        "pred_test = ridge.predict(test_scaled)\n",
        "\n",
        "rmse_tr = np.sqrt(mean_squared_error(y_train, pred_tr))\n",
        "rmse_test = np.sqrt(mean_squared_error(y_test, pred_test))\n",
        "\n",
        "print(\"RMSE of Train Data : \", rmse_tr)\n",
        "print(\"RMSE of Test Data : \", rmse_test)\n",
        "\n",
        "mae_tr = mean_absolute_error(y_train, pred_tr)\n",
        "mae_test = mean_absolute_error(y_test, pred_test)\n",
        "print('\\n')\n",
        "print(\"MAE of Train Data : \", mae_tr)\n",
        "print(\"MAE of Test Data : \", mae_test)\n",
        "\n",
        "\n",
        "mse_tr = mean_squared_error(y_train, pred_tr)\n",
        "mse_test =mean_squared_error(y_test, pred_test)\n",
        "print('\\n')\n",
        "print(\"MSE of Train Data : \", mse_tr)\n",
        "print(\"MSE of Test Data : \", mse_test)"
      ]
    },
    {
      "cell_type": "markdown",
      "metadata": {
        "id": "-GQqq6B_-kyq"
      },
      "source": [
        "라쏘 회귀 (계수의 절대값을 기준으로 규제를 적용)"
      ]
    },
    {
      "cell_type": "code",
      "execution_count": null,
      "metadata": {
        "id": "LjoSndUp-kyq",
        "outputId": "a3271bcf-6c66-462e-f8b1-892eb91db001"
      },
      "outputs": [
        {
          "name": "stdout",
          "output_type": "stream",
          "text": [
            "0.7519617771509419\n"
          ]
        }
      ],
      "source": [
        "from sklearn.linear_model import Lasso\n",
        "\n",
        "lasso = Lasso()\n",
        "lasso.fit(train_scaled, y_train)\n",
        "print(lasso.score(train_scaled, y_train))"
      ]
    },
    {
      "cell_type": "code",
      "execution_count": null,
      "metadata": {
        "id": "GEfKlFqG-kyq",
        "outputId": "fe6c3d86-6ad6-4bc2-a964-5c89434320e2"
      },
      "outputs": [
        {
          "name": "stdout",
          "output_type": "stream",
          "text": [
            "0.7401587127140274\n"
          ]
        }
      ],
      "source": [
        "print(lasso.score(test_scaled, y_test))"
      ]
    },
    {
      "cell_type": "code",
      "execution_count": null,
      "metadata": {
        "id": "zx9y6tiK-kyr"
      },
      "outputs": [],
      "source": [
        "train_score = []\n",
        "test_score = []\n",
        "\n",
        "alpha_list =[0.1, 1, 10, 100, 1000, 10000]\n",
        "for alpha in alpha_list:\n",
        "    # 라쏘 모델을 만듭니다\n",
        "    lasso = Lasso(alpha=alpha, max_iter=10000)\n",
        "    # 라쏘 모델을 훈련합니다\n",
        "    lasso.fit(train_scaled, y_train)\n",
        "    # 훈련 점수와 테스트 점수를 저장합니다\n",
        "    train_score.append(lasso.score(train_scaled, y_train))\n",
        "    test_score.append(lasso.score(test_scaled, y_test))"
      ]
    },
    {
      "cell_type": "code",
      "execution_count": null,
      "metadata": {
        "id": "gdhC2WSb-kyr",
        "outputId": "05c334da-d400-4bc2-ab95-b0d438db9fdf"
      },
      "outputs": [
        {
          "data": {
            "image/png": "[encoded data removed]",
            "text/plain": [
              "<Figure size 432x288 with 1 Axes>"
            ]
          },
          "metadata": {
            "needs_background": "light"
          },
          "output_type": "display_data"
        }
      ],
      "source": [
        "plt.plot(np.log10(alpha_list), train_score)\n",
        "plt.plot(np.log10(alpha_list), test_score)\n",
        "plt.xlabel('alpha')\n",
        "plt.ylabel('R^2')\n",
        "plt.show()"
      ]
    },
    {
      "cell_type": "code",
      "execution_count": null,
      "metadata": {
        "id": "QHilW6yD-kyr",
        "outputId": "8facc879-67cb-48e5-8360-95659b69dc3d"
      },
      "outputs": [
        {
          "name": "stdout",
          "output_type": "stream",
          "text": [
            "0.7519617771509419\n",
            "0.7401587127140274\n"
          ]
        }
      ],
      "source": [
        "lasso = Lasso(alpha=1)\n",
        "lasso.fit(train_scaled, y_train)\n",
        "\n",
        "print(lasso.score(train_scaled,y_train))\n",
        "print(lasso.score(test_scaled, y_test))"
      ]
    },
    {
      "cell_type": "code",
      "execution_count": null,
      "metadata": {
        "id": "bruvRvi6-kyr",
        "outputId": "2dada0c5-45a9-4c52-8c96-54ccd708a1cb"
      },
      "outputs": [
        {
          "name": "stdout",
          "output_type": "stream",
          "text": [
            "RMSE of Train Data :  110.56424290552195\n",
            "RMSE of Test Data :  112.51141758526089\n",
            "\n",
            "\n",
            "MAE of Train Data :  58.31354726695746\n",
            "MAE of Test Data :  58.57012846117348\n",
            "\n",
            "\n",
            "MSE of Train Data :  12224.451809271262\n",
            "MSE of Test Data :  12658.819087044953\n"
          ]
        }
      ],
      "source": [
        "# regression은 분류문제와 같이 accuracy 같은 것이 없기 때문에\n",
        "# regression에 맞는 모델 성능 지표를 써야한다.\n",
        "# 대표적인 것이 mse이다\n",
        "\n",
        "\n",
        "pred_tr = lasso.predict(train_scaled)\n",
        "pred_test = lasso.predict(test_scaled)\n",
        "\n",
        "rmse_tr = np.sqrt(mean_squared_error(y_train, pred_tr))\n",
        "rmse_test = np.sqrt(mean_squared_error(y_test, pred_test))\n",
        "\n",
        "print(\"RMSE of Train Data : \", rmse_tr)\n",
        "print(\"RMSE of Test Data : \", rmse_test)\n",
        "\n",
        "mae_tr = mean_absolute_error(y_train, pred_tr)\n",
        "mae_test = mean_absolute_error(y_test, pred_test)\n",
        "print('\\n')\n",
        "print(\"MAE of Train Data : \", mae_tr)\n",
        "print(\"MAE of Test Data : \", mae_test)\n",
        "\n",
        "mse_tr = mean_squared_error(y_train, pred_tr)\n",
        "mse_test =mean_squared_error(y_test, pred_test)\n",
        "print('\\n')\n",
        "print(\"MSE of Train Data : \", mse_tr)\n",
        "print(\"MSE of Test Data : \", mse_test)"
      ]
    }
  ],
  "metadata": {
    "accelerator": "GPU",
    "colab": {
      "gpuType": "T4",
      "provenance": []
    },
    "kernelspec": {
      "display_name": "Python 3 (ipykernel)",
      "language": "python",
      "name": "python3"
    },
    "language_info": {
      "codemirror_mode": {
        "name": "ipython",
        "version": 3
      },
      "file_extension": ".py",
      "mimetype": "text/x-python",
      "name": "python",
      "nbconvert_exporter": "python",
      "pygments_lexer": "ipython3",
      "version": "3.9.12"
    }
  },
  "nbformat": 4,
  "nbformat_minor": 0
}